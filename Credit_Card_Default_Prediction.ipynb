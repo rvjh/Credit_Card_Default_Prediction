{
 "cells": [
  {
   "cell_type": "markdown",
   "id": "b4c4826a",
   "metadata": {
    "id": "f6d1de72"
   },
   "source": [
    "# Importing Libraries\n"
   ]
  },
  {
   "cell_type": "code",
   "execution_count": null,
   "id": "ddb2d2c6",
   "metadata": {},
   "outputs": [],
   "source": [
    "## importing important libraries\n",
    "\n",
    "import pandas as pd\n",
    "import numpy as np\n",
    "import matplotlib.pyplot as plt\n",
    "import seaborn as sns"
   ]
  },
  {
   "cell_type": "code",
   "execution_count": 2,
   "id": "96a59324",
   "metadata": {
    "colab": {
     "base_uri": "https://localhost:8080/",
     "height": 224
    },
    "id": "96a59324",
    "outputId": "44efe527-7b26-47c3-e70d-ac706af9304e"
   },
   "outputs": [
    {
     "data": {
      "text/html": [
       "<div>\n",
       "<style scoped>\n",
       "    .dataframe tbody tr th:only-of-type {\n",
       "        vertical-align: middle;\n",
       "    }\n",
       "\n",
       "    .dataframe tbody tr th {\n",
       "        vertical-align: top;\n",
       "    }\n",
       "\n",
       "    .dataframe thead th {\n",
       "        text-align: right;\n",
       "    }\n",
       "</style>\n",
       "<table border=\"1\" class=\"dataframe\">\n",
       "  <thead>\n",
       "    <tr style=\"text-align: right;\">\n",
       "      <th></th>\n",
       "      <th>ID</th>\n",
       "      <th>LIMIT_BAL</th>\n",
       "      <th>SEX</th>\n",
       "      <th>EDUCATION</th>\n",
       "      <th>MARRIAGE</th>\n",
       "      <th>AGE</th>\n",
       "      <th>PAY_0</th>\n",
       "      <th>PAY_2</th>\n",
       "      <th>PAY_3</th>\n",
       "      <th>PAY_4</th>\n",
       "      <th>PAY_5</th>\n",
       "      <th>PAY_6</th>\n",
       "      <th>BILL_AMT1</th>\n",
       "      <th>BILL_AMT2</th>\n",
       "      <th>BILL_AMT3</th>\n",
       "      <th>BILL_AMT4</th>\n",
       "      <th>BILL_AMT5</th>\n",
       "      <th>BILL_AMT6</th>\n",
       "      <th>PAY_AMT1</th>\n",
       "      <th>PAY_AMT2</th>\n",
       "      <th>PAY_AMT3</th>\n",
       "      <th>PAY_AMT4</th>\n",
       "      <th>PAY_AMT5</th>\n",
       "      <th>PAY_AMT6</th>\n",
       "      <th>default.payment.next.month</th>\n",
       "    </tr>\n",
       "  </thead>\n",
       "  <tbody>\n",
       "    <tr>\n",
       "      <th>0</th>\n",
       "      <td>1</td>\n",
       "      <td>20000.0</td>\n",
       "      <td>2</td>\n",
       "      <td>2</td>\n",
       "      <td>1</td>\n",
       "      <td>24</td>\n",
       "      <td>2</td>\n",
       "      <td>2</td>\n",
       "      <td>-1</td>\n",
       "      <td>-1</td>\n",
       "      <td>-2</td>\n",
       "      <td>-2</td>\n",
       "      <td>3913.0</td>\n",
       "      <td>3102.0</td>\n",
       "      <td>689.0</td>\n",
       "      <td>0.0</td>\n",
       "      <td>0.0</td>\n",
       "      <td>0.0</td>\n",
       "      <td>0.0</td>\n",
       "      <td>689.0</td>\n",
       "      <td>0.0</td>\n",
       "      <td>0.0</td>\n",
       "      <td>0.0</td>\n",
       "      <td>0.0</td>\n",
       "      <td>1</td>\n",
       "    </tr>\n",
       "    <tr>\n",
       "      <th>1</th>\n",
       "      <td>2</td>\n",
       "      <td>120000.0</td>\n",
       "      <td>2</td>\n",
       "      <td>2</td>\n",
       "      <td>2</td>\n",
       "      <td>26</td>\n",
       "      <td>-1</td>\n",
       "      <td>2</td>\n",
       "      <td>0</td>\n",
       "      <td>0</td>\n",
       "      <td>0</td>\n",
       "      <td>2</td>\n",
       "      <td>2682.0</td>\n",
       "      <td>1725.0</td>\n",
       "      <td>2682.0</td>\n",
       "      <td>3272.0</td>\n",
       "      <td>3455.0</td>\n",
       "      <td>3261.0</td>\n",
       "      <td>0.0</td>\n",
       "      <td>1000.0</td>\n",
       "      <td>1000.0</td>\n",
       "      <td>1000.0</td>\n",
       "      <td>0.0</td>\n",
       "      <td>2000.0</td>\n",
       "      <td>1</td>\n",
       "    </tr>\n",
       "    <tr>\n",
       "      <th>2</th>\n",
       "      <td>3</td>\n",
       "      <td>90000.0</td>\n",
       "      <td>2</td>\n",
       "      <td>2</td>\n",
       "      <td>2</td>\n",
       "      <td>34</td>\n",
       "      <td>0</td>\n",
       "      <td>0</td>\n",
       "      <td>0</td>\n",
       "      <td>0</td>\n",
       "      <td>0</td>\n",
       "      <td>0</td>\n",
       "      <td>29239.0</td>\n",
       "      <td>14027.0</td>\n",
       "      <td>13559.0</td>\n",
       "      <td>14331.0</td>\n",
       "      <td>14948.0</td>\n",
       "      <td>15549.0</td>\n",
       "      <td>1518.0</td>\n",
       "      <td>1500.0</td>\n",
       "      <td>1000.0</td>\n",
       "      <td>1000.0</td>\n",
       "      <td>1000.0</td>\n",
       "      <td>5000.0</td>\n",
       "      <td>0</td>\n",
       "    </tr>\n",
       "    <tr>\n",
       "      <th>3</th>\n",
       "      <td>4</td>\n",
       "      <td>50000.0</td>\n",
       "      <td>2</td>\n",
       "      <td>2</td>\n",
       "      <td>1</td>\n",
       "      <td>37</td>\n",
       "      <td>0</td>\n",
       "      <td>0</td>\n",
       "      <td>0</td>\n",
       "      <td>0</td>\n",
       "      <td>0</td>\n",
       "      <td>0</td>\n",
       "      <td>46990.0</td>\n",
       "      <td>48233.0</td>\n",
       "      <td>49291.0</td>\n",
       "      <td>28314.0</td>\n",
       "      <td>28959.0</td>\n",
       "      <td>29547.0</td>\n",
       "      <td>2000.0</td>\n",
       "      <td>2019.0</td>\n",
       "      <td>1200.0</td>\n",
       "      <td>1100.0</td>\n",
       "      <td>1069.0</td>\n",
       "      <td>1000.0</td>\n",
       "      <td>0</td>\n",
       "    </tr>\n",
       "    <tr>\n",
       "      <th>4</th>\n",
       "      <td>5</td>\n",
       "      <td>50000.0</td>\n",
       "      <td>1</td>\n",
       "      <td>2</td>\n",
       "      <td>1</td>\n",
       "      <td>57</td>\n",
       "      <td>-1</td>\n",
       "      <td>0</td>\n",
       "      <td>-1</td>\n",
       "      <td>0</td>\n",
       "      <td>0</td>\n",
       "      <td>0</td>\n",
       "      <td>8617.0</td>\n",
       "      <td>5670.0</td>\n",
       "      <td>35835.0</td>\n",
       "      <td>20940.0</td>\n",
       "      <td>19146.0</td>\n",
       "      <td>19131.0</td>\n",
       "      <td>2000.0</td>\n",
       "      <td>36681.0</td>\n",
       "      <td>10000.0</td>\n",
       "      <td>9000.0</td>\n",
       "      <td>689.0</td>\n",
       "      <td>679.0</td>\n",
       "      <td>0</td>\n",
       "    </tr>\n",
       "  </tbody>\n",
       "</table>\n",
       "</div>"
      ],
      "text/plain": [
       "   ID  LIMIT_BAL  SEX  ...  PAY_AMT5  PAY_AMT6  default.payment.next.month\n",
       "0   1    20000.0    2  ...       0.0       0.0                           1\n",
       "1   2   120000.0    2  ...       0.0    2000.0                           1\n",
       "2   3    90000.0    2  ...    1000.0    5000.0                           0\n",
       "3   4    50000.0    2  ...    1069.0    1000.0                           0\n",
       "4   5    50000.0    1  ...     689.0     679.0                           0\n",
       "\n",
       "[5 rows x 25 columns]"
      ]
     },
     "execution_count": 2,
     "metadata": {},
     "output_type": "execute_result"
    }
   ],
   "source": [
    "## reading the dataset\n",
    "\n",
    "df = pd.read_csv('UCI_Credit_Card.csv')\n",
    "df.head()"
   ]
  },
  {
   "cell_type": "code",
   "execution_count": 3,
   "id": "d132d93f",
   "metadata": {
    "colab": {
     "base_uri": "https://localhost:8080/"
    },
    "id": "d132d93f",
    "outputId": "9f9ec032-e9c2-4c8a-a7c3-686b012258b6"
   },
   "outputs": [
    {
     "data": {
      "text/plain": [
       "Index(['ID', 'LIMIT_BAL', 'SEX', 'EDUCATION', 'MARRIAGE', 'AGE', 'PAY_0',\n",
       "       'PAY_2', 'PAY_3', 'PAY_4', 'PAY_5', 'PAY_6', 'BILL_AMT1', 'BILL_AMT2',\n",
       "       'BILL_AMT3', 'BILL_AMT4', 'BILL_AMT5', 'BILL_AMT6', 'PAY_AMT1',\n",
       "       'PAY_AMT2', 'PAY_AMT3', 'PAY_AMT4', 'PAY_AMT5', 'PAY_AMT6',\n",
       "       'default.payment.next.month'],\n",
       "      dtype='object')"
      ]
     },
     "execution_count": 3,
     "metadata": {},
     "output_type": "execute_result"
    }
   ],
   "source": [
    "## showing the columns present\n",
    "\n",
    "df.columns"
   ]
  },
  {
   "cell_type": "markdown",
   "id": "9889cc34",
   "metadata": {
    "id": "9889cc34"
   },
   "source": [
    "## Dataset Features:\n",
    "\n",
    "* There are 25 variables in total:\n",
    "\n",
    "1. ID: ID of each client\n",
    "\n",
    "2. LIMIT_BAL: Amount of given credit in NT dollars (includes individual and family/supplementary credit\n",
    "\n",
    "3. SEX: Gender (1=male, 2=female)\n",
    "\n",
    "4. EDUCATION: (1=graduate school, 2=university, 3=high school, 4=others, 5=unknown, 6=unknown)\n",
    "\n",
    "5. MARRIAGE: Marital status (1=married, 2=single, 3=others)\n",
    "\n",
    "6. AGE: Age in years\n",
    "\n",
    "7. PAY_0: Repayment status in September, 2005 (-1=pay duly, 1=payment delay for one month, 2=payment delay for two months, … \n",
    "8=payment delay for eight months, 9=payment delay for nine months and above)\n",
    "\n",
    "8. PAY_2: Repayment status in August, 2005 (scale same as above)\n",
    "\n",
    "9. PAY_3: Repayment status in July, 2005 (scale same as above)\n",
    "\n",
    "10. PAY_4: Repayment status in June, 2005 (scale same as above)\n",
    "\n",
    "11. PAY_5: Repayment status in May, 2005 (scale same as above)\n",
    "\n",
    "12. PAY_6: Repayment status in April, 2005 (scale same as above)\n",
    "\n",
    "13. BILL_AMT1: Amount of bill statement in September, 2005 (NT dollar)\n",
    "\n",
    "14. BILL_AMT2: Amount of bill statement in August, 2005 (NT dollar)\n",
    "\n",
    "15. BILL_AMT3: Amount of bill statement in July, 2005 (NT dollar)\n",
    "\n",
    "16. BILL_AMT4: Amount of bill statement in June, 2005 (NT dollar)\n",
    "\n",
    "17. BILL_AMT5: Amount of bill statement in May, 2005 (NT dollar)\n",
    "\n",
    "18. BILL_AMT6: Amount of bill statement in April, 2005 (NT dollar)\n",
    "\n",
    "19. PAY_AMT1: Amount of previous payment in September, 2005 (NT dollar)\n",
    "\n",
    "20. PAY_AMT2: Amount of previous payment in August, 2005 (NT dollar)\n",
    "\n",
    "21. PAY_AMT3: Amount of previous payment in July, 2005 (NT dollar)\n",
    "\n",
    "22. PAY_AMT4: Amount of previous payment in June, 2005 (NT dollar)\n",
    "\n",
    "23. PAY_AMT5: Amount of previous payment in May, 2005 (NT dollar)\n",
    "\n",
    "24. PAY_AMT6: Amount of previous payment in April, 2005 (NT dollar)\n",
    "\n",
    "25. default.payment.next.month: Default payment (1=yes, 0=no)"
   ]
  },
  {
   "cell_type": "markdown",
   "id": "8f85f59d",
   "metadata": {
    "id": "8f85f59d"
   },
   "source": [
    "# EDA"
   ]
  },
  {
   "cell_type": "code",
   "execution_count": 4,
   "id": "45a596a2",
   "metadata": {
    "colab": {
     "base_uri": "https://localhost:8080/",
     "height": 824
    },
    "id": "45a596a2",
    "outputId": "f4c98bef-440c-4ef0-afb9-3e479210a3db"
   },
   "outputs": [
    {
     "data": {
      "text/html": [
       "<div>\n",
       "<style scoped>\n",
       "    .dataframe tbody tr th:only-of-type {\n",
       "        vertical-align: middle;\n",
       "    }\n",
       "\n",
       "    .dataframe tbody tr th {\n",
       "        vertical-align: top;\n",
       "    }\n",
       "\n",
       "    .dataframe thead th {\n",
       "        text-align: right;\n",
       "    }\n",
       "</style>\n",
       "<table border=\"1\" class=\"dataframe\">\n",
       "  <thead>\n",
       "    <tr style=\"text-align: right;\">\n",
       "      <th></th>\n",
       "      <th>Null_values</th>\n",
       "    </tr>\n",
       "  </thead>\n",
       "  <tbody>\n",
       "    <tr>\n",
       "      <th>ID</th>\n",
       "      <td>0</td>\n",
       "    </tr>\n",
       "    <tr>\n",
       "      <th>LIMIT_BAL</th>\n",
       "      <td>0</td>\n",
       "    </tr>\n",
       "    <tr>\n",
       "      <th>SEX</th>\n",
       "      <td>0</td>\n",
       "    </tr>\n",
       "    <tr>\n",
       "      <th>EDUCATION</th>\n",
       "      <td>0</td>\n",
       "    </tr>\n",
       "    <tr>\n",
       "      <th>MARRIAGE</th>\n",
       "      <td>0</td>\n",
       "    </tr>\n",
       "    <tr>\n",
       "      <th>AGE</th>\n",
       "      <td>0</td>\n",
       "    </tr>\n",
       "    <tr>\n",
       "      <th>PAY_0</th>\n",
       "      <td>0</td>\n",
       "    </tr>\n",
       "    <tr>\n",
       "      <th>PAY_2</th>\n",
       "      <td>0</td>\n",
       "    </tr>\n",
       "    <tr>\n",
       "      <th>PAY_3</th>\n",
       "      <td>0</td>\n",
       "    </tr>\n",
       "    <tr>\n",
       "      <th>PAY_4</th>\n",
       "      <td>0</td>\n",
       "    </tr>\n",
       "    <tr>\n",
       "      <th>PAY_5</th>\n",
       "      <td>0</td>\n",
       "    </tr>\n",
       "    <tr>\n",
       "      <th>PAY_6</th>\n",
       "      <td>0</td>\n",
       "    </tr>\n",
       "    <tr>\n",
       "      <th>BILL_AMT1</th>\n",
       "      <td>0</td>\n",
       "    </tr>\n",
       "    <tr>\n",
       "      <th>BILL_AMT2</th>\n",
       "      <td>0</td>\n",
       "    </tr>\n",
       "    <tr>\n",
       "      <th>BILL_AMT3</th>\n",
       "      <td>0</td>\n",
       "    </tr>\n",
       "    <tr>\n",
       "      <th>BILL_AMT4</th>\n",
       "      <td>0</td>\n",
       "    </tr>\n",
       "    <tr>\n",
       "      <th>BILL_AMT5</th>\n",
       "      <td>0</td>\n",
       "    </tr>\n",
       "    <tr>\n",
       "      <th>BILL_AMT6</th>\n",
       "      <td>0</td>\n",
       "    </tr>\n",
       "    <tr>\n",
       "      <th>PAY_AMT1</th>\n",
       "      <td>0</td>\n",
       "    </tr>\n",
       "    <tr>\n",
       "      <th>PAY_AMT2</th>\n",
       "      <td>0</td>\n",
       "    </tr>\n",
       "    <tr>\n",
       "      <th>PAY_AMT3</th>\n",
       "      <td>0</td>\n",
       "    </tr>\n",
       "    <tr>\n",
       "      <th>PAY_AMT4</th>\n",
       "      <td>0</td>\n",
       "    </tr>\n",
       "    <tr>\n",
       "      <th>PAY_AMT5</th>\n",
       "      <td>0</td>\n",
       "    </tr>\n",
       "    <tr>\n",
       "      <th>PAY_AMT6</th>\n",
       "      <td>0</td>\n",
       "    </tr>\n",
       "    <tr>\n",
       "      <th>default.payment.next.month</th>\n",
       "      <td>0</td>\n",
       "    </tr>\n",
       "  </tbody>\n",
       "</table>\n",
       "</div>"
      ],
      "text/plain": [
       "                            Null_values\n",
       "ID                                    0\n",
       "LIMIT_BAL                             0\n",
       "SEX                                   0\n",
       "EDUCATION                             0\n",
       "MARRIAGE                              0\n",
       "AGE                                   0\n",
       "PAY_0                                 0\n",
       "PAY_2                                 0\n",
       "PAY_3                                 0\n",
       "PAY_4                                 0\n",
       "PAY_5                                 0\n",
       "PAY_6                                 0\n",
       "BILL_AMT1                             0\n",
       "BILL_AMT2                             0\n",
       "BILL_AMT3                             0\n",
       "BILL_AMT4                             0\n",
       "BILL_AMT5                             0\n",
       "BILL_AMT6                             0\n",
       "PAY_AMT1                              0\n",
       "PAY_AMT2                              0\n",
       "PAY_AMT3                              0\n",
       "PAY_AMT4                              0\n",
       "PAY_AMT5                              0\n",
       "PAY_AMT6                              0\n",
       "default.payment.next.month            0"
      ]
     },
     "execution_count": 4,
     "metadata": {},
     "output_type": "execute_result"
    }
   ],
   "source": [
    "## checking the null values present in each feature\n",
    "\n",
    "pd.DataFrame(df.isnull().sum(),columns=['Null_values'])"
   ]
  },
  {
   "cell_type": "markdown",
   "id": "72fc2ceb",
   "metadata": {
    "id": "72fc2ceb"
   },
   "source": [
    "#### So there are no null values"
   ]
  },
  {
   "cell_type": "code",
   "execution_count": 5,
   "id": "1c10ab7f",
   "metadata": {
    "colab": {
     "base_uri": "https://localhost:8080/",
     "height": 317
    },
    "id": "1c10ab7f",
    "outputId": "25bc94c9-8f2c-4c96-8f6d-5ad00f3f8022"
   },
   "outputs": [
    {
     "data": {
      "text/html": [
       "<div>\n",
       "<style scoped>\n",
       "    .dataframe tbody tr th:only-of-type {\n",
       "        vertical-align: middle;\n",
       "    }\n",
       "\n",
       "    .dataframe tbody tr th {\n",
       "        vertical-align: top;\n",
       "    }\n",
       "\n",
       "    .dataframe thead th {\n",
       "        text-align: right;\n",
       "    }\n",
       "</style>\n",
       "<table border=\"1\" class=\"dataframe\">\n",
       "  <thead>\n",
       "    <tr style=\"text-align: right;\">\n",
       "      <th></th>\n",
       "      <th>ID</th>\n",
       "      <th>LIMIT_BAL</th>\n",
       "      <th>SEX</th>\n",
       "      <th>EDUCATION</th>\n",
       "      <th>MARRIAGE</th>\n",
       "      <th>AGE</th>\n",
       "      <th>PAY_0</th>\n",
       "      <th>PAY_2</th>\n",
       "      <th>PAY_3</th>\n",
       "      <th>PAY_4</th>\n",
       "      <th>PAY_5</th>\n",
       "      <th>PAY_6</th>\n",
       "      <th>BILL_AMT1</th>\n",
       "      <th>BILL_AMT2</th>\n",
       "      <th>BILL_AMT3</th>\n",
       "      <th>BILL_AMT4</th>\n",
       "      <th>BILL_AMT5</th>\n",
       "      <th>BILL_AMT6</th>\n",
       "      <th>PAY_AMT1</th>\n",
       "      <th>PAY_AMT2</th>\n",
       "      <th>PAY_AMT3</th>\n",
       "      <th>PAY_AMT4</th>\n",
       "      <th>PAY_AMT5</th>\n",
       "      <th>PAY_AMT6</th>\n",
       "      <th>default.payment.next.month</th>\n",
       "    </tr>\n",
       "  </thead>\n",
       "  <tbody>\n",
       "    <tr>\n",
       "      <th>count</th>\n",
       "      <td>30000.000000</td>\n",
       "      <td>30000.000000</td>\n",
       "      <td>30000.000000</td>\n",
       "      <td>30000.000000</td>\n",
       "      <td>30000.000000</td>\n",
       "      <td>30000.000000</td>\n",
       "      <td>30000.000000</td>\n",
       "      <td>30000.000000</td>\n",
       "      <td>30000.000000</td>\n",
       "      <td>30000.000000</td>\n",
       "      <td>30000.000000</td>\n",
       "      <td>30000.000000</td>\n",
       "      <td>30000.000000</td>\n",
       "      <td>30000.000000</td>\n",
       "      <td>3.000000e+04</td>\n",
       "      <td>30000.000000</td>\n",
       "      <td>30000.000000</td>\n",
       "      <td>30000.000000</td>\n",
       "      <td>30000.000000</td>\n",
       "      <td>3.000000e+04</td>\n",
       "      <td>30000.00000</td>\n",
       "      <td>30000.000000</td>\n",
       "      <td>30000.000000</td>\n",
       "      <td>30000.000000</td>\n",
       "      <td>30000.000000</td>\n",
       "    </tr>\n",
       "    <tr>\n",
       "      <th>mean</th>\n",
       "      <td>15000.500000</td>\n",
       "      <td>167484.322667</td>\n",
       "      <td>1.603733</td>\n",
       "      <td>1.853133</td>\n",
       "      <td>1.551867</td>\n",
       "      <td>35.485500</td>\n",
       "      <td>-0.016700</td>\n",
       "      <td>-0.133767</td>\n",
       "      <td>-0.166200</td>\n",
       "      <td>-0.220667</td>\n",
       "      <td>-0.266200</td>\n",
       "      <td>-0.291100</td>\n",
       "      <td>51223.330900</td>\n",
       "      <td>49179.075167</td>\n",
       "      <td>4.701315e+04</td>\n",
       "      <td>43262.948967</td>\n",
       "      <td>40311.400967</td>\n",
       "      <td>38871.760400</td>\n",
       "      <td>5663.580500</td>\n",
       "      <td>5.921163e+03</td>\n",
       "      <td>5225.68150</td>\n",
       "      <td>4826.076867</td>\n",
       "      <td>4799.387633</td>\n",
       "      <td>5215.502567</td>\n",
       "      <td>0.221200</td>\n",
       "    </tr>\n",
       "    <tr>\n",
       "      <th>std</th>\n",
       "      <td>8660.398374</td>\n",
       "      <td>129747.661567</td>\n",
       "      <td>0.489129</td>\n",
       "      <td>0.790349</td>\n",
       "      <td>0.521970</td>\n",
       "      <td>9.217904</td>\n",
       "      <td>1.123802</td>\n",
       "      <td>1.197186</td>\n",
       "      <td>1.196868</td>\n",
       "      <td>1.169139</td>\n",
       "      <td>1.133187</td>\n",
       "      <td>1.149988</td>\n",
       "      <td>73635.860576</td>\n",
       "      <td>71173.768783</td>\n",
       "      <td>6.934939e+04</td>\n",
       "      <td>64332.856134</td>\n",
       "      <td>60797.155770</td>\n",
       "      <td>59554.107537</td>\n",
       "      <td>16563.280354</td>\n",
       "      <td>2.304087e+04</td>\n",
       "      <td>17606.96147</td>\n",
       "      <td>15666.159744</td>\n",
       "      <td>15278.305679</td>\n",
       "      <td>17777.465775</td>\n",
       "      <td>0.415062</td>\n",
       "    </tr>\n",
       "    <tr>\n",
       "      <th>min</th>\n",
       "      <td>1.000000</td>\n",
       "      <td>10000.000000</td>\n",
       "      <td>1.000000</td>\n",
       "      <td>0.000000</td>\n",
       "      <td>0.000000</td>\n",
       "      <td>21.000000</td>\n",
       "      <td>-2.000000</td>\n",
       "      <td>-2.000000</td>\n",
       "      <td>-2.000000</td>\n",
       "      <td>-2.000000</td>\n",
       "      <td>-2.000000</td>\n",
       "      <td>-2.000000</td>\n",
       "      <td>-165580.000000</td>\n",
       "      <td>-69777.000000</td>\n",
       "      <td>-1.572640e+05</td>\n",
       "      <td>-170000.000000</td>\n",
       "      <td>-81334.000000</td>\n",
       "      <td>-339603.000000</td>\n",
       "      <td>0.000000</td>\n",
       "      <td>0.000000e+00</td>\n",
       "      <td>0.00000</td>\n",
       "      <td>0.000000</td>\n",
       "      <td>0.000000</td>\n",
       "      <td>0.000000</td>\n",
       "      <td>0.000000</td>\n",
       "    </tr>\n",
       "    <tr>\n",
       "      <th>25%</th>\n",
       "      <td>7500.750000</td>\n",
       "      <td>50000.000000</td>\n",
       "      <td>1.000000</td>\n",
       "      <td>1.000000</td>\n",
       "      <td>1.000000</td>\n",
       "      <td>28.000000</td>\n",
       "      <td>-1.000000</td>\n",
       "      <td>-1.000000</td>\n",
       "      <td>-1.000000</td>\n",
       "      <td>-1.000000</td>\n",
       "      <td>-1.000000</td>\n",
       "      <td>-1.000000</td>\n",
       "      <td>3558.750000</td>\n",
       "      <td>2984.750000</td>\n",
       "      <td>2.666250e+03</td>\n",
       "      <td>2326.750000</td>\n",
       "      <td>1763.000000</td>\n",
       "      <td>1256.000000</td>\n",
       "      <td>1000.000000</td>\n",
       "      <td>8.330000e+02</td>\n",
       "      <td>390.00000</td>\n",
       "      <td>296.000000</td>\n",
       "      <td>252.500000</td>\n",
       "      <td>117.750000</td>\n",
       "      <td>0.000000</td>\n",
       "    </tr>\n",
       "    <tr>\n",
       "      <th>50%</th>\n",
       "      <td>15000.500000</td>\n",
       "      <td>140000.000000</td>\n",
       "      <td>2.000000</td>\n",
       "      <td>2.000000</td>\n",
       "      <td>2.000000</td>\n",
       "      <td>34.000000</td>\n",
       "      <td>0.000000</td>\n",
       "      <td>0.000000</td>\n",
       "      <td>0.000000</td>\n",
       "      <td>0.000000</td>\n",
       "      <td>0.000000</td>\n",
       "      <td>0.000000</td>\n",
       "      <td>22381.500000</td>\n",
       "      <td>21200.000000</td>\n",
       "      <td>2.008850e+04</td>\n",
       "      <td>19052.000000</td>\n",
       "      <td>18104.500000</td>\n",
       "      <td>17071.000000</td>\n",
       "      <td>2100.000000</td>\n",
       "      <td>2.009000e+03</td>\n",
       "      <td>1800.00000</td>\n",
       "      <td>1500.000000</td>\n",
       "      <td>1500.000000</td>\n",
       "      <td>1500.000000</td>\n",
       "      <td>0.000000</td>\n",
       "    </tr>\n",
       "    <tr>\n",
       "      <th>75%</th>\n",
       "      <td>22500.250000</td>\n",
       "      <td>240000.000000</td>\n",
       "      <td>2.000000</td>\n",
       "      <td>2.000000</td>\n",
       "      <td>2.000000</td>\n",
       "      <td>41.000000</td>\n",
       "      <td>0.000000</td>\n",
       "      <td>0.000000</td>\n",
       "      <td>0.000000</td>\n",
       "      <td>0.000000</td>\n",
       "      <td>0.000000</td>\n",
       "      <td>0.000000</td>\n",
       "      <td>67091.000000</td>\n",
       "      <td>64006.250000</td>\n",
       "      <td>6.016475e+04</td>\n",
       "      <td>54506.000000</td>\n",
       "      <td>50190.500000</td>\n",
       "      <td>49198.250000</td>\n",
       "      <td>5006.000000</td>\n",
       "      <td>5.000000e+03</td>\n",
       "      <td>4505.00000</td>\n",
       "      <td>4013.250000</td>\n",
       "      <td>4031.500000</td>\n",
       "      <td>4000.000000</td>\n",
       "      <td>0.000000</td>\n",
       "    </tr>\n",
       "    <tr>\n",
       "      <th>max</th>\n",
       "      <td>30000.000000</td>\n",
       "      <td>1000000.000000</td>\n",
       "      <td>2.000000</td>\n",
       "      <td>6.000000</td>\n",
       "      <td>3.000000</td>\n",
       "      <td>79.000000</td>\n",
       "      <td>8.000000</td>\n",
       "      <td>8.000000</td>\n",
       "      <td>8.000000</td>\n",
       "      <td>8.000000</td>\n",
       "      <td>8.000000</td>\n",
       "      <td>8.000000</td>\n",
       "      <td>964511.000000</td>\n",
       "      <td>983931.000000</td>\n",
       "      <td>1.664089e+06</td>\n",
       "      <td>891586.000000</td>\n",
       "      <td>927171.000000</td>\n",
       "      <td>961664.000000</td>\n",
       "      <td>873552.000000</td>\n",
       "      <td>1.684259e+06</td>\n",
       "      <td>896040.00000</td>\n",
       "      <td>621000.000000</td>\n",
       "      <td>426529.000000</td>\n",
       "      <td>528666.000000</td>\n",
       "      <td>1.000000</td>\n",
       "    </tr>\n",
       "  </tbody>\n",
       "</table>\n",
       "</div>"
      ],
      "text/plain": [
       "                 ID       LIMIT_BAL  ...       PAY_AMT6  default.payment.next.month\n",
       "count  30000.000000    30000.000000  ...   30000.000000                30000.000000\n",
       "mean   15000.500000   167484.322667  ...    5215.502567                    0.221200\n",
       "std     8660.398374   129747.661567  ...   17777.465775                    0.415062\n",
       "min        1.000000    10000.000000  ...       0.000000                    0.000000\n",
       "25%     7500.750000    50000.000000  ...     117.750000                    0.000000\n",
       "50%    15000.500000   140000.000000  ...    1500.000000                    0.000000\n",
       "75%    22500.250000   240000.000000  ...    4000.000000                    0.000000\n",
       "max    30000.000000  1000000.000000  ...  528666.000000                    1.000000\n",
       "\n",
       "[8 rows x 25 columns]"
      ]
     },
     "execution_count": 5,
     "metadata": {},
     "output_type": "execute_result"
    }
   ],
   "source": [
    "## all statistical information \n",
    "\n",
    "df.describe()"
   ]
  },
  {
   "cell_type": "code",
   "execution_count": 6,
   "id": "cd1cbeaf",
   "metadata": {
    "colab": {
     "base_uri": "https://localhost:8080/",
     "height": 824
    },
    "id": "cd1cbeaf",
    "outputId": "d788328e-0742-44cb-b8d8-2028826182ee"
   },
   "outputs": [
    {
     "data": {
      "text/html": [
       "<div>\n",
       "<style scoped>\n",
       "    .dataframe tbody tr th:only-of-type {\n",
       "        vertical-align: middle;\n",
       "    }\n",
       "\n",
       "    .dataframe tbody tr th {\n",
       "        vertical-align: top;\n",
       "    }\n",
       "\n",
       "    .dataframe thead th {\n",
       "        text-align: right;\n",
       "    }\n",
       "</style>\n",
       "<table border=\"1\" class=\"dataframe\">\n",
       "  <thead>\n",
       "    <tr style=\"text-align: right;\">\n",
       "      <th></th>\n",
       "      <th>Data_Types</th>\n",
       "    </tr>\n",
       "  </thead>\n",
       "  <tbody>\n",
       "    <tr>\n",
       "      <th>ID</th>\n",
       "      <td>int64</td>\n",
       "    </tr>\n",
       "    <tr>\n",
       "      <th>LIMIT_BAL</th>\n",
       "      <td>float64</td>\n",
       "    </tr>\n",
       "    <tr>\n",
       "      <th>SEX</th>\n",
       "      <td>int64</td>\n",
       "    </tr>\n",
       "    <tr>\n",
       "      <th>EDUCATION</th>\n",
       "      <td>int64</td>\n",
       "    </tr>\n",
       "    <tr>\n",
       "      <th>MARRIAGE</th>\n",
       "      <td>int64</td>\n",
       "    </tr>\n",
       "    <tr>\n",
       "      <th>AGE</th>\n",
       "      <td>int64</td>\n",
       "    </tr>\n",
       "    <tr>\n",
       "      <th>PAY_0</th>\n",
       "      <td>int64</td>\n",
       "    </tr>\n",
       "    <tr>\n",
       "      <th>PAY_2</th>\n",
       "      <td>int64</td>\n",
       "    </tr>\n",
       "    <tr>\n",
       "      <th>PAY_3</th>\n",
       "      <td>int64</td>\n",
       "    </tr>\n",
       "    <tr>\n",
       "      <th>PAY_4</th>\n",
       "      <td>int64</td>\n",
       "    </tr>\n",
       "    <tr>\n",
       "      <th>PAY_5</th>\n",
       "      <td>int64</td>\n",
       "    </tr>\n",
       "    <tr>\n",
       "      <th>PAY_6</th>\n",
       "      <td>int64</td>\n",
       "    </tr>\n",
       "    <tr>\n",
       "      <th>BILL_AMT1</th>\n",
       "      <td>float64</td>\n",
       "    </tr>\n",
       "    <tr>\n",
       "      <th>BILL_AMT2</th>\n",
       "      <td>float64</td>\n",
       "    </tr>\n",
       "    <tr>\n",
       "      <th>BILL_AMT3</th>\n",
       "      <td>float64</td>\n",
       "    </tr>\n",
       "    <tr>\n",
       "      <th>BILL_AMT4</th>\n",
       "      <td>float64</td>\n",
       "    </tr>\n",
       "    <tr>\n",
       "      <th>BILL_AMT5</th>\n",
       "      <td>float64</td>\n",
       "    </tr>\n",
       "    <tr>\n",
       "      <th>BILL_AMT6</th>\n",
       "      <td>float64</td>\n",
       "    </tr>\n",
       "    <tr>\n",
       "      <th>PAY_AMT1</th>\n",
       "      <td>float64</td>\n",
       "    </tr>\n",
       "    <tr>\n",
       "      <th>PAY_AMT2</th>\n",
       "      <td>float64</td>\n",
       "    </tr>\n",
       "    <tr>\n",
       "      <th>PAY_AMT3</th>\n",
       "      <td>float64</td>\n",
       "    </tr>\n",
       "    <tr>\n",
       "      <th>PAY_AMT4</th>\n",
       "      <td>float64</td>\n",
       "    </tr>\n",
       "    <tr>\n",
       "      <th>PAY_AMT5</th>\n",
       "      <td>float64</td>\n",
       "    </tr>\n",
       "    <tr>\n",
       "      <th>PAY_AMT6</th>\n",
       "      <td>float64</td>\n",
       "    </tr>\n",
       "    <tr>\n",
       "      <th>default.payment.next.month</th>\n",
       "      <td>int64</td>\n",
       "    </tr>\n",
       "  </tbody>\n",
       "</table>\n",
       "</div>"
      ],
      "text/plain": [
       "                           Data_Types\n",
       "ID                              int64\n",
       "LIMIT_BAL                     float64\n",
       "SEX                             int64\n",
       "EDUCATION                       int64\n",
       "MARRIAGE                        int64\n",
       "AGE                             int64\n",
       "PAY_0                           int64\n",
       "PAY_2                           int64\n",
       "PAY_3                           int64\n",
       "PAY_4                           int64\n",
       "PAY_5                           int64\n",
       "PAY_6                           int64\n",
       "BILL_AMT1                     float64\n",
       "BILL_AMT2                     float64\n",
       "BILL_AMT3                     float64\n",
       "BILL_AMT4                     float64\n",
       "BILL_AMT5                     float64\n",
       "BILL_AMT6                     float64\n",
       "PAY_AMT1                      float64\n",
       "PAY_AMT2                      float64\n",
       "PAY_AMT3                      float64\n",
       "PAY_AMT4                      float64\n",
       "PAY_AMT5                      float64\n",
       "PAY_AMT6                      float64\n",
       "default.payment.next.month      int64"
      ]
     },
     "execution_count": 6,
     "metadata": {},
     "output_type": "execute_result"
    }
   ],
   "source": [
    "## checking the data types of each features\n",
    " \n",
    "pd.DataFrame(df.dtypes, columns=['Data_Types'])"
   ]
  },
  {
   "cell_type": "markdown",
   "id": "ee44f7e5",
   "metadata": {
    "id": "ee44f7e5"
   },
   "source": [
    "#### So, all the numerical values present in the features"
   ]
  },
  {
   "cell_type": "code",
   "execution_count": 7,
   "id": "71ec5e72",
   "metadata": {
    "colab": {
     "base_uri": "https://localhost:8080/"
    },
    "id": "71ec5e72",
    "outputId": "934cdc74-97fc-4c86-acf7-b5f8bf11c405"
   },
   "outputs": [
    {
     "data": {
      "text/plain": [
       "Index(['ID', 'LIMIT_BAL', 'SEX', 'EDUCATION', 'MARRIAGE', 'AGE', 'PAY_0',\n",
       "       'PAY_2', 'PAY_3', 'PAY_4', 'PAY_5', 'PAY_6', 'BILL_AMT1', 'BILL_AMT2',\n",
       "       'BILL_AMT3', 'BILL_AMT4', 'BILL_AMT5', 'BILL_AMT6', 'PAY_AMT1',\n",
       "       'PAY_AMT2', 'PAY_AMT3', 'PAY_AMT4', 'PAY_AMT5', 'PAY_AMT6',\n",
       "       'default.payment.next.month'],\n",
       "      dtype='object')"
      ]
     },
     "execution_count": 7,
     "metadata": {},
     "output_type": "execute_result"
    }
   ],
   "source": [
    "df.columns"
   ]
  },
  {
   "cell_type": "code",
   "execution_count": 8,
   "id": "1438130a",
   "metadata": {
    "colab": {
     "base_uri": "https://localhost:8080/"
    },
    "id": "1438130a",
    "outputId": "575bdc6a-d902-4418-eec7-e8b3f0a16187"
   },
   "outputs": [
    {
     "data": {
      "text/plain": [
       "Index(['ID', 'LIMIT_BAL', 'SEX', 'EDUCATION', 'MARRIAGE', 'AGE', 'PAY_0',\n",
       "       'PAY_2', 'PAY_3', 'PAY_4', 'PAY_5', 'PAY_6', 'BILL_AMT1', 'BILL_AMT2',\n",
       "       'BILL_AMT3', 'BILL_AMT4', 'BILL_AMT5', 'BILL_AMT6', 'PAY_AMT1',\n",
       "       'PAY_AMT2', 'PAY_AMT3', 'PAY_AMT4', 'PAY_AMT5', 'PAY_AMT6', 'default'],\n",
       "      dtype='object')"
      ]
     },
     "execution_count": 8,
     "metadata": {},
     "output_type": "execute_result"
    }
   ],
   "source": [
    "## renaming the \"default.payment.next.month\" feature to \"default\"\n",
    "\n",
    "df.rename(columns={\"default.payment.next.month\": \"default\"}, inplace=True)\n",
    "df.columns"
   ]
  },
  {
   "cell_type": "markdown",
   "id": "d74bc01b",
   "metadata": {
    "id": "d74bc01b"
   },
   "source": [
    "#### As per the dataset 'SEX', 'EDUCATION', 'MARRIAGE',  'PAY_0','PAY_2', 'PAY_3', 'PAY_4', 'PAY_5', 'PAY_6' these features contains categorical information"
   ]
  },
  {
   "cell_type": "code",
   "execution_count": 9,
   "id": "8271bc32",
   "metadata": {
    "colab": {
     "base_uri": "https://localhost:8080/"
    },
    "id": "8271bc32",
    "outputId": "c9452c86-d942-47e4-823d-f100584440e9"
   },
   "outputs": [
    {
     "name": "stdout",
     "output_type": "stream",
     "text": [
      "Unique values present in SEX is : [2 1]\n",
      "Unique values present in EDUCATION is : [2 1 3 5 4 6 0]\n",
      "Unique values present in MARRIAGE is : [1 2 3 0]\n",
      "Unique values present in PAY_0 is : [ 2 -1  0 -2  1  3  4  8  7  5  6]\n",
      "Unique values present in PAY_2 is : [ 2  0 -1 -2  3  5  7  4  1  6  8]\n",
      "Unique values present in PAY_3 is : [-1  0  2 -2  3  4  6  7  1  5  8]\n",
      "Unique values present in PAY_4 is : [-1  0 -2  2  3  4  5  7  6  1  8]\n",
      "Unique values present in PAY_5 is : [-2  0 -1  2  3  5  4  7  8  6]\n",
      "Unique values present in PAY_6 is : [-2  2  0 -1  3  6  4  7  8  5]\n",
      "Unique values present in default is : [1 0]\n"
     ]
    }
   ],
   "source": [
    "## lets se how many unique categories present in each of these :\n",
    "\n",
    "category = ['SEX', 'EDUCATION', 'MARRIAGE', 'PAY_0','PAY_2', 'PAY_3', 'PAY_4', 'PAY_5', 'PAY_6','default']\n",
    "\n",
    "for i in df[category]:\n",
    "    print(f\"Unique values present in {i} is : {df[i].unique()}\")"
   ]
  },
  {
   "cell_type": "markdown",
   "id": "68c61c9e",
   "metadata": {
    "id": "68c61c9e"
   },
   "source": [
    "#### EDUCATION\n",
    "#### As per information we have EDUCATION: (1=graduate school, 2=university, 3=high school, 4=others, 5=unknown, 6=unknown)"
   ]
  },
  {
   "cell_type": "code",
   "execution_count": 10,
   "id": "a0c14f5a",
   "metadata": {
    "colab": {
     "base_uri": "https://localhost:8080/",
     "height": 296
    },
    "id": "a0c14f5a",
    "outputId": "b3b8d143-df68-40a1-cf60-6285dcb82446"
   },
   "outputs": [
    {
     "data": {
      "text/plain": [
       "<matplotlib.axes._subplots.AxesSubplot at 0x7f26e60b1610>"
      ]
     },
     "execution_count": 10,
     "metadata": {},
     "output_type": "execute_result"
    },
    {
     "data": {
      "image/png": "[encoded data removed]",
      "text/plain": [
       "<Figure size 432x288 with 1 Axes>"
      ]
     },
     "metadata": {
      "needs_background": "light"
     },
     "output_type": "display_data"
    }
   ],
   "source": [
    "sns.countplot(x='EDUCATION',data=df)"
   ]
  },
  {
   "cell_type": "code",
   "execution_count": 11,
   "id": "401ec9e5",
   "metadata": {
    "id": "401ec9e5"
   },
   "outputs": [],
   "source": [
    "## so from the given figure we can see category 5 and 6 has negligible values so we are converting these categories to others\n",
    "\n",
    "df['EDUCATION'].replace([0,5,6],4,inplace=True)"
   ]
  },
  {
   "cell_type": "code",
   "execution_count": 12,
   "id": "ba9c3013",
   "metadata": {
    "colab": {
     "base_uri": "https://localhost:8080/"
    },
    "id": "ba9c3013",
    "outputId": "74db747d-dc65-4c41-9060-834ad70c2fdd"
   },
   "outputs": [
    {
     "data": {
      "text/plain": [
       "array([2, 1, 3, 4])"
      ]
     },
     "execution_count": 12,
     "metadata": {},
     "output_type": "execute_result"
    }
   ],
   "source": [
    "df.EDUCATION.unique()"
   ]
  },
  {
   "cell_type": "markdown",
   "id": "111bd5cc",
   "metadata": {
    "id": "111bd5cc"
   },
   "source": [
    "#### MARRIAGE\n",
    "#### marriage has 4 unique values but our data we have three categories MARRIAGE: Marital status (1=married, 2=single, 3=others)"
   ]
  },
  {
   "cell_type": "code",
   "execution_count": 13,
   "id": "e92bbe7a",
   "metadata": {
    "colab": {
     "base_uri": "https://localhost:8080/",
     "height": 296
    },
    "id": "e92bbe7a",
    "outputId": "f9a3841a-2f0e-4d9e-8ce8-c6d070f24dd4"
   },
   "outputs": [
    {
     "data": {
      "text/plain": [
       "<matplotlib.axes._subplots.AxesSubplot at 0x7f26e5b60c50>"
      ]
     },
     "execution_count": 13,
     "metadata": {},
     "output_type": "execute_result"
    },
    {
     "data": {
      "image/png": "[encoded data removed]",
      "text/plain": [
       "<Figure size 432x288 with 1 Axes>"
      ]
     },
     "metadata": {
      "needs_background": "light"
     },
     "output_type": "display_data"
    }
   ],
   "source": [
    "sns.countplot(x='MARRIAGE', data=df)"
   ]
  },
  {
   "cell_type": "code",
   "execution_count": 14,
   "id": "b14886af",
   "metadata": {
    "colab": {
     "base_uri": "https://localhost:8080/"
    },
    "id": "b14886af",
    "outputId": "f3f550e1-91d4-4b8a-b307-a23aa18d9e4f"
   },
   "outputs": [
    {
     "data": {
      "text/plain": [
       "array([1, 2, 3])"
      ]
     },
     "execution_count": 14,
     "metadata": {},
     "output_type": "execute_result"
    }
   ],
   "source": [
    "## converting 0 category to 3\n",
    "df['MARRIAGE'].replace(0,3,inplace=True)\n",
    "df['MARRIAGE'].unique()"
   ]
  },
  {
   "cell_type": "markdown",
   "id": "be62517e",
   "metadata": {
    "id": "be62517e"
   },
   "source": [
    "#### PAY_0: \n",
    "#### Repayment status (-1=pay duly, 1=payment delay for one month, 2=payment delay for two months, … 8=payment delay for eight months, 9=payment delay for nine months and above) "
   ]
  },
  {
   "cell_type": "code",
   "execution_count": 15,
   "id": "d7e9f228",
   "metadata": {
    "colab": {
     "base_uri": "https://localhost:8080/",
     "height": 297
    },
    "id": "d7e9f228",
    "outputId": "41b4ddb2-17b4-4816-a0b9-342af6cf1f37"
   },
   "outputs": [
    {
     "data": {
      "text/plain": [
       "<matplotlib.axes._subplots.AxesSubplot at 0x7f26e5af1ad0>"
      ]
     },
     "execution_count": 15,
     "metadata": {},
     "output_type": "execute_result"
    },
    {
     "data": {
      "image/png": "[encoded data removed]",
      "text/plain": [
       "<Figure size 432x288 with 1 Axes>"
      ]
     },
     "metadata": {
      "needs_background": "light"
     },
     "output_type": "display_data"
    }
   ],
   "source": [
    "## for PAY_0\n",
    "sns.countplot(x='PAY_0', data=df)"
   ]
  },
  {
   "cell_type": "code",
   "execution_count": 16,
   "id": "4ad0d37e",
   "metadata": {
    "colab": {
     "base_uri": "https://localhost:8080/",
     "height": 297
    },
    "id": "4ad0d37e",
    "outputId": "4f0ae557-852d-4bd6-c9f8-eeeaf5a72114"
   },
   "outputs": [
    {
     "data": {
      "text/plain": [
       "<matplotlib.axes._subplots.AxesSubplot at 0x7f26e5a7d390>"
      ]
     },
     "execution_count": 16,
     "metadata": {},
     "output_type": "execute_result"
    },
    {
     "data": {
      "image/png": "[encoded data removed]",
      "text/plain": [
       "<Figure size 432x288 with 1 Axes>"
      ]
     },
     "metadata": {
      "needs_background": "light"
     },
     "output_type": "display_data"
    }
   ],
   "source": [
    "## for PAY_1\n",
    "sns.countplot(x='PAY_2', data=df)"
   ]
  },
  {
   "cell_type": "code",
   "execution_count": 17,
   "id": "5e97e22c",
   "metadata": {
    "colab": {
     "base_uri": "https://localhost:8080/",
     "height": 297
    },
    "id": "5e97e22c",
    "outputId": "60d1b0a4-9410-44cc-9769-e28a21cb0a34"
   },
   "outputs": [
    {
     "data": {
      "text/plain": [
       "<matplotlib.axes._subplots.AxesSubplot at 0x7f26e5a64290>"
      ]
     },
     "execution_count": 17,
     "metadata": {},
     "output_type": "execute_result"
    },
    {
     "data": {
      "image/png": "[encoded data removed]",
      "text/plain": [
       "<Figure size 432x288 with 1 Axes>"
      ]
     },
     "metadata": {
      "needs_background": "light"
     },
     "output_type": "display_data"
    }
   ],
   "source": [
    "## for PAY_3\n",
    "sns.countplot(x='PAY_3', data=df)"
   ]
  },
  {
   "cell_type": "code",
   "execution_count": 18,
   "id": "969ad66d",
   "metadata": {
    "colab": {
     "base_uri": "https://localhost:8080/",
     "height": 297
    },
    "id": "969ad66d",
    "outputId": "686961da-c767-4286-c943-88735e24d375"
   },
   "outputs": [
    {
     "data": {
      "text/plain": [
       "<matplotlib.axes._subplots.AxesSubplot at 0x7f26e59aead0>"
      ]
     },
     "execution_count": 18,
     "metadata": {},
     "output_type": "execute_result"
    },
    {
     "data": {
      "image/png": "[encoded data removed]",
      "text/plain": [
       "<Figure size 432x288 with 1 Axes>"
      ]
     },
     "metadata": {
      "needs_background": "light"
     },
     "output_type": "display_data"
    }
   ],
   "source": [
    "## for PAY_4\n",
    "sns.countplot(x='PAY_4', data=df)"
   ]
  },
  {
   "cell_type": "code",
   "execution_count": 19,
   "id": "799cbb29",
   "metadata": {
    "colab": {
     "base_uri": "https://localhost:8080/",
     "height": 297
    },
    "id": "799cbb29",
    "outputId": "22d79954-78ed-4af3-80bf-f14bbdb843c7"
   },
   "outputs": [
    {
     "data": {
      "text/plain": [
       "<matplotlib.axes._subplots.AxesSubplot at 0x7f26e58b0e90>"
      ]
     },
     "execution_count": 19,
     "metadata": {},
     "output_type": "execute_result"
    },
    {
     "data": {
      "image/png": "[encoded data removed]",
      "text/plain": [
       "<Figure size 432x288 with 1 Axes>"
      ]
     },
     "metadata": {
      "needs_background": "light"
     },
     "output_type": "display_data"
    }
   ],
   "source": [
    "## for PAY_5\n",
    "sns.countplot(x='PAY_5', data=df)"
   ]
  },
  {
   "cell_type": "code",
   "execution_count": 20,
   "id": "f247bb63",
   "metadata": {
    "colab": {
     "base_uri": "https://localhost:8080/",
     "height": 297
    },
    "id": "f247bb63",
    "outputId": "8397fd14-3a2b-4244-a86b-a42bcf247e0d"
   },
   "outputs": [
    {
     "data": {
      "text/plain": [
       "<matplotlib.axes._subplots.AxesSubplot at 0x7f26e5849f90>"
      ]
     },
     "execution_count": 20,
     "metadata": {},
     "output_type": "execute_result"
    },
    {
     "data": {
      "image/png": "[encoded data removed]",
      "text/plain": [
       "<Figure size 432x288 with 1 Axes>"
      ]
     },
     "metadata": {
      "needs_background": "light"
     },
     "output_type": "display_data"
    }
   ],
   "source": [
    "## for PAY_6\n",
    "sns.countplot(x='PAY_6', data=df)"
   ]
  },
  {
   "cell_type": "code",
   "execution_count": 21,
   "id": "b80c69d2",
   "metadata": {
    "colab": {
     "base_uri": "https://localhost:8080/"
    },
    "id": "b80c69d2",
    "outputId": "651dbea9-1e77-47d9-eb58-aed9fda1e4e2"
   },
   "outputs": [
    {
     "data": {
      "text/plain": [
       "Index(['ID', 'LIMIT_BAL', 'SEX', 'EDUCATION', 'MARRIAGE', 'AGE', 'PAY_0',\n",
       "       'PAY_2', 'PAY_3', 'PAY_4', 'PAY_5', 'PAY_6', 'BILL_AMT1', 'BILL_AMT2',\n",
       "       'BILL_AMT3', 'BILL_AMT4', 'BILL_AMT5', 'BILL_AMT6', 'PAY_AMT1',\n",
       "       'PAY_AMT2', 'PAY_AMT3', 'PAY_AMT4', 'PAY_AMT5', 'PAY_AMT6', 'default'],\n",
       "      dtype='object')"
      ]
     },
     "execution_count": 21,
     "metadata": {},
     "output_type": "execute_result"
    }
   ],
   "source": [
    "df.columns"
   ]
  },
  {
   "cell_type": "markdown",
   "id": "fdeb837a",
   "metadata": {
    "id": "fdeb837a"
   },
   "source": [
    "#### default i.e. Class feature"
   ]
  },
  {
   "cell_type": "code",
   "execution_count": 22,
   "id": "d10631fe",
   "metadata": {
    "colab": {
     "base_uri": "https://localhost:8080/",
     "height": 415
    },
    "id": "d10631fe",
    "outputId": "d1bfa0c2-af73-4f90-f717-b327f8b3c297"
   },
   "outputs": [
    {
     "name": "stdout",
     "output_type": "stream",
     "text": [
      "Value Counts : \n",
      "0    23364\n",
      "1     6636\n",
      "Name: default, dtype: int64\n",
      "Percentage of default : \n",
      "0    77.88\n",
      "1    22.12\n",
      "Name: default, dtype: float64\n"
     ]
    },
    {
     "data": {
      "image/png": "[encoded data removed]",
      "text/plain": [
       "<Figure size 432x288 with 1 Axes>"
      ]
     },
     "metadata": {
      "needs_background": "light"
     },
     "output_type": "display_data"
    }
   ],
   "source": [
    "## BASED on SEX\n",
    "\n",
    "sns.countplot(x=df['default'].map({0:'No',1:'Yes'}), data=df, hue=df['SEX'].map({1:'Male',2:'Female'}))\n",
    "print(f\"Value Counts : \\n{df['default'].value_counts()}\")\n",
    "print(f\"Percentage of default : \\n{df['default'].value_counts()/len(df)*100}\")"
   ]
  },
  {
   "cell_type": "markdown",
   "id": "cb52489a",
   "metadata": {
    "id": "cb52489a"
   },
   "source": [
    "#### S,o there are 77.88% people who have not pay the default and most of the females didnt pay"
   ]
  },
  {
   "cell_type": "markdown",
   "id": "3b366e9e",
   "metadata": {
    "id": "3b366e9e"
   },
   "source": [
    "#### Education wise"
   ]
  },
  {
   "cell_type": "code",
   "execution_count": 23,
   "id": "308e3daf",
   "metadata": {
    "colab": {
     "base_uri": "https://localhost:8080/",
     "height": 0
    },
    "id": "308e3daf",
    "outputId": "a15162d5-09bc-4356-c6f1-67436b54149e"
   },
   "outputs": [
    {
     "name": "stdout",
     "output_type": "stream",
     "text": [
      "Value Counts : \n",
      "2    14030\n",
      "1    10585\n",
      "3     4917\n",
      "4      468\n",
      "Name: EDUCATION, dtype: int64\n",
      "Percentage of value count : \n",
      "2    46.766667\n",
      "1    35.283333\n",
      "3    16.390000\n",
      "4     1.560000\n",
      "Name: EDUCATION, dtype: float64\n"
     ]
    },
    {
     "data": {
      "image/png": "[encoded data removed]",
      "text/plain": [
       "<Figure size 432x288 with 1 Axes>"
      ]
     },
     "metadata": {
      "needs_background": "light"
     },
     "output_type": "display_data"
    }
   ],
   "source": [
    "sns.countplot(x=df['default'].map({0:'No',1:'Yes'}), data=df, hue=df['EDUCATION'].map({1:'Graduate School',2:'University',3:'High School',4:'Others'}),)\n",
    "print(f\"Value Counts : \\n{df['EDUCATION'].value_counts()}\")\n",
    "print(f\"Percentage of value count : \\n{df['EDUCATION'].value_counts()/len(df)*100}\")"
   ]
  },
  {
   "cell_type": "markdown",
   "id": "9ec7bb46",
   "metadata": {
    "id": "9ec7bb46"
   },
   "source": [
    "#### so 46.76% of individual who were in university didnt pay"
   ]
  },
  {
   "cell_type": "markdown",
   "id": "58752b85",
   "metadata": {
    "id": "58752b85"
   },
   "source": [
    "#### MARRIAGE wise"
   ]
  },
  {
   "cell_type": "code",
   "execution_count": 24,
   "id": "e306ed3b",
   "metadata": {
    "colab": {
     "base_uri": "https://localhost:8080/",
     "height": 0
    },
    "id": "e306ed3b",
    "outputId": "4ba6279d-c049-48fc-f33b-5eede80c782f"
   },
   "outputs": [
    {
     "name": "stdout",
     "output_type": "stream",
     "text": [
      "Value Counts : \n",
      "2    15964\n",
      "1    13659\n",
      "3      377\n",
      "Name: MARRIAGE, dtype: int64\n",
      "Percentage of default : \n",
      "2    53.213333\n",
      "1    45.530000\n",
      "3     1.256667\n",
      "Name: MARRIAGE, dtype: float64\n"
     ]
    },
    {
     "data": {
      "image/png": "[encoded data removed]",
      "text/plain": [
       "<Figure size 432x288 with 1 Axes>"
      ]
     },
     "metadata": {
      "needs_background": "light"
     },
     "output_type": "display_data"
    }
   ],
   "source": [
    "sns.countplot(x=df['default'].map({0:'No',1:'Yes'}), data=df, hue=df['MARRIAGE'].map({1:'married',2:'single',3:'others'}),)\n",
    "print(f\"Value Counts : \\n{df['MARRIAGE'].value_counts()}\")\n",
    "print(f\"Percentage of default : \\n{df['MARRIAGE'].value_counts()/len(df)*100}\")"
   ]
  },
  {
   "cell_type": "markdown",
   "id": "afcb231c",
   "metadata": {
    "id": "afcb231c"
   },
   "source": [
    "#### So around 53.21%  individuas who are single, did not pay"
   ]
  },
  {
   "cell_type": "markdown",
   "id": "88eeb076",
   "metadata": {
    "id": "88eeb076"
   },
   "source": [
    "#### PAY Wise"
   ]
  },
  {
   "cell_type": "code",
   "execution_count": 25,
   "id": "ff6b946e",
   "metadata": {
    "colab": {
     "base_uri": "https://localhost:8080/",
     "height": 0
    },
    "id": "ff6b946e",
    "outputId": "38f63a83-c24c-4a1b-bda2-97bd89bf5a60"
   },
   "outputs": [
    {
     "name": "stdout",
     "output_type": "stream",
     "text": [
      "Value Counts : \n",
      " 0    14737\n",
      "-1     5686\n",
      " 1     3688\n",
      "-2     2759\n",
      " 2     2667\n",
      " 3      322\n",
      " 4       76\n",
      " 5       26\n",
      " 8       19\n",
      " 6       11\n",
      " 7        9\n",
      "Name: PAY_0, dtype: int64\n",
      "Percentage of default : \n",
      " 0    49.123333\n",
      "-1    18.953333\n",
      " 1    12.293333\n",
      "-2     9.196667\n",
      " 2     8.890000\n",
      " 3     1.073333\n",
      " 4     0.253333\n",
      " 5     0.086667\n",
      " 8     0.063333\n",
      " 6     0.036667\n",
      " 7     0.030000\n",
      "Name: PAY_0, dtype: float64\n"
     ]
    },
    {
     "data": {
      "image/png": "[encoded data removed]",
      "text/plain": [
       "<Figure size 1080x720 with 1 Axes>"
      ]
     },
     "metadata": {
      "needs_background": "light"
     },
     "output_type": "display_data"
    }
   ],
   "source": [
    "##PAY_0 Repayment status in September, 2005\n",
    "\n",
    "plt.figure(figsize=(15,10))\n",
    "sns.countplot(x=df['default'].map({0:'No',1:'Yes'}), data=df, hue=df['PAY_0'].map({1:'one month',2:'two months',3:'three months',4:'four months',5:'five months',6:'six months',7:'seven months',8:'eight months',-1:'one month pay duly',-2:'two month pay duly' }),)\n",
    "print(f\"Value Counts : \\n{df['PAY_0'].value_counts()}\")\n",
    "print(f\"Percentage of default : \\n{df['PAY_0'].value_counts()/len(df)*100}\")\n"
   ]
  },
  {
   "cell_type": "markdown",
   "id": "ffdf82ff",
   "metadata": {
    "id": "ffdf82ff"
   },
   "source": [
    "##### So in september max repayment status is 49.12%"
   ]
  },
  {
   "cell_type": "code",
   "execution_count": 26,
   "id": "eee4525a",
   "metadata": {
    "colab": {
     "base_uri": "https://localhost:8080/",
     "height": 0
    },
    "id": "eee4525a",
    "outputId": "54d680e1-b38d-4228-fb8e-445cefbb0ae2"
   },
   "outputs": [
    {
     "name": "stdout",
     "output_type": "stream",
     "text": [
      "Value Counts : \n",
      " 0    15730\n",
      "-1     6050\n",
      " 2     3927\n",
      "-2     3782\n",
      " 3      326\n",
      " 4       99\n",
      " 1       28\n",
      " 5       25\n",
      " 7       20\n",
      " 6       12\n",
      " 8        1\n",
      "Name: PAY_2, dtype: int64\n",
      "Percentage of default : \n",
      " 0    52.433333\n",
      "-1    20.166667\n",
      " 2    13.090000\n",
      "-2    12.606667\n",
      " 3     1.086667\n",
      " 4     0.330000\n",
      " 1     0.093333\n",
      " 5     0.083333\n",
      " 7     0.066667\n",
      " 6     0.040000\n",
      " 8     0.003333\n",
      "Name: PAY_2, dtype: float64\n"
     ]
    },
    {
     "data": {
      "image/png": "[encoded data removed]",
      "text/plain": [
       "<Figure size 1080x720 with 1 Axes>"
      ]
     },
     "metadata": {
      "needs_background": "light"
     },
     "output_type": "display_data"
    }
   ],
   "source": [
    "##PAY_2 Repayment status in August, 2005\n",
    "\n",
    "plt.figure(figsize=(15,10))\n",
    "sns.countplot(x=df['default'].map({0:'No',1:'Yes'}), data=df, hue=df['PAY_2'].map({1:'one month',2:'two months',3:'three months',4:'four months',5:'five months',6:'six months',7:'seven months',8:'eight months',-1:'one month pay duly',-2:'two month pay duly' }),)\n",
    "print(f\"Value Counts : \\n{df['PAY_2'].value_counts()}\")\n",
    "print(f\"Percentage of default : \\n{df['PAY_2'].value_counts()/len(df)*100}\")\n"
   ]
  },
  {
   "cell_type": "markdown",
   "id": "713b7373",
   "metadata": {
    "id": "713b7373"
   },
   "source": [
    "##### So in august max repayment status is 52.43% who have not paid the default"
   ]
  },
  {
   "cell_type": "code",
   "execution_count": 27,
   "id": "96391c93",
   "metadata": {
    "colab": {
     "base_uri": "https://localhost:8080/",
     "height": 0
    },
    "id": "96391c93",
    "outputId": "9eb2d782-d5ef-4483-c44c-06bb05ccc0d3"
   },
   "outputs": [
    {
     "name": "stdout",
     "output_type": "stream",
     "text": [
      "Value Counts : \n",
      " 0    15764\n",
      "-1     5938\n",
      "-2     4085\n",
      " 2     3819\n",
      " 3      240\n",
      " 4       76\n",
      " 7       27\n",
      " 6       23\n",
      " 5       21\n",
      " 1        4\n",
      " 8        3\n",
      "Name: PAY_3, dtype: int64\n",
      "Percentage of default : \n",
      " 0    52.546667\n",
      "-1    19.793333\n",
      "-2    13.616667\n",
      " 2    12.730000\n",
      " 3     0.800000\n",
      " 4     0.253333\n",
      " 7     0.090000\n",
      " 6     0.076667\n",
      " 5     0.070000\n",
      " 1     0.013333\n",
      " 8     0.010000\n",
      "Name: PAY_3, dtype: float64\n"
     ]
    },
    {
     "data": {
      "image/png": "[encoded data removed]",
      "text/plain": [
       "<Figure size 1080x720 with 1 Axes>"
      ]
     },
     "metadata": {
      "needs_background": "light"
     },
     "output_type": "display_data"
    }
   ],
   "source": [
    "##PAY_3 Repayment status in july, 2005\n",
    "\n",
    "plt.figure(figsize=(15,10))\n",
    "sns.countplot(x=df['default'].map({0:'No',1:'Yes'}), data=df, hue=df['PAY_3'].map({1:'one month',2:'two months',3:'three months',4:'four months',5:'five months',6:'six months',7:'seven months',8:'eight months',-1:'one month pay duly',-2:'two month pay duly' }),)\n",
    "print(f\"Value Counts : \\n{df['PAY_3'].value_counts()}\")\n",
    "print(f\"Percentage of default : \\n{df['PAY_3'].value_counts()/len(df)*100}\")\n"
   ]
  },
  {
   "cell_type": "markdown",
   "id": "d4ea3f11",
   "metadata": {
    "id": "d4ea3f11"
   },
   "source": [
    "##### So in july max repayment status is 52.54% who have not paid the default"
   ]
  },
  {
   "cell_type": "code",
   "execution_count": 28,
   "id": "bb9eeaae",
   "metadata": {
    "colab": {
     "base_uri": "https://localhost:8080/",
     "height": 0
    },
    "id": "bb9eeaae",
    "outputId": "65f642d3-e536-4791-91b9-9a9981496a97"
   },
   "outputs": [
    {
     "name": "stdout",
     "output_type": "stream",
     "text": [
      "Value Counts : \n",
      " 0    16455\n",
      "-1     5687\n",
      "-2     4348\n",
      " 2     3159\n",
      " 3      180\n",
      " 4       69\n",
      " 7       58\n",
      " 5       35\n",
      " 6        5\n",
      " 8        2\n",
      " 1        2\n",
      "Name: PAY_4, dtype: int64\n",
      "Percentage of default : \n",
      " 0    54.850000\n",
      "-1    18.956667\n",
      "-2    14.493333\n",
      " 2    10.530000\n",
      " 3     0.600000\n",
      " 4     0.230000\n",
      " 7     0.193333\n",
      " 5     0.116667\n",
      " 6     0.016667\n",
      " 8     0.006667\n",
      " 1     0.006667\n",
      "Name: PAY_4, dtype: float64\n"
     ]
    },
    {
     "data": {
      "image/png": "[encoded data removed]",
      "text/plain": [
       "<Figure size 1080x720 with 1 Axes>"
      ]
     },
     "metadata": {
      "needs_background": "light"
     },
     "output_type": "display_data"
    }
   ],
   "source": [
    "##PAY_4 Repayment status in june, 2005\n",
    "\n",
    "plt.figure(figsize=(15,10))\n",
    "sns.countplot(x=df['default'].map({0:'No',1:'Yes'}), data=df, hue=df['PAY_4'].map({1:'one month',2:'two months',3:'three months',4:'four months',5:'five months',6:'six months',7:'seven months',8:'eight months',-1:'one month pay duly',-2:'two month pay duly' }),)\n",
    "print(f\"Value Counts : \\n{df['PAY_4'].value_counts()}\")\n",
    "print(f\"Percentage of default : \\n{df['PAY_4'].value_counts()/len(df)*100}\")"
   ]
  },
  {
   "cell_type": "markdown",
   "id": "18c4e140",
   "metadata": {
    "id": "18c4e140"
   },
   "source": [
    "##### So in july max repayment status is 54.85% who have not paid the default"
   ]
  },
  {
   "cell_type": "code",
   "execution_count": 29,
   "id": "29f65bfd",
   "metadata": {
    "colab": {
     "base_uri": "https://localhost:8080/",
     "height": 0
    },
    "id": "29f65bfd",
    "outputId": "9e1fac60-8241-43a2-f096-cdf1cf7e0dec"
   },
   "outputs": [
    {
     "name": "stdout",
     "output_type": "stream",
     "text": [
      "Value Counts : \n",
      " 0    16947\n",
      "-1     5539\n",
      "-2     4546\n",
      " 2     2626\n",
      " 3      178\n",
      " 4       84\n",
      " 7       58\n",
      " 5       17\n",
      " 6        4\n",
      " 8        1\n",
      "Name: PAY_5, dtype: int64\n",
      "Percentage of default : \n",
      " 0    56.490000\n",
      "-1    18.463333\n",
      "-2    15.153333\n",
      " 2     8.753333\n",
      " 3     0.593333\n",
      " 4     0.280000\n",
      " 7     0.193333\n",
      " 5     0.056667\n",
      " 6     0.013333\n",
      " 8     0.003333\n",
      "Name: PAY_5, dtype: float64\n"
     ]
    },
    {
     "data": {
      "image/png": "[encoded data removed]",
      "text/plain": [
       "<Figure size 1080x720 with 1 Axes>"
      ]
     },
     "metadata": {
      "needs_background": "light"
     },
     "output_type": "display_data"
    }
   ],
   "source": [
    "##PAY_5 Repayment status in may, 2005\n",
    "\n",
    "plt.figure(figsize=(15,10))\n",
    "sns.countplot(x=df['default'].map({0:'No',1:'Yes'}), data=df, hue=df['PAY_5'].map({1:'one month',2:'two months',3:'three months',4:'four months',5:'five months',6:'six months',7:'seven months',8:'eight months',-1:'one month pay duly',-2:'two month pay duly' }),)\n",
    "print(f\"Value Counts : \\n{df['PAY_5'].value_counts()}\")\n",
    "print(f\"Percentage of default : \\n{df['PAY_5'].value_counts()/len(df)*100}\")"
   ]
  },
  {
   "cell_type": "markdown",
   "id": "13114e37",
   "metadata": {
    "id": "13114e37"
   },
   "source": [
    "##### So in may max repayment status is 56.49% who have not paid the default"
   ]
  },
  {
   "cell_type": "code",
   "execution_count": 30,
   "id": "24942427",
   "metadata": {
    "colab": {
     "base_uri": "https://localhost:8080/",
     "height": 0
    },
    "id": "24942427",
    "outputId": "2e328c13-9590-4578-fadf-d1d9ece12351"
   },
   "outputs": [
    {
     "name": "stdout",
     "output_type": "stream",
     "text": [
      "Value Counts : \n",
      " 0    16286\n",
      "-1     5740\n",
      "-2     4895\n",
      " 2     2766\n",
      " 3      184\n",
      " 4       49\n",
      " 7       46\n",
      " 6       19\n",
      " 5       13\n",
      " 8        2\n",
      "Name: PAY_6, dtype: int64\n",
      "Percentage of default : \n",
      " 0    54.286667\n",
      "-1    19.133333\n",
      "-2    16.316667\n",
      " 2     9.220000\n",
      " 3     0.613333\n",
      " 4     0.163333\n",
      " 7     0.153333\n",
      " 6     0.063333\n",
      " 5     0.043333\n",
      " 8     0.006667\n",
      "Name: PAY_6, dtype: float64\n"
     ]
    },
    {
     "data": {
      "image/png": "[encoded data removed]",
      "text/plain": [
       "<Figure size 1080x720 with 1 Axes>"
      ]
     },
     "metadata": {
      "needs_background": "light"
     },
     "output_type": "display_data"
    }
   ],
   "source": [
    "##PAY_5 Repayment status in april, 2005\n",
    "\n",
    "plt.figure(figsize=(15,10))\n",
    "sns.countplot(x=df['default'].map({0:'No',1:'Yes'}), data=df, hue=df['PAY_6'].map({1:'one month',2:'two months',3:'three months',4:'four months',5:'five months',6:'six months',7:'seven months',8:'eight months',-1:'one month pay duly',-2:'two month pay duly' }),)\n",
    "print(f\"Value Counts : \\n{df['PAY_6'].value_counts()}\")\n",
    "print(f\"Percentage of default : \\n{df['PAY_6'].value_counts()/len(df)*100}\")"
   ]
  },
  {
   "cell_type": "markdown",
   "id": "f45efe5a",
   "metadata": {
    "id": "f45efe5a"
   },
   "source": [
    "##### So in april max repayment status is 54.28% who have not paid the default"
   ]
  },
  {
   "cell_type": "markdown",
   "id": "063d5c7b",
   "metadata": {},
   "source": [
    "#  Feature Engineering and Feature Selection"
   ]
  },
  {
   "cell_type": "markdown",
   "id": "f947d940",
   "metadata": {
    "id": "f947d940"
   },
   "source": [
    "#### Now Checking if the dataset is normally distributed"
   ]
  },
  {
   "cell_type": "code",
   "execution_count": 31,
   "id": "404711b5",
   "metadata": {
    "id": "404711b5"
   },
   "outputs": [],
   "source": [
    "from pandas_profiling import ProfileReport\n",
    "ProfileReport(df)"
   ]
  },
  {
   "cell_type": "code",
   "execution_count": 32,
   "id": "83125718",
   "metadata": {
    "colab": {
     "base_uri": "https://localhost:8080/",
     "height": 844
    },
    "id": "83125718",
    "outputId": "f55be9ec-6ebf-4cd7-c0d3-392e7239edf6"
   },
   "outputs": [
    {
     "data": {
      "text/html": [
       "<div>\n",
       "<style scoped>\n",
       "    .dataframe tbody tr th:only-of-type {\n",
       "        vertical-align: middle;\n",
       "    }\n",
       "\n",
       "    .dataframe tbody tr th {\n",
       "        vertical-align: top;\n",
       "    }\n",
       "\n",
       "    .dataframe thead th {\n",
       "        text-align: right;\n",
       "    }\n",
       "</style>\n",
       "<table border=\"1\" class=\"dataframe\">\n",
       "  <thead>\n",
       "    <tr style=\"text-align: right;\">\n",
       "      <th></th>\n",
       "      <th>ID</th>\n",
       "      <th>LIMIT_BAL</th>\n",
       "      <th>SEX</th>\n",
       "      <th>EDUCATION</th>\n",
       "      <th>MARRIAGE</th>\n",
       "      <th>AGE</th>\n",
       "      <th>PAY_0</th>\n",
       "      <th>PAY_2</th>\n",
       "      <th>PAY_3</th>\n",
       "      <th>PAY_4</th>\n",
       "      <th>PAY_5</th>\n",
       "      <th>PAY_6</th>\n",
       "      <th>BILL_AMT1</th>\n",
       "      <th>BILL_AMT2</th>\n",
       "      <th>BILL_AMT3</th>\n",
       "      <th>BILL_AMT4</th>\n",
       "      <th>BILL_AMT5</th>\n",
       "      <th>BILL_AMT6</th>\n",
       "      <th>PAY_AMT1</th>\n",
       "      <th>PAY_AMT2</th>\n",
       "      <th>PAY_AMT3</th>\n",
       "      <th>PAY_AMT4</th>\n",
       "      <th>PAY_AMT5</th>\n",
       "      <th>PAY_AMT6</th>\n",
       "      <th>default</th>\n",
       "    </tr>\n",
       "  </thead>\n",
       "  <tbody>\n",
       "    <tr>\n",
       "      <th>ID</th>\n",
       "      <td>1.000000</td>\n",
       "      <td>0.026179</td>\n",
       "      <td>0.018497</td>\n",
       "      <td>0.037659</td>\n",
       "      <td>-0.028208</td>\n",
       "      <td>0.018678</td>\n",
       "      <td>-0.030575</td>\n",
       "      <td>-0.011215</td>\n",
       "      <td>-0.018494</td>\n",
       "      <td>-0.002735</td>\n",
       "      <td>-0.022199</td>\n",
       "      <td>-0.020270</td>\n",
       "      <td>0.019389</td>\n",
       "      <td>0.017982</td>\n",
       "      <td>0.024354</td>\n",
       "      <td>0.040351</td>\n",
       "      <td>0.016705</td>\n",
       "      <td>0.016730</td>\n",
       "      <td>0.009742</td>\n",
       "      <td>0.008406</td>\n",
       "      <td>0.039151</td>\n",
       "      <td>0.007793</td>\n",
       "      <td>0.000652</td>\n",
       "      <td>0.003000</td>\n",
       "      <td>-0.013952</td>\n",
       "    </tr>\n",
       "    <tr>\n",
       "      <th>LIMIT_BAL</th>\n",
       "      <td>0.026179</td>\n",
       "      <td>1.000000</td>\n",
       "      <td>0.024755</td>\n",
       "      <td>-0.231088</td>\n",
       "      <td>-0.111012</td>\n",
       "      <td>0.144713</td>\n",
       "      <td>-0.271214</td>\n",
       "      <td>-0.296382</td>\n",
       "      <td>-0.286123</td>\n",
       "      <td>-0.267460</td>\n",
       "      <td>-0.249411</td>\n",
       "      <td>-0.235195</td>\n",
       "      <td>0.285430</td>\n",
       "      <td>0.278314</td>\n",
       "      <td>0.283236</td>\n",
       "      <td>0.293988</td>\n",
       "      <td>0.295562</td>\n",
       "      <td>0.290389</td>\n",
       "      <td>0.195236</td>\n",
       "      <td>0.178408</td>\n",
       "      <td>0.210167</td>\n",
       "      <td>0.203242</td>\n",
       "      <td>0.217202</td>\n",
       "      <td>0.219595</td>\n",
       "      <td>-0.153520</td>\n",
       "    </tr>\n",
       "    <tr>\n",
       "      <th>SEX</th>\n",
       "      <td>0.018497</td>\n",
       "      <td>0.024755</td>\n",
       "      <td>1.000000</td>\n",
       "      <td>0.013627</td>\n",
       "      <td>-0.028522</td>\n",
       "      <td>-0.090874</td>\n",
       "      <td>-0.057643</td>\n",
       "      <td>-0.070771</td>\n",
       "      <td>-0.066096</td>\n",
       "      <td>-0.060173</td>\n",
       "      <td>-0.055064</td>\n",
       "      <td>-0.044008</td>\n",
       "      <td>-0.033642</td>\n",
       "      <td>-0.031183</td>\n",
       "      <td>-0.024563</td>\n",
       "      <td>-0.021880</td>\n",
       "      <td>-0.017005</td>\n",
       "      <td>-0.016733</td>\n",
       "      <td>-0.000242</td>\n",
       "      <td>-0.001391</td>\n",
       "      <td>-0.008597</td>\n",
       "      <td>-0.002229</td>\n",
       "      <td>-0.001667</td>\n",
       "      <td>-0.002766</td>\n",
       "      <td>-0.039961</td>\n",
       "    </tr>\n",
       "    <tr>\n",
       "      <th>EDUCATION</th>\n",
       "      <td>0.037659</td>\n",
       "      <td>-0.231088</td>\n",
       "      <td>0.013627</td>\n",
       "      <td>1.000000</td>\n",
       "      <td>-0.136797</td>\n",
       "      <td>0.182434</td>\n",
       "      <td>0.112593</td>\n",
       "      <td>0.129703</td>\n",
       "      <td>0.122425</td>\n",
       "      <td>0.116531</td>\n",
       "      <td>0.104088</td>\n",
       "      <td>0.088986</td>\n",
       "      <td>0.016597</td>\n",
       "      <td>0.011980</td>\n",
       "      <td>0.006714</td>\n",
       "      <td>-0.006131</td>\n",
       "      <td>-0.012439</td>\n",
       "      <td>-0.012646</td>\n",
       "      <td>-0.041088</td>\n",
       "      <td>-0.032793</td>\n",
       "      <td>-0.044293</td>\n",
       "      <td>-0.040949</td>\n",
       "      <td>-0.045138</td>\n",
       "      <td>-0.044061</td>\n",
       "      <td>0.033842</td>\n",
       "    </tr>\n",
       "    <tr>\n",
       "      <th>MARRIAGE</th>\n",
       "      <td>-0.028208</td>\n",
       "      <td>-0.111012</td>\n",
       "      <td>-0.028522</td>\n",
       "      <td>-0.136797</td>\n",
       "      <td>1.000000</td>\n",
       "      <td>-0.412001</td>\n",
       "      <td>0.018557</td>\n",
       "      <td>0.023620</td>\n",
       "      <td>0.032399</td>\n",
       "      <td>0.031831</td>\n",
       "      <td>0.034377</td>\n",
       "      <td>0.033168</td>\n",
       "      <td>-0.027832</td>\n",
       "      <td>-0.025294</td>\n",
       "      <td>-0.029082</td>\n",
       "      <td>-0.027274</td>\n",
       "      <td>-0.029270</td>\n",
       "      <td>-0.025066</td>\n",
       "      <td>-0.004653</td>\n",
       "      <td>-0.009513</td>\n",
       "      <td>-0.004250</td>\n",
       "      <td>-0.013970</td>\n",
       "      <td>-0.003019</td>\n",
       "      <td>-0.008383</td>\n",
       "      <td>-0.027575</td>\n",
       "    </tr>\n",
       "    <tr>\n",
       "      <th>AGE</th>\n",
       "      <td>0.018678</td>\n",
       "      <td>0.144713</td>\n",
       "      <td>-0.090874</td>\n",
       "      <td>0.182434</td>\n",
       "      <td>-0.412001</td>\n",
       "      <td>1.000000</td>\n",
       "      <td>-0.039447</td>\n",
       "      <td>-0.050148</td>\n",
       "      <td>-0.053048</td>\n",
       "      <td>-0.049722</td>\n",
       "      <td>-0.053826</td>\n",
       "      <td>-0.048773</td>\n",
       "      <td>0.056239</td>\n",
       "      <td>0.054283</td>\n",
       "      <td>0.053710</td>\n",
       "      <td>0.051353</td>\n",
       "      <td>0.049345</td>\n",
       "      <td>0.047613</td>\n",
       "      <td>0.026147</td>\n",
       "      <td>0.021785</td>\n",
       "      <td>0.029247</td>\n",
       "      <td>0.021379</td>\n",
       "      <td>0.022850</td>\n",
       "      <td>0.019478</td>\n",
       "      <td>0.013890</td>\n",
       "    </tr>\n",
       "    <tr>\n",
       "      <th>PAY_0</th>\n",
       "      <td>-0.030575</td>\n",
       "      <td>-0.271214</td>\n",
       "      <td>-0.057643</td>\n",
       "      <td>0.112593</td>\n",
       "      <td>0.018557</td>\n",
       "      <td>-0.039447</td>\n",
       "      <td>1.000000</td>\n",
       "      <td>0.672164</td>\n",
       "      <td>0.574245</td>\n",
       "      <td>0.538841</td>\n",
       "      <td>0.509426</td>\n",
       "      <td>0.474553</td>\n",
       "      <td>0.187068</td>\n",
       "      <td>0.189859</td>\n",
       "      <td>0.179785</td>\n",
       "      <td>0.179125</td>\n",
       "      <td>0.180635</td>\n",
       "      <td>0.176980</td>\n",
       "      <td>-0.079269</td>\n",
       "      <td>-0.070101</td>\n",
       "      <td>-0.070561</td>\n",
       "      <td>-0.064005</td>\n",
       "      <td>-0.058190</td>\n",
       "      <td>-0.058673</td>\n",
       "      <td>0.324794</td>\n",
       "    </tr>\n",
       "    <tr>\n",
       "      <th>PAY_2</th>\n",
       "      <td>-0.011215</td>\n",
       "      <td>-0.296382</td>\n",
       "      <td>-0.070771</td>\n",
       "      <td>0.129703</td>\n",
       "      <td>0.023620</td>\n",
       "      <td>-0.050148</td>\n",
       "      <td>0.672164</td>\n",
       "      <td>1.000000</td>\n",
       "      <td>0.766552</td>\n",
       "      <td>0.662067</td>\n",
       "      <td>0.622780</td>\n",
       "      <td>0.575501</td>\n",
       "      <td>0.234887</td>\n",
       "      <td>0.235257</td>\n",
       "      <td>0.224146</td>\n",
       "      <td>0.222237</td>\n",
       "      <td>0.221348</td>\n",
       "      <td>0.219403</td>\n",
       "      <td>-0.080701</td>\n",
       "      <td>-0.058990</td>\n",
       "      <td>-0.055901</td>\n",
       "      <td>-0.046858</td>\n",
       "      <td>-0.037093</td>\n",
       "      <td>-0.036500</td>\n",
       "      <td>0.263551</td>\n",
       "    </tr>\n",
       "    <tr>\n",
       "      <th>PAY_3</th>\n",
       "      <td>-0.018494</td>\n",
       "      <td>-0.286123</td>\n",
       "      <td>-0.066096</td>\n",
       "      <td>0.122425</td>\n",
       "      <td>0.032399</td>\n",
       "      <td>-0.053048</td>\n",
       "      <td>0.574245</td>\n",
       "      <td>0.766552</td>\n",
       "      <td>1.000000</td>\n",
       "      <td>0.777359</td>\n",
       "      <td>0.686775</td>\n",
       "      <td>0.632684</td>\n",
       "      <td>0.208473</td>\n",
       "      <td>0.237295</td>\n",
       "      <td>0.227494</td>\n",
       "      <td>0.227202</td>\n",
       "      <td>0.225145</td>\n",
       "      <td>0.222327</td>\n",
       "      <td>0.001295</td>\n",
       "      <td>-0.066793</td>\n",
       "      <td>-0.053311</td>\n",
       "      <td>-0.046067</td>\n",
       "      <td>-0.035863</td>\n",
       "      <td>-0.035861</td>\n",
       "      <td>0.235253</td>\n",
       "    </tr>\n",
       "    <tr>\n",
       "      <th>PAY_4</th>\n",
       "      <td>-0.002735</td>\n",
       "      <td>-0.267460</td>\n",
       "      <td>-0.060173</td>\n",
       "      <td>0.116531</td>\n",
       "      <td>0.031831</td>\n",
       "      <td>-0.049722</td>\n",
       "      <td>0.538841</td>\n",
       "      <td>0.662067</td>\n",
       "      <td>0.777359</td>\n",
       "      <td>1.000000</td>\n",
       "      <td>0.819835</td>\n",
       "      <td>0.716449</td>\n",
       "      <td>0.202812</td>\n",
       "      <td>0.225816</td>\n",
       "      <td>0.244983</td>\n",
       "      <td>0.245917</td>\n",
       "      <td>0.242902</td>\n",
       "      <td>0.239154</td>\n",
       "      <td>-0.009362</td>\n",
       "      <td>-0.001944</td>\n",
       "      <td>-0.069235</td>\n",
       "      <td>-0.043461</td>\n",
       "      <td>-0.033590</td>\n",
       "      <td>-0.026565</td>\n",
       "      <td>0.216614</td>\n",
       "    </tr>\n",
       "    <tr>\n",
       "      <th>PAY_5</th>\n",
       "      <td>-0.022199</td>\n",
       "      <td>-0.249411</td>\n",
       "      <td>-0.055064</td>\n",
       "      <td>0.104088</td>\n",
       "      <td>0.034377</td>\n",
       "      <td>-0.053826</td>\n",
       "      <td>0.509426</td>\n",
       "      <td>0.622780</td>\n",
       "      <td>0.686775</td>\n",
       "      <td>0.819835</td>\n",
       "      <td>1.000000</td>\n",
       "      <td>0.816900</td>\n",
       "      <td>0.206684</td>\n",
       "      <td>0.226913</td>\n",
       "      <td>0.243335</td>\n",
       "      <td>0.271915</td>\n",
       "      <td>0.269783</td>\n",
       "      <td>0.262509</td>\n",
       "      <td>-0.006089</td>\n",
       "      <td>-0.003191</td>\n",
       "      <td>0.009062</td>\n",
       "      <td>-0.058299</td>\n",
       "      <td>-0.033337</td>\n",
       "      <td>-0.023027</td>\n",
       "      <td>0.204149</td>\n",
       "    </tr>\n",
       "    <tr>\n",
       "      <th>PAY_6</th>\n",
       "      <td>-0.020270</td>\n",
       "      <td>-0.235195</td>\n",
       "      <td>-0.044008</td>\n",
       "      <td>0.088986</td>\n",
       "      <td>0.033168</td>\n",
       "      <td>-0.048773</td>\n",
       "      <td>0.474553</td>\n",
       "      <td>0.575501</td>\n",
       "      <td>0.632684</td>\n",
       "      <td>0.716449</td>\n",
       "      <td>0.816900</td>\n",
       "      <td>1.000000</td>\n",
       "      <td>0.207373</td>\n",
       "      <td>0.226924</td>\n",
       "      <td>0.241181</td>\n",
       "      <td>0.266356</td>\n",
       "      <td>0.290894</td>\n",
       "      <td>0.285091</td>\n",
       "      <td>-0.001496</td>\n",
       "      <td>-0.005223</td>\n",
       "      <td>0.005834</td>\n",
       "      <td>0.019018</td>\n",
       "      <td>-0.046434</td>\n",
       "      <td>-0.025299</td>\n",
       "      <td>0.186866</td>\n",
       "    </tr>\n",
       "    <tr>\n",
       "      <th>BILL_AMT1</th>\n",
       "      <td>0.019389</td>\n",
       "      <td>0.285430</td>\n",
       "      <td>-0.033642</td>\n",
       "      <td>0.016597</td>\n",
       "      <td>-0.027832</td>\n",
       "      <td>0.056239</td>\n",
       "      <td>0.187068</td>\n",
       "      <td>0.234887</td>\n",
       "      <td>0.208473</td>\n",
       "      <td>0.202812</td>\n",
       "      <td>0.206684</td>\n",
       "      <td>0.207373</td>\n",
       "      <td>1.000000</td>\n",
       "      <td>0.951484</td>\n",
       "      <td>0.892279</td>\n",
       "      <td>0.860272</td>\n",
       "      <td>0.829779</td>\n",
       "      <td>0.802650</td>\n",
       "      <td>0.140277</td>\n",
       "      <td>0.099355</td>\n",
       "      <td>0.156887</td>\n",
       "      <td>0.158303</td>\n",
       "      <td>0.167026</td>\n",
       "      <td>0.179341</td>\n",
       "      <td>-0.019644</td>\n",
       "    </tr>\n",
       "    <tr>\n",
       "      <th>BILL_AMT2</th>\n",
       "      <td>0.017982</td>\n",
       "      <td>0.278314</td>\n",
       "      <td>-0.031183</td>\n",
       "      <td>0.011980</td>\n",
       "      <td>-0.025294</td>\n",
       "      <td>0.054283</td>\n",
       "      <td>0.189859</td>\n",
       "      <td>0.235257</td>\n",
       "      <td>0.237295</td>\n",
       "      <td>0.225816</td>\n",
       "      <td>0.226913</td>\n",
       "      <td>0.226924</td>\n",
       "      <td>0.951484</td>\n",
       "      <td>1.000000</td>\n",
       "      <td>0.928326</td>\n",
       "      <td>0.892482</td>\n",
       "      <td>0.859778</td>\n",
       "      <td>0.831594</td>\n",
       "      <td>0.280365</td>\n",
       "      <td>0.100851</td>\n",
       "      <td>0.150718</td>\n",
       "      <td>0.147398</td>\n",
       "      <td>0.157957</td>\n",
       "      <td>0.174256</td>\n",
       "      <td>-0.014193</td>\n",
       "    </tr>\n",
       "    <tr>\n",
       "      <th>BILL_AMT3</th>\n",
       "      <td>0.024354</td>\n",
       "      <td>0.283236</td>\n",
       "      <td>-0.024563</td>\n",
       "      <td>0.006714</td>\n",
       "      <td>-0.029082</td>\n",
       "      <td>0.053710</td>\n",
       "      <td>0.179785</td>\n",
       "      <td>0.224146</td>\n",
       "      <td>0.227494</td>\n",
       "      <td>0.244983</td>\n",
       "      <td>0.243335</td>\n",
       "      <td>0.241181</td>\n",
       "      <td>0.892279</td>\n",
       "      <td>0.928326</td>\n",
       "      <td>1.000000</td>\n",
       "      <td>0.923969</td>\n",
       "      <td>0.883910</td>\n",
       "      <td>0.853320</td>\n",
       "      <td>0.244335</td>\n",
       "      <td>0.316936</td>\n",
       "      <td>0.130011</td>\n",
       "      <td>0.143405</td>\n",
       "      <td>0.179712</td>\n",
       "      <td>0.182326</td>\n",
       "      <td>-0.014076</td>\n",
       "    </tr>\n",
       "    <tr>\n",
       "      <th>BILL_AMT4</th>\n",
       "      <td>0.040351</td>\n",
       "      <td>0.293988</td>\n",
       "      <td>-0.021880</td>\n",
       "      <td>-0.006131</td>\n",
       "      <td>-0.027274</td>\n",
       "      <td>0.051353</td>\n",
       "      <td>0.179125</td>\n",
       "      <td>0.222237</td>\n",
       "      <td>0.227202</td>\n",
       "      <td>0.245917</td>\n",
       "      <td>0.271915</td>\n",
       "      <td>0.266356</td>\n",
       "      <td>0.860272</td>\n",
       "      <td>0.892482</td>\n",
       "      <td>0.923969</td>\n",
       "      <td>1.000000</td>\n",
       "      <td>0.940134</td>\n",
       "      <td>0.900941</td>\n",
       "      <td>0.233012</td>\n",
       "      <td>0.207564</td>\n",
       "      <td>0.300023</td>\n",
       "      <td>0.130191</td>\n",
       "      <td>0.160433</td>\n",
       "      <td>0.177637</td>\n",
       "      <td>-0.010156</td>\n",
       "    </tr>\n",
       "    <tr>\n",
       "      <th>BILL_AMT5</th>\n",
       "      <td>0.016705</td>\n",
       "      <td>0.295562</td>\n",
       "      <td>-0.017005</td>\n",
       "      <td>-0.012439</td>\n",
       "      <td>-0.029270</td>\n",
       "      <td>0.049345</td>\n",
       "      <td>0.180635</td>\n",
       "      <td>0.221348</td>\n",
       "      <td>0.225145</td>\n",
       "      <td>0.242902</td>\n",
       "      <td>0.269783</td>\n",
       "      <td>0.290894</td>\n",
       "      <td>0.829779</td>\n",
       "      <td>0.859778</td>\n",
       "      <td>0.883910</td>\n",
       "      <td>0.940134</td>\n",
       "      <td>1.000000</td>\n",
       "      <td>0.946197</td>\n",
       "      <td>0.217031</td>\n",
       "      <td>0.181246</td>\n",
       "      <td>0.252305</td>\n",
       "      <td>0.293118</td>\n",
       "      <td>0.141574</td>\n",
       "      <td>0.164184</td>\n",
       "      <td>-0.006760</td>\n",
       "    </tr>\n",
       "    <tr>\n",
       "      <th>BILL_AMT6</th>\n",
       "      <td>0.016730</td>\n",
       "      <td>0.290389</td>\n",
       "      <td>-0.016733</td>\n",
       "      <td>-0.012646</td>\n",
       "      <td>-0.025066</td>\n",
       "      <td>0.047613</td>\n",
       "      <td>0.176980</td>\n",
       "      <td>0.219403</td>\n",
       "      <td>0.222327</td>\n",
       "      <td>0.239154</td>\n",
       "      <td>0.262509</td>\n",
       "      <td>0.285091</td>\n",
       "      <td>0.802650</td>\n",
       "      <td>0.831594</td>\n",
       "      <td>0.853320</td>\n",
       "      <td>0.900941</td>\n",
       "      <td>0.946197</td>\n",
       "      <td>1.000000</td>\n",
       "      <td>0.199965</td>\n",
       "      <td>0.172663</td>\n",
       "      <td>0.233770</td>\n",
       "      <td>0.250237</td>\n",
       "      <td>0.307729</td>\n",
       "      <td>0.115494</td>\n",
       "      <td>-0.005372</td>\n",
       "    </tr>\n",
       "    <tr>\n",
       "      <th>PAY_AMT1</th>\n",
       "      <td>0.009742</td>\n",
       "      <td>0.195236</td>\n",
       "      <td>-0.000242</td>\n",
       "      <td>-0.041088</td>\n",
       "      <td>-0.004653</td>\n",
       "      <td>0.026147</td>\n",
       "      <td>-0.079269</td>\n",
       "      <td>-0.080701</td>\n",
       "      <td>0.001295</td>\n",
       "      <td>-0.009362</td>\n",
       "      <td>-0.006089</td>\n",
       "      <td>-0.001496</td>\n",
       "      <td>0.140277</td>\n",
       "      <td>0.280365</td>\n",
       "      <td>0.244335</td>\n",
       "      <td>0.233012</td>\n",
       "      <td>0.217031</td>\n",
       "      <td>0.199965</td>\n",
       "      <td>1.000000</td>\n",
       "      <td>0.285576</td>\n",
       "      <td>0.252191</td>\n",
       "      <td>0.199558</td>\n",
       "      <td>0.148459</td>\n",
       "      <td>0.185735</td>\n",
       "      <td>-0.072929</td>\n",
       "    </tr>\n",
       "    <tr>\n",
       "      <th>PAY_AMT2</th>\n",
       "      <td>0.008406</td>\n",
       "      <td>0.178408</td>\n",
       "      <td>-0.001391</td>\n",
       "      <td>-0.032793</td>\n",
       "      <td>-0.009513</td>\n",
       "      <td>0.021785</td>\n",
       "      <td>-0.070101</td>\n",
       "      <td>-0.058990</td>\n",
       "      <td>-0.066793</td>\n",
       "      <td>-0.001944</td>\n",
       "      <td>-0.003191</td>\n",
       "      <td>-0.005223</td>\n",
       "      <td>0.099355</td>\n",
       "      <td>0.100851</td>\n",
       "      <td>0.316936</td>\n",
       "      <td>0.207564</td>\n",
       "      <td>0.181246</td>\n",
       "      <td>0.172663</td>\n",
       "      <td>0.285576</td>\n",
       "      <td>1.000000</td>\n",
       "      <td>0.244770</td>\n",
       "      <td>0.180107</td>\n",
       "      <td>0.180908</td>\n",
       "      <td>0.157634</td>\n",
       "      <td>-0.058579</td>\n",
       "    </tr>\n",
       "    <tr>\n",
       "      <th>PAY_AMT3</th>\n",
       "      <td>0.039151</td>\n",
       "      <td>0.210167</td>\n",
       "      <td>-0.008597</td>\n",
       "      <td>-0.044293</td>\n",
       "      <td>-0.004250</td>\n",
       "      <td>0.029247</td>\n",
       "      <td>-0.070561</td>\n",
       "      <td>-0.055901</td>\n",
       "      <td>-0.053311</td>\n",
       "      <td>-0.069235</td>\n",
       "      <td>0.009062</td>\n",
       "      <td>0.005834</td>\n",
       "      <td>0.156887</td>\n",
       "      <td>0.150718</td>\n",
       "      <td>0.130011</td>\n",
       "      <td>0.300023</td>\n",
       "      <td>0.252305</td>\n",
       "      <td>0.233770</td>\n",
       "      <td>0.252191</td>\n",
       "      <td>0.244770</td>\n",
       "      <td>1.000000</td>\n",
       "      <td>0.216325</td>\n",
       "      <td>0.159214</td>\n",
       "      <td>0.162740</td>\n",
       "      <td>-0.056250</td>\n",
       "    </tr>\n",
       "    <tr>\n",
       "      <th>PAY_AMT4</th>\n",
       "      <td>0.007793</td>\n",
       "      <td>0.203242</td>\n",
       "      <td>-0.002229</td>\n",
       "      <td>-0.040949</td>\n",
       "      <td>-0.013970</td>\n",
       "      <td>0.021379</td>\n",
       "      <td>-0.064005</td>\n",
       "      <td>-0.046858</td>\n",
       "      <td>-0.046067</td>\n",
       "      <td>-0.043461</td>\n",
       "      <td>-0.058299</td>\n",
       "      <td>0.019018</td>\n",
       "      <td>0.158303</td>\n",
       "      <td>0.147398</td>\n",
       "      <td>0.143405</td>\n",
       "      <td>0.130191</td>\n",
       "      <td>0.293118</td>\n",
       "      <td>0.250237</td>\n",
       "      <td>0.199558</td>\n",
       "      <td>0.180107</td>\n",
       "      <td>0.216325</td>\n",
       "      <td>1.000000</td>\n",
       "      <td>0.151830</td>\n",
       "      <td>0.157834</td>\n",
       "      <td>-0.056827</td>\n",
       "    </tr>\n",
       "    <tr>\n",
       "      <th>PAY_AMT5</th>\n",
       "      <td>0.000652</td>\n",
       "      <td>0.217202</td>\n",
       "      <td>-0.001667</td>\n",
       "      <td>-0.045138</td>\n",
       "      <td>-0.003019</td>\n",
       "      <td>0.022850</td>\n",
       "      <td>-0.058190</td>\n",
       "      <td>-0.037093</td>\n",
       "      <td>-0.035863</td>\n",
       "      <td>-0.033590</td>\n",
       "      <td>-0.033337</td>\n",
       "      <td>-0.046434</td>\n",
       "      <td>0.167026</td>\n",
       "      <td>0.157957</td>\n",
       "      <td>0.179712</td>\n",
       "      <td>0.160433</td>\n",
       "      <td>0.141574</td>\n",
       "      <td>0.307729</td>\n",
       "      <td>0.148459</td>\n",
       "      <td>0.180908</td>\n",
       "      <td>0.159214</td>\n",
       "      <td>0.151830</td>\n",
       "      <td>1.000000</td>\n",
       "      <td>0.154896</td>\n",
       "      <td>-0.055124</td>\n",
       "    </tr>\n",
       "    <tr>\n",
       "      <th>PAY_AMT6</th>\n",
       "      <td>0.003000</td>\n",
       "      <td>0.219595</td>\n",
       "      <td>-0.002766</td>\n",
       "      <td>-0.044061</td>\n",
       "      <td>-0.008383</td>\n",
       "      <td>0.019478</td>\n",
       "      <td>-0.058673</td>\n",
       "      <td>-0.036500</td>\n",
       "      <td>-0.035861</td>\n",
       "      <td>-0.026565</td>\n",
       "      <td>-0.023027</td>\n",
       "      <td>-0.025299</td>\n",
       "      <td>0.179341</td>\n",
       "      <td>0.174256</td>\n",
       "      <td>0.182326</td>\n",
       "      <td>0.177637</td>\n",
       "      <td>0.164184</td>\n",
       "      <td>0.115494</td>\n",
       "      <td>0.185735</td>\n",
       "      <td>0.157634</td>\n",
       "      <td>0.162740</td>\n",
       "      <td>0.157834</td>\n",
       "      <td>0.154896</td>\n",
       "      <td>1.000000</td>\n",
       "      <td>-0.053183</td>\n",
       "    </tr>\n",
       "    <tr>\n",
       "      <th>default</th>\n",
       "      <td>-0.013952</td>\n",
       "      <td>-0.153520</td>\n",
       "      <td>-0.039961</td>\n",
       "      <td>0.033842</td>\n",
       "      <td>-0.027575</td>\n",
       "      <td>0.013890</td>\n",
       "      <td>0.324794</td>\n",
       "      <td>0.263551</td>\n",
       "      <td>0.235253</td>\n",
       "      <td>0.216614</td>\n",
       "      <td>0.204149</td>\n",
       "      <td>0.186866</td>\n",
       "      <td>-0.019644</td>\n",
       "      <td>-0.014193</td>\n",
       "      <td>-0.014076</td>\n",
       "      <td>-0.010156</td>\n",
       "      <td>-0.006760</td>\n",
       "      <td>-0.005372</td>\n",
       "      <td>-0.072929</td>\n",
       "      <td>-0.058579</td>\n",
       "      <td>-0.056250</td>\n",
       "      <td>-0.056827</td>\n",
       "      <td>-0.055124</td>\n",
       "      <td>-0.053183</td>\n",
       "      <td>1.000000</td>\n",
       "    </tr>\n",
       "  </tbody>\n",
       "</table>\n",
       "</div>"
      ],
      "text/plain": [
       "                 ID  LIMIT_BAL       SEX  ...  PAY_AMT5  PAY_AMT6   default\n",
       "ID         1.000000   0.026179  0.018497  ...  0.000652  0.003000 -0.013952\n",
       "LIMIT_BAL  0.026179   1.000000  0.024755  ...  0.217202  0.219595 -0.153520\n",
       "SEX        0.018497   0.024755  1.000000  ... -0.001667 -0.002766 -0.039961\n",
       "EDUCATION  0.037659  -0.231088  0.013627  ... -0.045138 -0.044061  0.033842\n",
       "MARRIAGE  -0.028208  -0.111012 -0.028522  ... -0.003019 -0.008383 -0.027575\n",
       "AGE        0.018678   0.144713 -0.090874  ...  0.022850  0.019478  0.013890\n",
       "PAY_0     -0.030575  -0.271214 -0.057643  ... -0.058190 -0.058673  0.324794\n",
       "PAY_2     -0.011215  -0.296382 -0.070771  ... -0.037093 -0.036500  0.263551\n",
       "PAY_3     -0.018494  -0.286123 -0.066096  ... -0.035863 -0.035861  0.235253\n",
       "PAY_4     -0.002735  -0.267460 -0.060173  ... -0.033590 -0.026565  0.216614\n",
       "PAY_5     -0.022199  -0.249411 -0.055064  ... -0.033337 -0.023027  0.204149\n",
       "PAY_6     -0.020270  -0.235195 -0.044008  ... -0.046434 -0.025299  0.186866\n",
       "BILL_AMT1  0.019389   0.285430 -0.033642  ...  0.167026  0.179341 -0.019644\n",
       "BILL_AMT2  0.017982   0.278314 -0.031183  ...  0.157957  0.174256 -0.014193\n",
       "BILL_AMT3  0.024354   0.283236 -0.024563  ...  0.179712  0.182326 -0.014076\n",
       "BILL_AMT4  0.040351   0.293988 -0.021880  ...  0.160433  0.177637 -0.010156\n",
       "BILL_AMT5  0.016705   0.295562 -0.017005  ...  0.141574  0.164184 -0.006760\n",
       "BILL_AMT6  0.016730   0.290389 -0.016733  ...  0.307729  0.115494 -0.005372\n",
       "PAY_AMT1   0.009742   0.195236 -0.000242  ...  0.148459  0.185735 -0.072929\n",
       "PAY_AMT2   0.008406   0.178408 -0.001391  ...  0.180908  0.157634 -0.058579\n",
       "PAY_AMT3   0.039151   0.210167 -0.008597  ...  0.159214  0.162740 -0.056250\n",
       "PAY_AMT4   0.007793   0.203242 -0.002229  ...  0.151830  0.157834 -0.056827\n",
       "PAY_AMT5   0.000652   0.217202 -0.001667  ...  1.000000  0.154896 -0.055124\n",
       "PAY_AMT6   0.003000   0.219595 -0.002766  ...  0.154896  1.000000 -0.053183\n",
       "default   -0.013952  -0.153520 -0.039961  ... -0.055124 -0.053183  1.000000\n",
       "\n",
       "[25 rows x 25 columns]"
      ]
     },
     "execution_count": 32,
     "metadata": {},
     "output_type": "execute_result"
    }
   ],
   "source": [
    "### checking the corellation matrix\n",
    "\n",
    "pd.DataFrame(df.corr(method='pearson'))"
   ]
  },
  {
   "cell_type": "code",
   "execution_count": 33,
   "id": "11dc8438",
   "metadata": {
    "colab": {
     "base_uri": "https://localhost:8080/",
     "height": 784
    },
    "id": "11dc8438",
    "outputId": "76f9c394-9f1f-4bed-842e-d6e42fa239b3"
   },
   "outputs": [
    {
     "data": {
      "image/png": "[encoded data removed]",
      "text/plain": [
       "<Figure size 1440x1080 with 2 Axes>"
      ]
     },
     "metadata": {
      "needs_background": "light"
     },
     "output_type": "display_data"
    }
   ],
   "source": [
    "### checking correlation matrix using \"spearman\" method\n",
    "\n",
    "corr_matrix = df.corr(method='spearman')\n",
    "\n",
    "\n",
    "plt.figure(figsize=(20,15))\n",
    "sns.heatmap(corr_matrix, cmap='Pastel1', annot=True, fmt='.2g', mask=np.triu(corr_matrix))\n",
    "plt.show()"
   ]
  },
  {
   "cell_type": "code",
   "execution_count": 34,
   "id": "65c7d9c2",
   "metadata": {
    "colab": {
     "base_uri": "https://localhost:8080/",
     "height": 672
    },
    "id": "65c7d9c2",
    "outputId": "46554284-c278-48d0-a4f5-b8ebb437e2d7"
   },
   "outputs": [
    {
     "data": {
      "image/png": "[encoded data removed]",
      "text/plain": [
       "<Figure size 720x720 with 1 Axes>"
      ]
     },
     "metadata": {
      "needs_background": "light"
     },
     "output_type": "display_data"
    }
   ],
   "source": [
    "### ploting the correlation matrix values\n",
    "\n",
    "plt.figure(figsize=(10,10))\n",
    "corr_matrix.iloc[:-1, -1].plot.bar(color='orange')\n",
    "plt.xlabel(\"Features\")\n",
    "plt.ylabel(\"Correlation\")\n",
    "plt.title(\"Correlation of default feature with all other features\", fontdict={'size':16})\n",
    "plt.show()"
   ]
  },
  {
   "cell_type": "markdown",
   "id": "e3d1667e",
   "metadata": {
    "id": "e3d1667e"
   },
   "source": [
    "#### So, none of the feature has corellation has >0.4 se we can consider all."
   ]
  },
  {
   "cell_type": "code",
   "execution_count": 34,
   "id": "b413a79c",
   "metadata": {
    "id": "b413a79c"
   },
   "outputs": [],
   "source": []
  },
  {
   "cell_type": "markdown",
   "id": "a816431a",
   "metadata": {
    "id": "a816431a"
   },
   "source": [
    "# Training"
   ]
  },
  {
   "cell_type": "code",
   "execution_count": 35,
   "id": "d708a6d5",
   "metadata": {
    "colab": {
     "base_uri": "https://localhost:8080/"
    },
    "id": "d708a6d5",
    "outputId": "89a46690-c57d-434c-d7da-d1a5409389ee"
   },
   "outputs": [
    {
     "data": {
      "text/plain": [
       "Index(['ID', 'LIMIT_BAL', 'SEX', 'EDUCATION', 'MARRIAGE', 'AGE', 'PAY_0',\n",
       "       'PAY_2', 'PAY_3', 'PAY_4', 'PAY_5', 'PAY_6', 'BILL_AMT1', 'BILL_AMT2',\n",
       "       'BILL_AMT3', 'BILL_AMT4', 'BILL_AMT5', 'BILL_AMT6', 'PAY_AMT1',\n",
       "       'PAY_AMT2', 'PAY_AMT3', 'PAY_AMT4', 'PAY_AMT5', 'PAY_AMT6', 'default'],\n",
       "      dtype='object')"
      ]
     },
     "execution_count": 35,
     "metadata": {},
     "output_type": "execute_result"
    }
   ],
   "source": [
    "df.columns"
   ]
  },
  {
   "cell_type": "code",
   "execution_count": 36,
   "id": "74dbc3d8",
   "metadata": {
    "id": "74dbc3d8"
   },
   "outputs": [],
   "source": [
    "## ID columns onlu contain unique values\n",
    "\n",
    "df.drop(columns=['ID'],inplace=True)"
   ]
  },
  {
   "cell_type": "code",
   "execution_count": 37,
   "id": "09673e2b",
   "metadata": {
    "colab": {
     "base_uri": "https://localhost:8080/",
     "height": 224
    },
    "id": "09673e2b",
    "outputId": "38cf9a3f-e196-4561-c1a6-7521029b1f81"
   },
   "outputs": [
    {
     "data": {
      "text/html": [
       "<div>\n",
       "<style scoped>\n",
       "    .dataframe tbody tr th:only-of-type {\n",
       "        vertical-align: middle;\n",
       "    }\n",
       "\n",
       "    .dataframe tbody tr th {\n",
       "        vertical-align: top;\n",
       "    }\n",
       "\n",
       "    .dataframe thead th {\n",
       "        text-align: right;\n",
       "    }\n",
       "</style>\n",
       "<table border=\"1\" class=\"dataframe\">\n",
       "  <thead>\n",
       "    <tr style=\"text-align: right;\">\n",
       "      <th></th>\n",
       "      <th>LIMIT_BAL</th>\n",
       "      <th>SEX</th>\n",
       "      <th>EDUCATION</th>\n",
       "      <th>MARRIAGE</th>\n",
       "      <th>AGE</th>\n",
       "      <th>PAY_0</th>\n",
       "      <th>PAY_2</th>\n",
       "      <th>PAY_3</th>\n",
       "      <th>PAY_4</th>\n",
       "      <th>PAY_5</th>\n",
       "      <th>PAY_6</th>\n",
       "      <th>BILL_AMT1</th>\n",
       "      <th>BILL_AMT2</th>\n",
       "      <th>BILL_AMT3</th>\n",
       "      <th>BILL_AMT4</th>\n",
       "      <th>BILL_AMT5</th>\n",
       "      <th>BILL_AMT6</th>\n",
       "      <th>PAY_AMT1</th>\n",
       "      <th>PAY_AMT2</th>\n",
       "      <th>PAY_AMT3</th>\n",
       "      <th>PAY_AMT4</th>\n",
       "      <th>PAY_AMT5</th>\n",
       "      <th>PAY_AMT6</th>\n",
       "      <th>default</th>\n",
       "    </tr>\n",
       "  </thead>\n",
       "  <tbody>\n",
       "    <tr>\n",
       "      <th>0</th>\n",
       "      <td>20000.0</td>\n",
       "      <td>2</td>\n",
       "      <td>2</td>\n",
       "      <td>1</td>\n",
       "      <td>24</td>\n",
       "      <td>2</td>\n",
       "      <td>2</td>\n",
       "      <td>-1</td>\n",
       "      <td>-1</td>\n",
       "      <td>-2</td>\n",
       "      <td>-2</td>\n",
       "      <td>3913.0</td>\n",
       "      <td>3102.0</td>\n",
       "      <td>689.0</td>\n",
       "      <td>0.0</td>\n",
       "      <td>0.0</td>\n",
       "      <td>0.0</td>\n",
       "      <td>0.0</td>\n",
       "      <td>689.0</td>\n",
       "      <td>0.0</td>\n",
       "      <td>0.0</td>\n",
       "      <td>0.0</td>\n",
       "      <td>0.0</td>\n",
       "      <td>1</td>\n",
       "    </tr>\n",
       "    <tr>\n",
       "      <th>1</th>\n",
       "      <td>120000.0</td>\n",
       "      <td>2</td>\n",
       "      <td>2</td>\n",
       "      <td>2</td>\n",
       "      <td>26</td>\n",
       "      <td>-1</td>\n",
       "      <td>2</td>\n",
       "      <td>0</td>\n",
       "      <td>0</td>\n",
       "      <td>0</td>\n",
       "      <td>2</td>\n",
       "      <td>2682.0</td>\n",
       "      <td>1725.0</td>\n",
       "      <td>2682.0</td>\n",
       "      <td>3272.0</td>\n",
       "      <td>3455.0</td>\n",
       "      <td>3261.0</td>\n",
       "      <td>0.0</td>\n",
       "      <td>1000.0</td>\n",
       "      <td>1000.0</td>\n",
       "      <td>1000.0</td>\n",
       "      <td>0.0</td>\n",
       "      <td>2000.0</td>\n",
       "      <td>1</td>\n",
       "    </tr>\n",
       "    <tr>\n",
       "      <th>2</th>\n",
       "      <td>90000.0</td>\n",
       "      <td>2</td>\n",
       "      <td>2</td>\n",
       "      <td>2</td>\n",
       "      <td>34</td>\n",
       "      <td>0</td>\n",
       "      <td>0</td>\n",
       "      <td>0</td>\n",
       "      <td>0</td>\n",
       "      <td>0</td>\n",
       "      <td>0</td>\n",
       "      <td>29239.0</td>\n",
       "      <td>14027.0</td>\n",
       "      <td>13559.0</td>\n",
       "      <td>14331.0</td>\n",
       "      <td>14948.0</td>\n",
       "      <td>15549.0</td>\n",
       "      <td>1518.0</td>\n",
       "      <td>1500.0</td>\n",
       "      <td>1000.0</td>\n",
       "      <td>1000.0</td>\n",
       "      <td>1000.0</td>\n",
       "      <td>5000.0</td>\n",
       "      <td>0</td>\n",
       "    </tr>\n",
       "    <tr>\n",
       "      <th>3</th>\n",
       "      <td>50000.0</td>\n",
       "      <td>2</td>\n",
       "      <td>2</td>\n",
       "      <td>1</td>\n",
       "      <td>37</td>\n",
       "      <td>0</td>\n",
       "      <td>0</td>\n",
       "      <td>0</td>\n",
       "      <td>0</td>\n",
       "      <td>0</td>\n",
       "      <td>0</td>\n",
       "      <td>46990.0</td>\n",
       "      <td>48233.0</td>\n",
       "      <td>49291.0</td>\n",
       "      <td>28314.0</td>\n",
       "      <td>28959.0</td>\n",
       "      <td>29547.0</td>\n",
       "      <td>2000.0</td>\n",
       "      <td>2019.0</td>\n",
       "      <td>1200.0</td>\n",
       "      <td>1100.0</td>\n",
       "      <td>1069.0</td>\n",
       "      <td>1000.0</td>\n",
       "      <td>0</td>\n",
       "    </tr>\n",
       "    <tr>\n",
       "      <th>4</th>\n",
       "      <td>50000.0</td>\n",
       "      <td>1</td>\n",
       "      <td>2</td>\n",
       "      <td>1</td>\n",
       "      <td>57</td>\n",
       "      <td>-1</td>\n",
       "      <td>0</td>\n",
       "      <td>-1</td>\n",
       "      <td>0</td>\n",
       "      <td>0</td>\n",
       "      <td>0</td>\n",
       "      <td>8617.0</td>\n",
       "      <td>5670.0</td>\n",
       "      <td>35835.0</td>\n",
       "      <td>20940.0</td>\n",
       "      <td>19146.0</td>\n",
       "      <td>19131.0</td>\n",
       "      <td>2000.0</td>\n",
       "      <td>36681.0</td>\n",
       "      <td>10000.0</td>\n",
       "      <td>9000.0</td>\n",
       "      <td>689.0</td>\n",
       "      <td>679.0</td>\n",
       "      <td>0</td>\n",
       "    </tr>\n",
       "  </tbody>\n",
       "</table>\n",
       "</div>"
      ],
      "text/plain": [
       "   LIMIT_BAL  SEX  EDUCATION  MARRIAGE  ...  PAY_AMT4  PAY_AMT5  PAY_AMT6  default\n",
       "0    20000.0    2          2         1  ...       0.0       0.0       0.0        1\n",
       "1   120000.0    2          2         2  ...    1000.0       0.0    2000.0        1\n",
       "2    90000.0    2          2         2  ...    1000.0    1000.0    5000.0        0\n",
       "3    50000.0    2          2         1  ...    1100.0    1069.0    1000.0        0\n",
       "4    50000.0    1          2         1  ...    9000.0     689.0     679.0        0\n",
       "\n",
       "[5 rows x 24 columns]"
      ]
     },
     "execution_count": 37,
     "metadata": {},
     "output_type": "execute_result"
    }
   ],
   "source": [
    "df.head()"
   ]
  },
  {
   "cell_type": "code",
   "execution_count": 38,
   "id": "55a2603d",
   "metadata": {
    "id": "55a2603d"
   },
   "outputs": [],
   "source": [
    "### seperating X and y\n",
    "\n",
    "X= df.drop(columns=[\"default\"])\n",
    "y=df['default']"
   ]
  },
  {
   "cell_type": "code",
   "execution_count": 39,
   "id": "06ee0324",
   "metadata": {
    "colab": {
     "base_uri": "https://localhost:8080/"
    },
    "id": "06ee0324",
    "outputId": "1eb4b3da-114c-4d8e-b4c2-53f0c33f74d0"
   },
   "outputs": [
    {
     "data": {
      "text/plain": [
       "Index(['LIMIT_BAL', 'SEX', 'EDUCATION', 'MARRIAGE', 'AGE', 'PAY_0', 'PAY_2',\n",
       "       'PAY_3', 'PAY_4', 'PAY_5', 'PAY_6', 'BILL_AMT1', 'BILL_AMT2',\n",
       "       'BILL_AMT3', 'BILL_AMT4', 'BILL_AMT5', 'BILL_AMT6', 'PAY_AMT1',\n",
       "       'PAY_AMT2', 'PAY_AMT3', 'PAY_AMT4', 'PAY_AMT5', 'PAY_AMT6'],\n",
       "      dtype='object')"
      ]
     },
     "execution_count": 39,
     "metadata": {},
     "output_type": "execute_result"
    }
   ],
   "source": [
    "X.columns"
   ]
  },
  {
   "cell_type": "code",
   "execution_count": 40,
   "id": "b39850cf",
   "metadata": {
    "colab": {
     "base_uri": "https://localhost:8080/"
    },
    "id": "b39850cf",
    "outputId": "62020b81-4f39-421d-d2dd-8c75a2f7a97b"
   },
   "outputs": [
    {
     "data": {
      "text/plain": [
       "0        1\n",
       "1        1\n",
       "2        0\n",
       "3        0\n",
       "4        0\n",
       "        ..\n",
       "29995    0\n",
       "29996    0\n",
       "29997    1\n",
       "29998    1\n",
       "29999    1\n",
       "Name: default, Length: 30000, dtype: int64"
      ]
     },
     "execution_count": 40,
     "metadata": {},
     "output_type": "execute_result"
    }
   ],
   "source": [
    "y"
   ]
  },
  {
   "cell_type": "code",
   "execution_count": 41,
   "id": "78edd6e7",
   "metadata": {
    "colab": {
     "base_uri": "https://localhost:8080/"
    },
    "id": "78edd6e7",
    "outputId": "b74edf2e-4eec-4bd4-9096-16f8df2d459c"
   },
   "outputs": [
    {
     "data": {
      "text/plain": [
       "['LIMIT_BAL',\n",
       " 'AGE',\n",
       " 'BILL_AMT1',\n",
       " 'BILL_AMT2',\n",
       " 'BILL_AMT3',\n",
       " 'BILL_AMT4',\n",
       " 'BILL_AMT5',\n",
       " 'BILL_AMT6',\n",
       " 'PAY_AMT1',\n",
       " 'PAY_AMT2',\n",
       " 'PAY_AMT3',\n",
       " 'PAY_AMT4',\n",
       " 'PAY_AMT5',\n",
       " 'PAY_AMT6']"
      ]
     },
     "execution_count": 41,
     "metadata": {},
     "output_type": "execute_result"
    }
   ],
   "source": [
    "## numerical columns present\n",
    "\n",
    "numeric_col = ['LIMIT_BAL','AGE','BILL_AMT1','BILL_AMT2','BILL_AMT3', 'BILL_AMT4', 'BILL_AMT5', 'BILL_AMT6', 'PAY_AMT1','PAY_AMT2', 'PAY_AMT3', 'PAY_AMT4', 'PAY_AMT5', 'PAY_AMT6']\n",
    "\n",
    "numeric_col"
   ]
  },
  {
   "cell_type": "code",
   "execution_count": 41,
   "id": "06984052",
   "metadata": {
    "id": "06984052"
   },
   "outputs": [],
   "source": []
  },
  {
   "cell_type": "markdown",
   "id": "103d061a",
   "metadata": {
    "id": "103d061a"
   },
   "source": [
    "##### Feature scaling"
   ]
  },
  {
   "cell_type": "code",
   "execution_count": 42,
   "id": "f9baa23c",
   "metadata": {
    "id": "f9baa23c"
   },
   "outputs": [],
   "source": [
    "from sklearn.preprocessing import StandardScaler\n",
    "scaler = StandardScaler()"
   ]
  },
  {
   "cell_type": "code",
   "execution_count": 43,
   "id": "376a101d",
   "metadata": {
    "colab": {
     "base_uri": "https://localhost:8080/",
     "height": 439
    },
    "id": "376a101d",
    "outputId": "8f7656df-cc4f-4111-8328-9495ac2a57c1"
   },
   "outputs": [
    {
     "data": {
      "text/html": [
       "<div>\n",
       "<style scoped>\n",
       "    .dataframe tbody tr th:only-of-type {\n",
       "        vertical-align: middle;\n",
       "    }\n",
       "\n",
       "    .dataframe tbody tr th {\n",
       "        vertical-align: top;\n",
       "    }\n",
       "\n",
       "    .dataframe thead th {\n",
       "        text-align: right;\n",
       "    }\n",
       "</style>\n",
       "<table border=\"1\" class=\"dataframe\">\n",
       "  <thead>\n",
       "    <tr style=\"text-align: right;\">\n",
       "      <th></th>\n",
       "      <th>LIMIT_BAL</th>\n",
       "      <th>SEX</th>\n",
       "      <th>EDUCATION</th>\n",
       "      <th>MARRIAGE</th>\n",
       "      <th>AGE</th>\n",
       "      <th>PAY_0</th>\n",
       "      <th>PAY_2</th>\n",
       "      <th>PAY_3</th>\n",
       "      <th>PAY_4</th>\n",
       "      <th>PAY_5</th>\n",
       "      <th>PAY_6</th>\n",
       "      <th>BILL_AMT1</th>\n",
       "      <th>BILL_AMT2</th>\n",
       "      <th>BILL_AMT3</th>\n",
       "      <th>BILL_AMT4</th>\n",
       "      <th>BILL_AMT5</th>\n",
       "      <th>BILL_AMT6</th>\n",
       "      <th>PAY_AMT1</th>\n",
       "      <th>PAY_AMT2</th>\n",
       "      <th>PAY_AMT3</th>\n",
       "      <th>PAY_AMT4</th>\n",
       "      <th>PAY_AMT5</th>\n",
       "      <th>PAY_AMT6</th>\n",
       "    </tr>\n",
       "  </thead>\n",
       "  <tbody>\n",
       "    <tr>\n",
       "      <th>0</th>\n",
       "      <td>20000.0</td>\n",
       "      <td>2</td>\n",
       "      <td>2</td>\n",
       "      <td>1</td>\n",
       "      <td>24</td>\n",
       "      <td>2</td>\n",
       "      <td>2</td>\n",
       "      <td>-1</td>\n",
       "      <td>-1</td>\n",
       "      <td>-2</td>\n",
       "      <td>-2</td>\n",
       "      <td>3913.0</td>\n",
       "      <td>3102.0</td>\n",
       "      <td>689.0</td>\n",
       "      <td>0.0</td>\n",
       "      <td>0.0</td>\n",
       "      <td>0.0</td>\n",
       "      <td>0.0</td>\n",
       "      <td>689.0</td>\n",
       "      <td>0.0</td>\n",
       "      <td>0.0</td>\n",
       "      <td>0.0</td>\n",
       "      <td>0.0</td>\n",
       "    </tr>\n",
       "    <tr>\n",
       "      <th>1</th>\n",
       "      <td>120000.0</td>\n",
       "      <td>2</td>\n",
       "      <td>2</td>\n",
       "      <td>2</td>\n",
       "      <td>26</td>\n",
       "      <td>-1</td>\n",
       "      <td>2</td>\n",
       "      <td>0</td>\n",
       "      <td>0</td>\n",
       "      <td>0</td>\n",
       "      <td>2</td>\n",
       "      <td>2682.0</td>\n",
       "      <td>1725.0</td>\n",
       "      <td>2682.0</td>\n",
       "      <td>3272.0</td>\n",
       "      <td>3455.0</td>\n",
       "      <td>3261.0</td>\n",
       "      <td>0.0</td>\n",
       "      <td>1000.0</td>\n",
       "      <td>1000.0</td>\n",
       "      <td>1000.0</td>\n",
       "      <td>0.0</td>\n",
       "      <td>2000.0</td>\n",
       "    </tr>\n",
       "    <tr>\n",
       "      <th>2</th>\n",
       "      <td>90000.0</td>\n",
       "      <td>2</td>\n",
       "      <td>2</td>\n",
       "      <td>2</td>\n",
       "      <td>34</td>\n",
       "      <td>0</td>\n",
       "      <td>0</td>\n",
       "      <td>0</td>\n",
       "      <td>0</td>\n",
       "      <td>0</td>\n",
       "      <td>0</td>\n",
       "      <td>29239.0</td>\n",
       "      <td>14027.0</td>\n",
       "      <td>13559.0</td>\n",
       "      <td>14331.0</td>\n",
       "      <td>14948.0</td>\n",
       "      <td>15549.0</td>\n",
       "      <td>1518.0</td>\n",
       "      <td>1500.0</td>\n",
       "      <td>1000.0</td>\n",
       "      <td>1000.0</td>\n",
       "      <td>1000.0</td>\n",
       "      <td>5000.0</td>\n",
       "    </tr>\n",
       "    <tr>\n",
       "      <th>3</th>\n",
       "      <td>50000.0</td>\n",
       "      <td>2</td>\n",
       "      <td>2</td>\n",
       "      <td>1</td>\n",
       "      <td>37</td>\n",
       "      <td>0</td>\n",
       "      <td>0</td>\n",
       "      <td>0</td>\n",
       "      <td>0</td>\n",
       "      <td>0</td>\n",
       "      <td>0</td>\n",
       "      <td>46990.0</td>\n",
       "      <td>48233.0</td>\n",
       "      <td>49291.0</td>\n",
       "      <td>28314.0</td>\n",
       "      <td>28959.0</td>\n",
       "      <td>29547.0</td>\n",
       "      <td>2000.0</td>\n",
       "      <td>2019.0</td>\n",
       "      <td>1200.0</td>\n",
       "      <td>1100.0</td>\n",
       "      <td>1069.0</td>\n",
       "      <td>1000.0</td>\n",
       "    </tr>\n",
       "    <tr>\n",
       "      <th>4</th>\n",
       "      <td>50000.0</td>\n",
       "      <td>1</td>\n",
       "      <td>2</td>\n",
       "      <td>1</td>\n",
       "      <td>57</td>\n",
       "      <td>-1</td>\n",
       "      <td>0</td>\n",
       "      <td>-1</td>\n",
       "      <td>0</td>\n",
       "      <td>0</td>\n",
       "      <td>0</td>\n",
       "      <td>8617.0</td>\n",
       "      <td>5670.0</td>\n",
       "      <td>35835.0</td>\n",
       "      <td>20940.0</td>\n",
       "      <td>19146.0</td>\n",
       "      <td>19131.0</td>\n",
       "      <td>2000.0</td>\n",
       "      <td>36681.0</td>\n",
       "      <td>10000.0</td>\n",
       "      <td>9000.0</td>\n",
       "      <td>689.0</td>\n",
       "      <td>679.0</td>\n",
       "    </tr>\n",
       "    <tr>\n",
       "      <th>...</th>\n",
       "      <td>...</td>\n",
       "      <td>...</td>\n",
       "      <td>...</td>\n",
       "      <td>...</td>\n",
       "      <td>...</td>\n",
       "      <td>...</td>\n",
       "      <td>...</td>\n",
       "      <td>...</td>\n",
       "      <td>...</td>\n",
       "      <td>...</td>\n",
       "      <td>...</td>\n",
       "      <td>...</td>\n",
       "      <td>...</td>\n",
       "      <td>...</td>\n",
       "      <td>...</td>\n",
       "      <td>...</td>\n",
       "      <td>...</td>\n",
       "      <td>...</td>\n",
       "      <td>...</td>\n",
       "      <td>...</td>\n",
       "      <td>...</td>\n",
       "      <td>...</td>\n",
       "      <td>...</td>\n",
       "    </tr>\n",
       "    <tr>\n",
       "      <th>29995</th>\n",
       "      <td>220000.0</td>\n",
       "      <td>1</td>\n",
       "      <td>3</td>\n",
       "      <td>1</td>\n",
       "      <td>39</td>\n",
       "      <td>0</td>\n",
       "      <td>0</td>\n",
       "      <td>0</td>\n",
       "      <td>0</td>\n",
       "      <td>0</td>\n",
       "      <td>0</td>\n",
       "      <td>188948.0</td>\n",
       "      <td>192815.0</td>\n",
       "      <td>208365.0</td>\n",
       "      <td>88004.0</td>\n",
       "      <td>31237.0</td>\n",
       "      <td>15980.0</td>\n",
       "      <td>8500.0</td>\n",
       "      <td>20000.0</td>\n",
       "      <td>5003.0</td>\n",
       "      <td>3047.0</td>\n",
       "      <td>5000.0</td>\n",
       "      <td>1000.0</td>\n",
       "    </tr>\n",
       "    <tr>\n",
       "      <th>29996</th>\n",
       "      <td>150000.0</td>\n",
       "      <td>1</td>\n",
       "      <td>3</td>\n",
       "      <td>2</td>\n",
       "      <td>43</td>\n",
       "      <td>-1</td>\n",
       "      <td>-1</td>\n",
       "      <td>-1</td>\n",
       "      <td>-1</td>\n",
       "      <td>0</td>\n",
       "      <td>0</td>\n",
       "      <td>1683.0</td>\n",
       "      <td>1828.0</td>\n",
       "      <td>3502.0</td>\n",
       "      <td>8979.0</td>\n",
       "      <td>5190.0</td>\n",
       "      <td>0.0</td>\n",
       "      <td>1837.0</td>\n",
       "      <td>3526.0</td>\n",
       "      <td>8998.0</td>\n",
       "      <td>129.0</td>\n",
       "      <td>0.0</td>\n",
       "      <td>0.0</td>\n",
       "    </tr>\n",
       "    <tr>\n",
       "      <th>29997</th>\n",
       "      <td>30000.0</td>\n",
       "      <td>1</td>\n",
       "      <td>2</td>\n",
       "      <td>2</td>\n",
       "      <td>37</td>\n",
       "      <td>4</td>\n",
       "      <td>3</td>\n",
       "      <td>2</td>\n",
       "      <td>-1</td>\n",
       "      <td>0</td>\n",
       "      <td>0</td>\n",
       "      <td>3565.0</td>\n",
       "      <td>3356.0</td>\n",
       "      <td>2758.0</td>\n",
       "      <td>20878.0</td>\n",
       "      <td>20582.0</td>\n",
       "      <td>19357.0</td>\n",
       "      <td>0.0</td>\n",
       "      <td>0.0</td>\n",
       "      <td>22000.0</td>\n",
       "      <td>4200.0</td>\n",
       "      <td>2000.0</td>\n",
       "      <td>3100.0</td>\n",
       "    </tr>\n",
       "    <tr>\n",
       "      <th>29998</th>\n",
       "      <td>80000.0</td>\n",
       "      <td>1</td>\n",
       "      <td>3</td>\n",
       "      <td>1</td>\n",
       "      <td>41</td>\n",
       "      <td>1</td>\n",
       "      <td>-1</td>\n",
       "      <td>0</td>\n",
       "      <td>0</td>\n",
       "      <td>0</td>\n",
       "      <td>-1</td>\n",
       "      <td>-1645.0</td>\n",
       "      <td>78379.0</td>\n",
       "      <td>76304.0</td>\n",
       "      <td>52774.0</td>\n",
       "      <td>11855.0</td>\n",
       "      <td>48944.0</td>\n",
       "      <td>85900.0</td>\n",
       "      <td>3409.0</td>\n",
       "      <td>1178.0</td>\n",
       "      <td>1926.0</td>\n",
       "      <td>52964.0</td>\n",
       "      <td>1804.0</td>\n",
       "    </tr>\n",
       "    <tr>\n",
       "      <th>29999</th>\n",
       "      <td>50000.0</td>\n",
       "      <td>1</td>\n",
       "      <td>2</td>\n",
       "      <td>1</td>\n",
       "      <td>46</td>\n",
       "      <td>0</td>\n",
       "      <td>0</td>\n",
       "      <td>0</td>\n",
       "      <td>0</td>\n",
       "      <td>0</td>\n",
       "      <td>0</td>\n",
       "      <td>47929.0</td>\n",
       "      <td>48905.0</td>\n",
       "      <td>49764.0</td>\n",
       "      <td>36535.0</td>\n",
       "      <td>32428.0</td>\n",
       "      <td>15313.0</td>\n",
       "      <td>2078.0</td>\n",
       "      <td>1800.0</td>\n",
       "      <td>1430.0</td>\n",
       "      <td>1000.0</td>\n",
       "      <td>1000.0</td>\n",
       "      <td>1000.0</td>\n",
       "    </tr>\n",
       "  </tbody>\n",
       "</table>\n",
       "<p>30000 rows × 23 columns</p>\n",
       "</div>"
      ],
      "text/plain": [
       "       LIMIT_BAL  SEX  EDUCATION  ...  PAY_AMT4  PAY_AMT5  PAY_AMT6\n",
       "0        20000.0    2          2  ...       0.0       0.0       0.0\n",
       "1       120000.0    2          2  ...    1000.0       0.0    2000.0\n",
       "2        90000.0    2          2  ...    1000.0    1000.0    5000.0\n",
       "3        50000.0    2          2  ...    1100.0    1069.0    1000.0\n",
       "4        50000.0    1          2  ...    9000.0     689.0     679.0\n",
       "...          ...  ...        ...  ...       ...       ...       ...\n",
       "29995   220000.0    1          3  ...    3047.0    5000.0    1000.0\n",
       "29996   150000.0    1          3  ...     129.0       0.0       0.0\n",
       "29997    30000.0    1          2  ...    4200.0    2000.0    3100.0\n",
       "29998    80000.0    1          3  ...    1926.0   52964.0    1804.0\n",
       "29999    50000.0    1          2  ...    1000.0    1000.0    1000.0\n",
       "\n",
       "[30000 rows x 23 columns]"
      ]
     },
     "execution_count": 43,
     "metadata": {},
     "output_type": "execute_result"
    }
   ],
   "source": [
    "X"
   ]
  },
  {
   "cell_type": "code",
   "execution_count": 44,
   "id": "cbb5c544",
   "metadata": {
    "id": "cbb5c544"
   },
   "outputs": [],
   "source": [
    "X[numeric_col]= scaler.fit_transform(X[numeric_col])"
   ]
  },
  {
   "cell_type": "code",
   "execution_count": 45,
   "id": "f62d9dcf",
   "metadata": {
    "colab": {
     "base_uri": "https://localhost:8080/",
     "height": 439
    },
    "id": "f62d9dcf",
    "outputId": "b775cff5-dca2-40da-a2a5-a90627753662"
   },
   "outputs": [
    {
     "data": {
      "text/html": [
       "<div>\n",
       "<style scoped>\n",
       "    .dataframe tbody tr th:only-of-type {\n",
       "        vertical-align: middle;\n",
       "    }\n",
       "\n",
       "    .dataframe tbody tr th {\n",
       "        vertical-align: top;\n",
       "    }\n",
       "\n",
       "    .dataframe thead th {\n",
       "        text-align: right;\n",
       "    }\n",
       "</style>\n",
       "<table border=\"1\" class=\"dataframe\">\n",
       "  <thead>\n",
       "    <tr style=\"text-align: right;\">\n",
       "      <th></th>\n",
       "      <th>LIMIT_BAL</th>\n",
       "      <th>SEX</th>\n",
       "      <th>EDUCATION</th>\n",
       "      <th>MARRIAGE</th>\n",
       "      <th>AGE</th>\n",
       "      <th>PAY_0</th>\n",
       "      <th>PAY_2</th>\n",
       "      <th>PAY_3</th>\n",
       "      <th>PAY_4</th>\n",
       "      <th>PAY_5</th>\n",
       "      <th>PAY_6</th>\n",
       "      <th>BILL_AMT1</th>\n",
       "      <th>BILL_AMT2</th>\n",
       "      <th>BILL_AMT3</th>\n",
       "      <th>BILL_AMT4</th>\n",
       "      <th>BILL_AMT5</th>\n",
       "      <th>BILL_AMT6</th>\n",
       "      <th>PAY_AMT1</th>\n",
       "      <th>PAY_AMT2</th>\n",
       "      <th>PAY_AMT3</th>\n",
       "      <th>PAY_AMT4</th>\n",
       "      <th>PAY_AMT5</th>\n",
       "      <th>PAY_AMT6</th>\n",
       "    </tr>\n",
       "  </thead>\n",
       "  <tbody>\n",
       "    <tr>\n",
       "      <th>0</th>\n",
       "      <td>-1.136720</td>\n",
       "      <td>2</td>\n",
       "      <td>2</td>\n",
       "      <td>1</td>\n",
       "      <td>-1.246020</td>\n",
       "      <td>2</td>\n",
       "      <td>2</td>\n",
       "      <td>-1</td>\n",
       "      <td>-1</td>\n",
       "      <td>-2</td>\n",
       "      <td>-2</td>\n",
       "      <td>-0.642501</td>\n",
       "      <td>-0.647399</td>\n",
       "      <td>-0.667993</td>\n",
       "      <td>-0.672497</td>\n",
       "      <td>-0.663059</td>\n",
       "      <td>-0.652724</td>\n",
       "      <td>-0.341942</td>\n",
       "      <td>-0.227086</td>\n",
       "      <td>-0.296801</td>\n",
       "      <td>-0.308063</td>\n",
       "      <td>-0.314136</td>\n",
       "      <td>-0.293382</td>\n",
       "    </tr>\n",
       "    <tr>\n",
       "      <th>1</th>\n",
       "      <td>-0.365981</td>\n",
       "      <td>2</td>\n",
       "      <td>2</td>\n",
       "      <td>2</td>\n",
       "      <td>-1.029047</td>\n",
       "      <td>-1</td>\n",
       "      <td>2</td>\n",
       "      <td>0</td>\n",
       "      <td>0</td>\n",
       "      <td>0</td>\n",
       "      <td>2</td>\n",
       "      <td>-0.659219</td>\n",
       "      <td>-0.666747</td>\n",
       "      <td>-0.639254</td>\n",
       "      <td>-0.621636</td>\n",
       "      <td>-0.606229</td>\n",
       "      <td>-0.597966</td>\n",
       "      <td>-0.341942</td>\n",
       "      <td>-0.213588</td>\n",
       "      <td>-0.240005</td>\n",
       "      <td>-0.244230</td>\n",
       "      <td>-0.314136</td>\n",
       "      <td>-0.180878</td>\n",
       "    </tr>\n",
       "    <tr>\n",
       "      <th>2</th>\n",
       "      <td>-0.597202</td>\n",
       "      <td>2</td>\n",
       "      <td>2</td>\n",
       "      <td>2</td>\n",
       "      <td>-0.161156</td>\n",
       "      <td>0</td>\n",
       "      <td>0</td>\n",
       "      <td>0</td>\n",
       "      <td>0</td>\n",
       "      <td>0</td>\n",
       "      <td>0</td>\n",
       "      <td>-0.298560</td>\n",
       "      <td>-0.493899</td>\n",
       "      <td>-0.482408</td>\n",
       "      <td>-0.449730</td>\n",
       "      <td>-0.417188</td>\n",
       "      <td>-0.391630</td>\n",
       "      <td>-0.250292</td>\n",
       "      <td>-0.191887</td>\n",
       "      <td>-0.240005</td>\n",
       "      <td>-0.244230</td>\n",
       "      <td>-0.248683</td>\n",
       "      <td>-0.012122</td>\n",
       "    </tr>\n",
       "    <tr>\n",
       "      <th>3</th>\n",
       "      <td>-0.905498</td>\n",
       "      <td>2</td>\n",
       "      <td>2</td>\n",
       "      <td>1</td>\n",
       "      <td>0.164303</td>\n",
       "      <td>0</td>\n",
       "      <td>0</td>\n",
       "      <td>0</td>\n",
       "      <td>0</td>\n",
       "      <td>0</td>\n",
       "      <td>0</td>\n",
       "      <td>-0.057491</td>\n",
       "      <td>-0.013293</td>\n",
       "      <td>0.032846</td>\n",
       "      <td>-0.232373</td>\n",
       "      <td>-0.186729</td>\n",
       "      <td>-0.156579</td>\n",
       "      <td>-0.221191</td>\n",
       "      <td>-0.169361</td>\n",
       "      <td>-0.228645</td>\n",
       "      <td>-0.237846</td>\n",
       "      <td>-0.244166</td>\n",
       "      <td>-0.237130</td>\n",
       "    </tr>\n",
       "    <tr>\n",
       "      <th>4</th>\n",
       "      <td>-0.905498</td>\n",
       "      <td>1</td>\n",
       "      <td>2</td>\n",
       "      <td>1</td>\n",
       "      <td>2.334029</td>\n",
       "      <td>-1</td>\n",
       "      <td>0</td>\n",
       "      <td>-1</td>\n",
       "      <td>0</td>\n",
       "      <td>0</td>\n",
       "      <td>0</td>\n",
       "      <td>-0.578618</td>\n",
       "      <td>-0.611318</td>\n",
       "      <td>-0.161189</td>\n",
       "      <td>-0.346997</td>\n",
       "      <td>-0.348137</td>\n",
       "      <td>-0.331482</td>\n",
       "      <td>-0.221191</td>\n",
       "      <td>1.335034</td>\n",
       "      <td>0.271165</td>\n",
       "      <td>0.266434</td>\n",
       "      <td>-0.269039</td>\n",
       "      <td>-0.255187</td>\n",
       "    </tr>\n",
       "    <tr>\n",
       "      <th>...</th>\n",
       "      <td>...</td>\n",
       "      <td>...</td>\n",
       "      <td>...</td>\n",
       "      <td>...</td>\n",
       "      <td>...</td>\n",
       "      <td>...</td>\n",
       "      <td>...</td>\n",
       "      <td>...</td>\n",
       "      <td>...</td>\n",
       "      <td>...</td>\n",
       "      <td>...</td>\n",
       "      <td>...</td>\n",
       "      <td>...</td>\n",
       "      <td>...</td>\n",
       "      <td>...</td>\n",
       "      <td>...</td>\n",
       "      <td>...</td>\n",
       "      <td>...</td>\n",
       "      <td>...</td>\n",
       "      <td>...</td>\n",
       "      <td>...</td>\n",
       "      <td>...</td>\n",
       "      <td>...</td>\n",
       "    </tr>\n",
       "    <tr>\n",
       "      <th>29995</th>\n",
       "      <td>0.404759</td>\n",
       "      <td>1</td>\n",
       "      <td>3</td>\n",
       "      <td>1</td>\n",
       "      <td>0.381275</td>\n",
       "      <td>0</td>\n",
       "      <td>0</td>\n",
       "      <td>0</td>\n",
       "      <td>0</td>\n",
       "      <td>0</td>\n",
       "      <td>0</td>\n",
       "      <td>1.870379</td>\n",
       "      <td>2.018136</td>\n",
       "      <td>2.326690</td>\n",
       "      <td>0.695474</td>\n",
       "      <td>-0.149259</td>\n",
       "      <td>-0.384392</td>\n",
       "      <td>0.171250</td>\n",
       "      <td>0.611048</td>\n",
       "      <td>-0.012648</td>\n",
       "      <td>-0.113564</td>\n",
       "      <td>0.013131</td>\n",
       "      <td>-0.237130</td>\n",
       "    </tr>\n",
       "    <tr>\n",
       "      <th>29996</th>\n",
       "      <td>-0.134759</td>\n",
       "      <td>1</td>\n",
       "      <td>3</td>\n",
       "      <td>2</td>\n",
       "      <td>0.815221</td>\n",
       "      <td>-1</td>\n",
       "      <td>-1</td>\n",
       "      <td>-1</td>\n",
       "      <td>-1</td>\n",
       "      <td>0</td>\n",
       "      <td>0</td>\n",
       "      <td>-0.672786</td>\n",
       "      <td>-0.665299</td>\n",
       "      <td>-0.627430</td>\n",
       "      <td>-0.532924</td>\n",
       "      <td>-0.577691</td>\n",
       "      <td>-0.652724</td>\n",
       "      <td>-0.231032</td>\n",
       "      <td>-0.103955</td>\n",
       "      <td>0.214255</td>\n",
       "      <td>-0.299828</td>\n",
       "      <td>-0.314136</td>\n",
       "      <td>-0.293382</td>\n",
       "    </tr>\n",
       "    <tr>\n",
       "      <th>29997</th>\n",
       "      <td>-1.059646</td>\n",
       "      <td>1</td>\n",
       "      <td>2</td>\n",
       "      <td>2</td>\n",
       "      <td>0.164303</td>\n",
       "      <td>4</td>\n",
       "      <td>3</td>\n",
       "      <td>2</td>\n",
       "      <td>-1</td>\n",
       "      <td>0</td>\n",
       "      <td>0</td>\n",
       "      <td>-0.647227</td>\n",
       "      <td>-0.643830</td>\n",
       "      <td>-0.638158</td>\n",
       "      <td>-0.347961</td>\n",
       "      <td>-0.324517</td>\n",
       "      <td>-0.327687</td>\n",
       "      <td>-0.341942</td>\n",
       "      <td>-0.256990</td>\n",
       "      <td>0.952725</td>\n",
       "      <td>-0.039964</td>\n",
       "      <td>-0.183229</td>\n",
       "      <td>-0.119001</td>\n",
       "    </tr>\n",
       "    <tr>\n",
       "      <th>29998</th>\n",
       "      <td>-0.674276</td>\n",
       "      <td>1</td>\n",
       "      <td>3</td>\n",
       "      <td>1</td>\n",
       "      <td>0.598248</td>\n",
       "      <td>1</td>\n",
       "      <td>-1</td>\n",
       "      <td>0</td>\n",
       "      <td>0</td>\n",
       "      <td>0</td>\n",
       "      <td>-1</td>\n",
       "      <td>-0.717982</td>\n",
       "      <td>0.410269</td>\n",
       "      <td>0.422373</td>\n",
       "      <td>0.147844</td>\n",
       "      <td>-0.468063</td>\n",
       "      <td>0.169130</td>\n",
       "      <td>4.844316</td>\n",
       "      <td>-0.109033</td>\n",
       "      <td>-0.229895</td>\n",
       "      <td>-0.185120</td>\n",
       "      <td>3.152536</td>\n",
       "      <td>-0.191904</td>\n",
       "    </tr>\n",
       "    <tr>\n",
       "      <th>29999</th>\n",
       "      <td>-0.905498</td>\n",
       "      <td>1</td>\n",
       "      <td>2</td>\n",
       "      <td>1</td>\n",
       "      <td>1.140680</td>\n",
       "      <td>0</td>\n",
       "      <td>0</td>\n",
       "      <td>0</td>\n",
       "      <td>0</td>\n",
       "      <td>0</td>\n",
       "      <td>0</td>\n",
       "      <td>-0.044739</td>\n",
       "      <td>-0.003851</td>\n",
       "      <td>0.039667</td>\n",
       "      <td>-0.104582</td>\n",
       "      <td>-0.129669</td>\n",
       "      <td>-0.395592</td>\n",
       "      <td>-0.216481</td>\n",
       "      <td>-0.178866</td>\n",
       "      <td>-0.215582</td>\n",
       "      <td>-0.244230</td>\n",
       "      <td>-0.248683</td>\n",
       "      <td>-0.237130</td>\n",
       "    </tr>\n",
       "  </tbody>\n",
       "</table>\n",
       "<p>30000 rows × 23 columns</p>\n",
       "</div>"
      ],
      "text/plain": [
       "       LIMIT_BAL  SEX  EDUCATION  ...  PAY_AMT4  PAY_AMT5  PAY_AMT6\n",
       "0      -1.136720    2          2  ... -0.308063 -0.314136 -0.293382\n",
       "1      -0.365981    2          2  ... -0.244230 -0.314136 -0.180878\n",
       "2      -0.597202    2          2  ... -0.244230 -0.248683 -0.012122\n",
       "3      -0.905498    2          2  ... -0.237846 -0.244166 -0.237130\n",
       "4      -0.905498    1          2  ...  0.266434 -0.269039 -0.255187\n",
       "...          ...  ...        ...  ...       ...       ...       ...\n",
       "29995   0.404759    1          3  ... -0.113564  0.013131 -0.237130\n",
       "29996  -0.134759    1          3  ... -0.299828 -0.314136 -0.293382\n",
       "29997  -1.059646    1          2  ... -0.039964 -0.183229 -0.119001\n",
       "29998  -0.674276    1          3  ... -0.185120  3.152536 -0.191904\n",
       "29999  -0.905498    1          2  ... -0.244230 -0.248683 -0.237130\n",
       "\n",
       "[30000 rows x 23 columns]"
      ]
     },
     "execution_count": 45,
     "metadata": {},
     "output_type": "execute_result"
    }
   ],
   "source": [
    "X"
   ]
  },
  {
   "cell_type": "code",
   "execution_count": 46,
   "id": "8032b234",
   "metadata": {
    "id": "8032b234"
   },
   "outputs": [],
   "source": [
    "ProfileReport(X)"
   ]
  },
  {
   "cell_type": "code",
   "execution_count": 47,
   "id": "2ef7b002",
   "metadata": {
    "id": "2ef7b002"
   },
   "outputs": [],
   "source": [
    "### train_test_split\n",
    "\n",
    "from sklearn.model_selection import train_test_split\n",
    "\n",
    "X_train, X_test, y_train, y_test = train_test_split(X,y,test_size=0.2, random_state=20)"
   ]
  },
  {
   "cell_type": "code",
   "execution_count": 48,
   "id": "e90f3d75",
   "metadata": {
    "colab": {
     "base_uri": "https://localhost:8080/"
    },
    "id": "e90f3d75",
    "outputId": "ae5d33bb-6fb8-4679-e1fe-36d98505c461"
   },
   "outputs": [
    {
     "name": "stdout",
     "output_type": "stream",
     "text": [
      "Shape of X_train is : (24000, 23)\n",
      "Shape of X_test is : (6000, 23)\n",
      "Shape of y_train is : (24000,)\n",
      "Shape of y_test is : (6000,)\n"
     ]
    }
   ],
   "source": [
    "print(f\"Shape of X_train is : {X_train.shape}\")\n",
    "print(f\"Shape of X_test is : {X_test.shape}\")\n",
    "print(f\"Shape of y_train is : {y_train.shape}\")\n",
    "print(f\"Shape of y_test is : {y_test.shape}\")"
   ]
  },
  {
   "cell_type": "markdown",
   "id": "1b9f31ee",
   "metadata": {
    "id": "1b9f31ee"
   },
   "source": [
    "#### Creating different ML classification algorithms Pipeline"
   ]
  },
  {
   "cell_type": "code",
   "execution_count": 49,
   "id": "7c9283e8",
   "metadata": {
    "id": "7c9283e8"
   },
   "outputs": [],
   "source": [
    "import xgboost\n",
    "from sklearn.linear_model import LogisticRegression\n",
    "from sklearn.tree import DecisionTreeClassifier\n",
    "from sklearn.ensemble import RandomForestClassifier\n",
    "from xgboost import XGBClassifier\n",
    "from sklearn.svm import SVC\n",
    "from sklearn.metrics import classification_report, accuracy_score, confusion_matrix, precision_score, recall_score, f1_score"
   ]
  },
  {
   "cell_type": "code",
   "execution_count": 50,
   "id": "1eba8ba7",
   "metadata": {
    "id": "1eba8ba7"
   },
   "outputs": [],
   "source": [
    "algos = [LogisticRegression(), \n",
    "         DecisionTreeClassifier(), \n",
    "         RandomForestClassifier(), \n",
    "         XGBClassifier(), \n",
    "         SVC()]\n",
    "names = [\"Logistic Regression\",\n",
    "         \"DecisionTree Classifier\",\n",
    "         \"RandomForest Classifier\", \n",
    "         \"XGBoost Classifier\", \n",
    "         \"SupportVector Classifier\"]\n",
    "acc = []"
   ]
  },
  {
   "cell_type": "code",
   "execution_count": 51,
   "id": "9a421ecd",
   "metadata": {
    "id": "9a421ecd"
   },
   "outputs": [],
   "source": [
    "for name in algos:\n",
    "    model = name\n",
    "    model.fit(X_train,y_train)\n",
    "    y_pred = model.predict(X_test)\n",
    "    accu = accuracy_score(y_test,y_pred)\n",
    "    acc.append(accu)    "
   ]
  },
  {
   "cell_type": "code",
   "execution_count": 52,
   "id": "64c32f44",
   "metadata": {
    "colab": {
     "base_uri": "https://localhost:8080/"
    },
    "id": "64c32f44",
    "outputId": "125d35d6-1a72-4b98-eca7-680393c63530"
   },
   "outputs": [
    {
     "data": {
      "text/plain": [
       "[0.8085, 0.7183333333333334, 0.8171666666666667, 0.823, 0.8203333333333334]"
      ]
     },
     "execution_count": 52,
     "metadata": {},
     "output_type": "execute_result"
    }
   ],
   "source": [
    "## accuracy scores of different models\n",
    "\n",
    "acc"
   ]
  },
  {
   "cell_type": "code",
   "execution_count": 53,
   "id": "000c40ab",
   "metadata": {
    "colab": {
     "base_uri": "https://localhost:8080/",
     "height": 204
    },
    "id": "000c40ab",
    "outputId": "bfab0ec9-36d6-47f1-f5b4-3b36818159c3"
   },
   "outputs": [
    {
     "data": {
      "text/html": [
       "<div>\n",
       "<style scoped>\n",
       "    .dataframe tbody tr th:only-of-type {\n",
       "        vertical-align: middle;\n",
       "    }\n",
       "\n",
       "    .dataframe tbody tr th {\n",
       "        vertical-align: top;\n",
       "    }\n",
       "\n",
       "    .dataframe thead th {\n",
       "        text-align: right;\n",
       "    }\n",
       "</style>\n",
       "<table border=\"1\" class=\"dataframe\">\n",
       "  <thead>\n",
       "    <tr style=\"text-align: right;\">\n",
       "      <th></th>\n",
       "      <th>Name</th>\n",
       "      <th>Accuracy_Score</th>\n",
       "    </tr>\n",
       "  </thead>\n",
       "  <tbody>\n",
       "    <tr>\n",
       "      <th>0</th>\n",
       "      <td>Logistic Regression</td>\n",
       "      <td>0.808500</td>\n",
       "    </tr>\n",
       "    <tr>\n",
       "      <th>1</th>\n",
       "      <td>DecisionTree Classifier</td>\n",
       "      <td>0.718333</td>\n",
       "    </tr>\n",
       "    <tr>\n",
       "      <th>2</th>\n",
       "      <td>RandomForest Classifier</td>\n",
       "      <td>0.817167</td>\n",
       "    </tr>\n",
       "    <tr>\n",
       "      <th>3</th>\n",
       "      <td>XGBoost Classifier</td>\n",
       "      <td>0.823000</td>\n",
       "    </tr>\n",
       "    <tr>\n",
       "      <th>4</th>\n",
       "      <td>SupportVector Classifier</td>\n",
       "      <td>0.820333</td>\n",
       "    </tr>\n",
       "  </tbody>\n",
       "</table>\n",
       "</div>"
      ],
      "text/plain": [
       "                       Name  Accuracy_Score\n",
       "0       Logistic Regression        0.808500\n",
       "1   DecisionTree Classifier        0.718333\n",
       "2   RandomForest Classifier        0.817167\n",
       "3        XGBoost Classifier        0.823000\n",
       "4  SupportVector Classifier        0.820333"
      ]
     },
     "execution_count": 53,
     "metadata": {},
     "output_type": "execute_result"
    }
   ],
   "source": [
    "evaluation = pd.DataFrame({'Name':names, 'Accuracy_Score':acc})\n",
    "evaluation"
   ]
  },
  {
   "cell_type": "markdown",
   "id": "a2796c51",
   "metadata": {},
   "source": [
    "# Hyparameter Tuning using GridSearchCV"
   ]
  },
  {
   "cell_type": "markdown",
   "id": "59eae35c",
   "metadata": {
    "id": "59eae35c"
   },
   "source": [
    "#### So we are getting more accuracies in XGBoost Classifier\t. We will do hyparameter tuning to increase the model performance"
   ]
  },
  {
   "cell_type": "code",
   "execution_count": 55,
   "id": "54cdea8d",
   "metadata": {
    "id": "54cdea8d"
   },
   "outputs": [],
   "source": [
    "from sklearn.model_selection import GridSearchCV\n",
    "xgb_model= XGBClassifier()"
   ]
  },
  {
   "cell_type": "code",
   "execution_count": 56,
   "id": "8faac726",
   "metadata": {
    "id": "8faac726"
   },
   "outputs": [],
   "source": [
    "params = {\n",
    "    'n_estimators': [100,200,300,400],\n",
    "    'max_depth': [1,2,3,4,5,6],\n",
    "    'eta': [0.1,0.01,0.001,0.0001]\n",
    "}"
   ]
  },
  {
   "cell_type": "code",
   "execution_count": 57,
   "id": "1e4f0ca4",
   "metadata": {
    "colab": {
     "base_uri": "https://localhost:8080/"
    },
    "id": "1e4f0ca4",
    "outputId": "85bdff84-3879-44bf-9833-f8a11e44caa7"
   },
   "outputs": [
    {
     "name": "stdout",
     "output_type": "stream",
     "text": [
      "Fitting 5 folds for each of 96 candidates, totalling 480 fits\n",
      "[CV] eta=0.1, max_depth=1, n_estimators=100 ..........................\n"
     ]
    },
    {
     "name": "stderr",
     "output_type": "stream",
     "text": [
      "[Parallel(n_jobs=1)]: Using backend SequentialBackend with 1 concurrent workers.\n"
     ]
    },
    {
     "name": "stdout",
     "output_type": "stream",
     "text": [
      "[CV] ........... eta=0.1, max_depth=1, n_estimators=100, total=   0.9s\n",
      "[CV] eta=0.1, max_depth=1, n_estimators=100 ..........................\n"
     ]
    },
    {
     "name": "stderr",
     "output_type": "stream",
     "text": [
      "[Parallel(n_jobs=1)]: Done   1 out of   1 | elapsed:    0.9s remaining:    0.0s\n"
     ]
    },
    {
     "name": "stdout",
     "output_type": "stream",
     "text": [
      "[CV] ........... eta=0.1, max_depth=1, n_estimators=100, total=   0.9s\n",
      "[CV] eta=0.1, max_depth=1, n_estimators=100 ..........................\n",
      "[CV] ........... eta=0.1, max_depth=1, n_estimators=100, total=   0.9s\n",
      "[CV] eta=0.1, max_depth=1, n_estimators=100 ..........................\n",
      "[CV] ........... eta=0.1, max_depth=1, n_estimators=100, total=   0.9s\n",
      "[CV] eta=0.1, max_depth=1, n_estimators=100 ..........................\n",
      "[CV] ........... eta=0.1, max_depth=1, n_estimators=100, total=   0.9s\n",
      "[CV] eta=0.1, max_depth=1, n_estimators=200 ..........................\n",
      "[CV] ........... eta=0.1, max_depth=1, n_estimators=200, total=   1.7s\n",
      "[CV] eta=0.1, max_depth=1, n_estimators=200 ..........................\n",
      "[CV] ........... eta=0.1, max_depth=1, n_estimators=200, total=   1.7s\n",
      "[CV] eta=0.1, max_depth=1, n_estimators=200 ..........................\n",
      "[CV] ........... eta=0.1, max_depth=1, n_estimators=200, total=   1.7s\n",
      "[CV] eta=0.1, max_depth=1, n_estimators=200 ..........................\n",
      "[CV] ........... eta=0.1, max_depth=1, n_estimators=200, total=   1.7s\n",
      "[CV] eta=0.1, max_depth=1, n_estimators=200 ..........................\n",
      "[CV] ........... eta=0.1, max_depth=1, n_estimators=200, total=   1.7s\n",
      "[CV] eta=0.1, max_depth=1, n_estimators=300 ..........................\n",
      "[CV] ........... eta=0.1, max_depth=1, n_estimators=300, total=   2.5s\n",
      "[CV] eta=0.1, max_depth=1, n_estimators=300 ..........................\n",
      "[CV] ........... eta=0.1, max_depth=1, n_estimators=300, total=   2.5s\n",
      "[CV] eta=0.1, max_depth=1, n_estimators=300 ..........................\n",
      "[CV] ........... eta=0.1, max_depth=1, n_estimators=300, total=   2.5s\n",
      "[CV] eta=0.1, max_depth=1, n_estimators=300 ..........................\n",
      "[CV] ........... eta=0.1, max_depth=1, n_estimators=300, total=   2.5s\n",
      "[CV] eta=0.1, max_depth=1, n_estimators=300 ..........................\n",
      "[CV] ........... eta=0.1, max_depth=1, n_estimators=300, total=   2.4s\n",
      "[CV] eta=0.1, max_depth=1, n_estimators=400 ..........................\n",
      "[CV] ........... eta=0.1, max_depth=1, n_estimators=400, total=   3.3s\n",
      "[CV] eta=0.1, max_depth=1, n_estimators=400 ..........................\n",
      "[CV] ........... eta=0.1, max_depth=1, n_estimators=400, total=   3.3s\n",
      "[CV] eta=0.1, max_depth=1, n_estimators=400 ..........................\n",
      "[CV] ........... eta=0.1, max_depth=1, n_estimators=400, total=   3.3s\n",
      "[CV] eta=0.1, max_depth=1, n_estimators=400 ..........................\n",
      "[CV] ........... eta=0.1, max_depth=1, n_estimators=400, total=   3.3s\n",
      "[CV] eta=0.1, max_depth=1, n_estimators=400 ..........................\n",
      "[CV] ........... eta=0.1, max_depth=1, n_estimators=400, total=   3.3s\n",
      "[CV] eta=0.1, max_depth=2, n_estimators=100 ..........................\n",
      "[CV] ........... eta=0.1, max_depth=2, n_estimators=100, total=   1.4s\n",
      "[CV] eta=0.1, max_depth=2, n_estimators=100 ..........................\n",
      "[CV] ........... eta=0.1, max_depth=2, n_estimators=100, total=   1.3s\n",
      "[CV] eta=0.1, max_depth=2, n_estimators=100 ..........................\n",
      "[CV] ........... eta=0.1, max_depth=2, n_estimators=100, total=   1.3s\n",
      "[CV] eta=0.1, max_depth=2, n_estimators=100 ..........................\n",
      "[CV] ........... eta=0.1, max_depth=2, n_estimators=100, total=   1.4s\n",
      "[CV] eta=0.1, max_depth=2, n_estimators=100 ..........................\n",
      "[CV] ........... eta=0.1, max_depth=2, n_estimators=100, total=   1.4s\n",
      "[CV] eta=0.1, max_depth=2, n_estimators=200 ..........................\n",
      "[CV] ........... eta=0.1, max_depth=2, n_estimators=200, total=   2.7s\n",
      "[CV] eta=0.1, max_depth=2, n_estimators=200 ..........................\n",
      "[CV] ........... eta=0.1, max_depth=2, n_estimators=200, total=   2.7s\n",
      "[CV] eta=0.1, max_depth=2, n_estimators=200 ..........................\n",
      "[CV] ........... eta=0.1, max_depth=2, n_estimators=200, total=   2.7s\n",
      "[CV] eta=0.1, max_depth=2, n_estimators=200 ..........................\n",
      "[CV] ........... eta=0.1, max_depth=2, n_estimators=200, total=   2.7s\n",
      "[CV] eta=0.1, max_depth=2, n_estimators=200 ..........................\n",
      "[CV] ........... eta=0.1, max_depth=2, n_estimators=200, total=   2.7s\n",
      "[CV] eta=0.1, max_depth=2, n_estimators=300 ..........................\n",
      "[CV] ........... eta=0.1, max_depth=2, n_estimators=300, total=   4.0s\n",
      "[CV] eta=0.1, max_depth=2, n_estimators=300 ..........................\n",
      "[CV] ........... eta=0.1, max_depth=2, n_estimators=300, total=   4.0s\n",
      "[CV] eta=0.1, max_depth=2, n_estimators=300 ..........................\n",
      "[CV] ........... eta=0.1, max_depth=2, n_estimators=300, total=   3.9s\n",
      "[CV] eta=0.1, max_depth=2, n_estimators=300 ..........................\n",
      "[CV] ........... eta=0.1, max_depth=2, n_estimators=300, total=   3.9s\n",
      "[CV] eta=0.1, max_depth=2, n_estimators=300 ..........................\n",
      "[CV] ........... eta=0.1, max_depth=2, n_estimators=300, total=   3.9s\n",
      "[CV] eta=0.1, max_depth=2, n_estimators=400 ..........................\n",
      "[CV] ........... eta=0.1, max_depth=2, n_estimators=400, total=   5.2s\n",
      "[CV] eta=0.1, max_depth=2, n_estimators=400 ..........................\n",
      "[CV] ........... eta=0.1, max_depth=2, n_estimators=400, total=   5.2s\n",
      "[CV] eta=0.1, max_depth=2, n_estimators=400 ..........................\n",
      "[CV] ........... eta=0.1, max_depth=2, n_estimators=400, total=   5.2s\n",
      "[CV] eta=0.1, max_depth=2, n_estimators=400 ..........................\n",
      "[CV] ........... eta=0.1, max_depth=2, n_estimators=400, total=   5.1s\n",
      "[CV] eta=0.1, max_depth=2, n_estimators=400 ..........................\n",
      "[CV] ........... eta=0.1, max_depth=2, n_estimators=400, total=   5.1s\n",
      "[CV] eta=0.1, max_depth=3, n_estimators=100 ..........................\n",
      "[CV] ........... eta=0.1, max_depth=3, n_estimators=100, total=   1.9s\n",
      "[CV] eta=0.1, max_depth=3, n_estimators=100 ..........................\n",
      "[CV] ........... eta=0.1, max_depth=3, n_estimators=100, total=   1.9s\n",
      "[CV] eta=0.1, max_depth=3, n_estimators=100 ..........................\n",
      "[CV] ........... eta=0.1, max_depth=3, n_estimators=100, total=   1.9s\n",
      "[CV] eta=0.1, max_depth=3, n_estimators=100 ..........................\n",
      "[CV] ........... eta=0.1, max_depth=3, n_estimators=100, total=   1.9s\n",
      "[CV] eta=0.1, max_depth=3, n_estimators=100 ..........................\n",
      "[CV] ........... eta=0.1, max_depth=3, n_estimators=100, total=   1.8s\n",
      "[CV] eta=0.1, max_depth=3, n_estimators=200 ..........................\n",
      "[CV] ........... eta=0.1, max_depth=3, n_estimators=200, total=   3.6s\n",
      "[CV] eta=0.1, max_depth=3, n_estimators=200 ..........................\n",
      "[CV] ........... eta=0.1, max_depth=3, n_estimators=200, total=   3.7s\n",
      "[CV] eta=0.1, max_depth=3, n_estimators=200 ..........................\n",
      "[CV] ........... eta=0.1, max_depth=3, n_estimators=200, total=   3.7s\n",
      "[CV] eta=0.1, max_depth=3, n_estimators=200 ..........................\n",
      "[CV] ........... eta=0.1, max_depth=3, n_estimators=200, total=   3.7s\n",
      "[CV] eta=0.1, max_depth=3, n_estimators=200 ..........................\n",
      "[CV] ........... eta=0.1, max_depth=3, n_estimators=200, total=   3.7s\n",
      "[CV] eta=0.1, max_depth=3, n_estimators=300 ..........................\n",
      "[CV] ........... eta=0.1, max_depth=3, n_estimators=300, total=   5.5s\n",
      "[CV] eta=0.1, max_depth=3, n_estimators=300 ..........................\n",
      "[CV] ........... eta=0.1, max_depth=3, n_estimators=300, total=   5.5s\n",
      "[CV] eta=0.1, max_depth=3, n_estimators=300 ..........................\n",
      "[CV] ........... eta=0.1, max_depth=3, n_estimators=300, total=   5.5s\n",
      "[CV] eta=0.1, max_depth=3, n_estimators=300 ..........................\n",
      "[CV] ........... eta=0.1, max_depth=3, n_estimators=300, total=   5.5s\n",
      "[CV] eta=0.1, max_depth=3, n_estimators=300 ..........................\n",
      "[CV] ........... eta=0.1, max_depth=3, n_estimators=300, total=   5.4s\n",
      "[CV] eta=0.1, max_depth=3, n_estimators=400 ..........................\n",
      "[CV] ........... eta=0.1, max_depth=3, n_estimators=400, total=   7.3s\n",
      "[CV] eta=0.1, max_depth=3, n_estimators=400 ..........................\n",
      "[CV] ........... eta=0.1, max_depth=3, n_estimators=400, total=   7.2s\n",
      "[CV] eta=0.1, max_depth=3, n_estimators=400 ..........................\n",
      "[CV] ........... eta=0.1, max_depth=3, n_estimators=400, total=   7.3s\n",
      "[CV] eta=0.1, max_depth=3, n_estimators=400 ..........................\n",
      "[CV] ........... eta=0.1, max_depth=3, n_estimators=400, total=   7.3s\n",
      "[CV] eta=0.1, max_depth=3, n_estimators=400 ..........................\n",
      "[CV] ........... eta=0.1, max_depth=3, n_estimators=400, total=   7.2s\n",
      "[CV] eta=0.1, max_depth=4, n_estimators=100 ..........................\n",
      "[CV] ........... eta=0.1, max_depth=4, n_estimators=100, total=   2.4s\n",
      "[CV] eta=0.1, max_depth=4, n_estimators=100 ..........................\n",
      "[CV] ........... eta=0.1, max_depth=4, n_estimators=100, total=   2.4s\n",
      "[CV] eta=0.1, max_depth=4, n_estimators=100 ..........................\n",
      "[CV] ........... eta=0.1, max_depth=4, n_estimators=100, total=   2.4s\n",
      "[CV] eta=0.1, max_depth=4, n_estimators=100 ..........................\n",
      "[CV] ........... eta=0.1, max_depth=4, n_estimators=100, total=   2.4s\n",
      "[CV] eta=0.1, max_depth=4, n_estimators=100 ..........................\n",
      "[CV] ........... eta=0.1, max_depth=4, n_estimators=100, total=   2.4s\n",
      "[CV] eta=0.1, max_depth=4, n_estimators=200 ..........................\n",
      "[CV] ........... eta=0.1, max_depth=4, n_estimators=200, total=   4.7s\n",
      "[CV] eta=0.1, max_depth=4, n_estimators=200 ..........................\n",
      "[CV] ........... eta=0.1, max_depth=4, n_estimators=200, total=   4.7s\n",
      "[CV] eta=0.1, max_depth=4, n_estimators=200 ..........................\n",
      "[CV] ........... eta=0.1, max_depth=4, n_estimators=200, total=   4.8s\n",
      "[CV] eta=0.1, max_depth=4, n_estimators=200 ..........................\n",
      "[CV] ........... eta=0.1, max_depth=4, n_estimators=200, total=   4.8s\n",
      "[CV] eta=0.1, max_depth=4, n_estimators=200 ..........................\n",
      "[CV] ........... eta=0.1, max_depth=4, n_estimators=200, total=   4.8s\n",
      "[CV] eta=0.1, max_depth=4, n_estimators=300 ..........................\n",
      "[CV] ........... eta=0.1, max_depth=4, n_estimators=300, total=   7.1s\n",
      "[CV] eta=0.1, max_depth=4, n_estimators=300 ..........................\n",
      "[CV] ........... eta=0.1, max_depth=4, n_estimators=300, total=   7.1s\n",
      "[CV] eta=0.1, max_depth=4, n_estimators=300 ..........................\n",
      "[CV] ........... eta=0.1, max_depth=4, n_estimators=300, total=   7.1s\n",
      "[CV] eta=0.1, max_depth=4, n_estimators=300 ..........................\n",
      "[CV] ........... eta=0.1, max_depth=4, n_estimators=300, total=   7.2s\n",
      "[CV] eta=0.1, max_depth=4, n_estimators=300 ..........................\n",
      "[CV] ........... eta=0.1, max_depth=4, n_estimators=300, total=   7.1s\n",
      "[CV] eta=0.1, max_depth=4, n_estimators=400 ..........................\n",
      "[CV] ........... eta=0.1, max_depth=4, n_estimators=400, total=   9.6s\n",
      "[CV] eta=0.1, max_depth=4, n_estimators=400 ..........................\n",
      "[CV] ........... eta=0.1, max_depth=4, n_estimators=400, total=   9.4s\n",
      "[CV] eta=0.1, max_depth=4, n_estimators=400 ..........................\n",
      "[CV] ........... eta=0.1, max_depth=4, n_estimators=400, total=   9.5s\n",
      "[CV] eta=0.1, max_depth=4, n_estimators=400 ..........................\n",
      "[CV] ........... eta=0.1, max_depth=4, n_estimators=400, total=   9.4s\n",
      "[CV] eta=0.1, max_depth=4, n_estimators=400 ..........................\n",
      "[CV] ........... eta=0.1, max_depth=4, n_estimators=400, total=   9.4s\n",
      "[CV] eta=0.1, max_depth=5, n_estimators=100 ..........................\n",
      "[CV] ........... eta=0.1, max_depth=5, n_estimators=100, total=   3.1s\n",
      "[CV] eta=0.1, max_depth=5, n_estimators=100 ..........................\n",
      "[CV] ........... eta=0.1, max_depth=5, n_estimators=100, total=   3.1s\n",
      "[CV] eta=0.1, max_depth=5, n_estimators=100 ..........................\n",
      "[CV] ........... eta=0.1, max_depth=5, n_estimators=100, total=   3.1s\n",
      "[CV] eta=0.1, max_depth=5, n_estimators=100 ..........................\n",
      "[CV] ........... eta=0.1, max_depth=5, n_estimators=100, total=   3.1s\n",
      "[CV] eta=0.1, max_depth=5, n_estimators=100 ..........................\n",
      "[CV] ........... eta=0.1, max_depth=5, n_estimators=100, total=   3.1s\n",
      "[CV] eta=0.1, max_depth=5, n_estimators=200 ..........................\n",
      "[CV] ........... eta=0.1, max_depth=5, n_estimators=200, total=   6.0s\n",
      "[CV] eta=0.1, max_depth=5, n_estimators=200 ..........................\n",
      "[CV] ........... eta=0.1, max_depth=5, n_estimators=200, total=   5.9s\n",
      "[CV] eta=0.1, max_depth=5, n_estimators=200 ..........................\n",
      "[CV] ........... eta=0.1, max_depth=5, n_estimators=200, total=   6.0s\n",
      "[CV] eta=0.1, max_depth=5, n_estimators=200 ..........................\n",
      "[CV] ........... eta=0.1, max_depth=5, n_estimators=200, total=   5.9s\n",
      "[CV] eta=0.1, max_depth=5, n_estimators=200 ..........................\n",
      "[CV] ........... eta=0.1, max_depth=5, n_estimators=200, total=   6.0s\n",
      "[CV] eta=0.1, max_depth=5, n_estimators=300 ..........................\n",
      "[CV] ........... eta=0.1, max_depth=5, n_estimators=300, total=   8.8s\n",
      "[CV] eta=0.1, max_depth=5, n_estimators=300 ..........................\n",
      "[CV] ........... eta=0.1, max_depth=5, n_estimators=300, total=   8.8s\n",
      "[CV] eta=0.1, max_depth=5, n_estimators=300 ..........................\n",
      "[CV] ........... eta=0.1, max_depth=5, n_estimators=300, total=   8.8s\n",
      "[CV] eta=0.1, max_depth=5, n_estimators=300 ..........................\n",
      "[CV] ........... eta=0.1, max_depth=5, n_estimators=300, total=   8.7s\n",
      "[CV] eta=0.1, max_depth=5, n_estimators=300 ..........................\n",
      "[CV] ........... eta=0.1, max_depth=5, n_estimators=300, total=   8.7s\n",
      "[CV] eta=0.1, max_depth=5, n_estimators=400 ..........................\n",
      "[CV] ........... eta=0.1, max_depth=5, n_estimators=400, total=  11.3s\n",
      "[CV] eta=0.1, max_depth=5, n_estimators=400 ..........................\n",
      "[CV] ........... eta=0.1, max_depth=5, n_estimators=400, total=  11.4s\n",
      "[CV] eta=0.1, max_depth=5, n_estimators=400 ..........................\n",
      "[CV] ........... eta=0.1, max_depth=5, n_estimators=400, total=  11.5s\n",
      "[CV] eta=0.1, max_depth=5, n_estimators=400 ..........................\n",
      "[CV] ........... eta=0.1, max_depth=5, n_estimators=400, total=  11.5s\n",
      "[CV] eta=0.1, max_depth=5, n_estimators=400 ..........................\n",
      "[CV] ........... eta=0.1, max_depth=5, n_estimators=400, total=  11.4s\n",
      "[CV] eta=0.1, max_depth=6, n_estimators=100 ..........................\n",
      "[CV] ........... eta=0.1, max_depth=6, n_estimators=100, total=   3.6s\n",
      "[CV] eta=0.1, max_depth=6, n_estimators=100 ..........................\n",
      "[CV] ........... eta=0.1, max_depth=6, n_estimators=100, total=   3.6s\n",
      "[CV] eta=0.1, max_depth=6, n_estimators=100 ..........................\n",
      "[CV] ........... eta=0.1, max_depth=6, n_estimators=100, total=   3.7s\n",
      "[CV] eta=0.1, max_depth=6, n_estimators=100 ..........................\n",
      "[CV] ........... eta=0.1, max_depth=6, n_estimators=100, total=   3.5s\n",
      "[CV] eta=0.1, max_depth=6, n_estimators=100 ..........................\n",
      "[CV] ........... eta=0.1, max_depth=6, n_estimators=100, total=   3.6s\n",
      "[CV] eta=0.1, max_depth=6, n_estimators=200 ..........................\n",
      "[CV] ........... eta=0.1, max_depth=6, n_estimators=200, total=   7.0s\n",
      "[CV] eta=0.1, max_depth=6, n_estimators=200 ..........................\n",
      "[CV] ........... eta=0.1, max_depth=6, n_estimators=200, total=   7.0s\n",
      "[CV] eta=0.1, max_depth=6, n_estimators=200 ..........................\n",
      "[CV] ........... eta=0.1, max_depth=6, n_estimators=200, total=   7.0s\n",
      "[CV] eta=0.1, max_depth=6, n_estimators=200 ..........................\n",
      "[CV] ........... eta=0.1, max_depth=6, n_estimators=200, total=   7.0s\n",
      "[CV] eta=0.1, max_depth=6, n_estimators=200 ..........................\n",
      "[CV] ........... eta=0.1, max_depth=6, n_estimators=200, total=   7.1s\n",
      "[CV] eta=0.1, max_depth=6, n_estimators=300 ..........................\n",
      "[CV] ........... eta=0.1, max_depth=6, n_estimators=300, total=  10.3s\n",
      "[CV] eta=0.1, max_depth=6, n_estimators=300 ..........................\n",
      "[CV] ........... eta=0.1, max_depth=6, n_estimators=300, total=  10.4s\n",
      "[CV] eta=0.1, max_depth=6, n_estimators=300 ..........................\n",
      "[CV] ........... eta=0.1, max_depth=6, n_estimators=300, total=  10.5s\n",
      "[CV] eta=0.1, max_depth=6, n_estimators=300 ..........................\n",
      "[CV] ........... eta=0.1, max_depth=6, n_estimators=300, total=  10.4s\n",
      "[CV] eta=0.1, max_depth=6, n_estimators=300 ..........................\n",
      "[CV] ........... eta=0.1, max_depth=6, n_estimators=300, total=  10.5s\n",
      "[CV] eta=0.1, max_depth=6, n_estimators=400 ..........................\n",
      "[CV] ........... eta=0.1, max_depth=6, n_estimators=400, total=  14.1s\n",
      "[CV] eta=0.1, max_depth=6, n_estimators=400 ..........................\n",
      "[CV] ........... eta=0.1, max_depth=6, n_estimators=400, total=  13.7s\n",
      "[CV] eta=0.1, max_depth=6, n_estimators=400 ..........................\n",
      "[CV] ........... eta=0.1, max_depth=6, n_estimators=400, total=  13.9s\n",
      "[CV] eta=0.1, max_depth=6, n_estimators=400 ..........................\n",
      "[CV] ........... eta=0.1, max_depth=6, n_estimators=400, total=  14.1s\n",
      "[CV] eta=0.1, max_depth=6, n_estimators=400 ..........................\n",
      "[CV] ........... eta=0.1, max_depth=6, n_estimators=400, total=  14.1s\n",
      "[CV] eta=0.01, max_depth=1, n_estimators=100 .........................\n",
      "[CV] .......... eta=0.01, max_depth=1, n_estimators=100, total=   0.8s\n",
      "[CV] eta=0.01, max_depth=1, n_estimators=100 .........................\n",
      "[CV] .......... eta=0.01, max_depth=1, n_estimators=100, total=   0.8s\n",
      "[CV] eta=0.01, max_depth=1, n_estimators=100 .........................\n",
      "[CV] .......... eta=0.01, max_depth=1, n_estimators=100, total=   0.9s\n",
      "[CV] eta=0.01, max_depth=1, n_estimators=100 .........................\n",
      "[CV] .......... eta=0.01, max_depth=1, n_estimators=100, total=   0.8s\n",
      "[CV] eta=0.01, max_depth=1, n_estimators=100 .........................\n",
      "[CV] .......... eta=0.01, max_depth=1, n_estimators=100, total=   0.8s\n",
      "[CV] eta=0.01, max_depth=1, n_estimators=200 .........................\n",
      "[CV] .......... eta=0.01, max_depth=1, n_estimators=200, total=   1.6s\n",
      "[CV] eta=0.01, max_depth=1, n_estimators=200 .........................\n",
      "[CV] .......... eta=0.01, max_depth=1, n_estimators=200, total=   1.6s\n",
      "[CV] eta=0.01, max_depth=1, n_estimators=200 .........................\n",
      "[CV] .......... eta=0.01, max_depth=1, n_estimators=200, total=   1.6s\n",
      "[CV] eta=0.01, max_depth=1, n_estimators=200 .........................\n",
      "[CV] .......... eta=0.01, max_depth=1, n_estimators=200, total=   1.6s\n",
      "[CV] eta=0.01, max_depth=1, n_estimators=200 .........................\n",
      "[CV] .......... eta=0.01, max_depth=1, n_estimators=200, total=   1.6s\n",
      "[CV] eta=0.01, max_depth=1, n_estimators=300 .........................\n",
      "[CV] .......... eta=0.01, max_depth=1, n_estimators=300, total=   2.4s\n",
      "[CV] eta=0.01, max_depth=1, n_estimators=300 .........................\n",
      "[CV] .......... eta=0.01, max_depth=1, n_estimators=300, total=   2.4s\n",
      "[CV] eta=0.01, max_depth=1, n_estimators=300 .........................\n",
      "[CV] .......... eta=0.01, max_depth=1, n_estimators=300, total=   2.4s\n",
      "[CV] eta=0.01, max_depth=1, n_estimators=300 .........................\n",
      "[CV] .......... eta=0.01, max_depth=1, n_estimators=300, total=   2.4s\n",
      "[CV] eta=0.01, max_depth=1, n_estimators=300 .........................\n",
      "[CV] .......... eta=0.01, max_depth=1, n_estimators=300, total=   2.4s\n",
      "[CV] eta=0.01, max_depth=1, n_estimators=400 .........................\n",
      "[CV] .......... eta=0.01, max_depth=1, n_estimators=400, total=   3.2s\n",
      "[CV] eta=0.01, max_depth=1, n_estimators=400 .........................\n",
      "[CV] .......... eta=0.01, max_depth=1, n_estimators=400, total=   3.2s\n",
      "[CV] eta=0.01, max_depth=1, n_estimators=400 .........................\n",
      "[CV] .......... eta=0.01, max_depth=1, n_estimators=400, total=   3.3s\n",
      "[CV] eta=0.01, max_depth=1, n_estimators=400 .........................\n",
      "[CV] .......... eta=0.01, max_depth=1, n_estimators=400, total=   3.2s\n",
      "[CV] eta=0.01, max_depth=1, n_estimators=400 .........................\n",
      "[CV] .......... eta=0.01, max_depth=1, n_estimators=400, total=   3.2s\n",
      "[CV] eta=0.01, max_depth=2, n_estimators=100 .........................\n",
      "[CV] .......... eta=0.01, max_depth=2, n_estimators=100, total=   1.3s\n",
      "[CV] eta=0.01, max_depth=2, n_estimators=100 .........................\n",
      "[CV] .......... eta=0.01, max_depth=2, n_estimators=100, total=   1.3s\n",
      "[CV] eta=0.01, max_depth=2, n_estimators=100 .........................\n",
      "[CV] .......... eta=0.01, max_depth=2, n_estimators=100, total=   1.3s\n",
      "[CV] eta=0.01, max_depth=2, n_estimators=100 .........................\n",
      "[CV] .......... eta=0.01, max_depth=2, n_estimators=100, total=   1.3s\n",
      "[CV] eta=0.01, max_depth=2, n_estimators=100 .........................\n",
      "[CV] .......... eta=0.01, max_depth=2, n_estimators=100, total=   1.3s\n",
      "[CV] eta=0.01, max_depth=2, n_estimators=200 .........................\n",
      "[CV] .......... eta=0.01, max_depth=2, n_estimators=200, total=   2.5s\n",
      "[CV] eta=0.01, max_depth=2, n_estimators=200 .........................\n",
      "[CV] .......... eta=0.01, max_depth=2, n_estimators=200, total=   2.5s\n",
      "[CV] eta=0.01, max_depth=2, n_estimators=200 .........................\n",
      "[CV] .......... eta=0.01, max_depth=2, n_estimators=200, total=   2.5s\n",
      "[CV] eta=0.01, max_depth=2, n_estimators=200 .........................\n",
      "[CV] .......... eta=0.01, max_depth=2, n_estimators=200, total=   2.5s\n",
      "[CV] eta=0.01, max_depth=2, n_estimators=200 .........................\n",
      "[CV] .......... eta=0.01, max_depth=2, n_estimators=200, total=   2.5s\n",
      "[CV] eta=0.01, max_depth=2, n_estimators=300 .........................\n",
      "[CV] .......... eta=0.01, max_depth=2, n_estimators=300, total=   3.8s\n",
      "[CV] eta=0.01, max_depth=2, n_estimators=300 .........................\n",
      "[CV] .......... eta=0.01, max_depth=2, n_estimators=300, total=   3.8s\n",
      "[CV] eta=0.01, max_depth=2, n_estimators=300 .........................\n",
      "[CV] .......... eta=0.01, max_depth=2, n_estimators=300, total=   3.8s\n",
      "[CV] eta=0.01, max_depth=2, n_estimators=300 .........................\n",
      "[CV] .......... eta=0.01, max_depth=2, n_estimators=300, total=   3.8s\n",
      "[CV] eta=0.01, max_depth=2, n_estimators=300 .........................\n",
      "[CV] .......... eta=0.01, max_depth=2, n_estimators=300, total=   3.7s\n",
      "[CV] eta=0.01, max_depth=2, n_estimators=400 .........................\n",
      "[CV] .......... eta=0.01, max_depth=2, n_estimators=400, total=   4.9s\n",
      "[CV] eta=0.01, max_depth=2, n_estimators=400 .........................\n",
      "[CV] .......... eta=0.01, max_depth=2, n_estimators=400, total=   4.9s\n",
      "[CV] eta=0.01, max_depth=2, n_estimators=400 .........................\n",
      "[CV] .......... eta=0.01, max_depth=2, n_estimators=400, total=   5.0s\n",
      "[CV] eta=0.01, max_depth=2, n_estimators=400 .........................\n",
      "[CV] .......... eta=0.01, max_depth=2, n_estimators=400, total=   5.0s\n",
      "[CV] eta=0.01, max_depth=2, n_estimators=400 .........................\n",
      "[CV] .......... eta=0.01, max_depth=2, n_estimators=400, total=   5.1s\n",
      "[CV] eta=0.01, max_depth=3, n_estimators=100 .........................\n",
      "[CV] .......... eta=0.01, max_depth=3, n_estimators=100, total=   1.8s\n",
      "[CV] eta=0.01, max_depth=3, n_estimators=100 .........................\n",
      "[CV] .......... eta=0.01, max_depth=3, n_estimators=100, total=   1.8s\n",
      "[CV] eta=0.01, max_depth=3, n_estimators=100 .........................\n",
      "[CV] .......... eta=0.01, max_depth=3, n_estimators=100, total=   1.8s\n",
      "[CV] eta=0.01, max_depth=3, n_estimators=100 .........................\n",
      "[CV] .......... eta=0.01, max_depth=3, n_estimators=100, total=   1.8s\n",
      "[CV] eta=0.01, max_depth=3, n_estimators=100 .........................\n",
      "[CV] .......... eta=0.01, max_depth=3, n_estimators=100, total=   1.8s\n",
      "[CV] eta=0.01, max_depth=3, n_estimators=200 .........................\n",
      "[CV] .......... eta=0.01, max_depth=3, n_estimators=200, total=   3.6s\n",
      "[CV] eta=0.01, max_depth=3, n_estimators=200 .........................\n",
      "[CV] .......... eta=0.01, max_depth=3, n_estimators=200, total=   3.6s\n",
      "[CV] eta=0.01, max_depth=3, n_estimators=200 .........................\n",
      "[CV] .......... eta=0.01, max_depth=3, n_estimators=200, total=   3.5s\n",
      "[CV] eta=0.01, max_depth=3, n_estimators=200 .........................\n",
      "[CV] .......... eta=0.01, max_depth=3, n_estimators=200, total=   3.5s\n",
      "[CV] eta=0.01, max_depth=3, n_estimators=200 .........................\n",
      "[CV] .......... eta=0.01, max_depth=3, n_estimators=200, total=   3.5s\n",
      "[CV] eta=0.01, max_depth=3, n_estimators=300 .........................\n",
      "[CV] .......... eta=0.01, max_depth=3, n_estimators=300, total=   5.3s\n",
      "[CV] eta=0.01, max_depth=3, n_estimators=300 .........................\n",
      "[CV] .......... eta=0.01, max_depth=3, n_estimators=300, total=   5.2s\n",
      "[CV] eta=0.01, max_depth=3, n_estimators=300 .........................\n",
      "[CV] .......... eta=0.01, max_depth=3, n_estimators=300, total=   5.2s\n",
      "[CV] eta=0.01, max_depth=3, n_estimators=300 .........................\n",
      "[CV] .......... eta=0.01, max_depth=3, n_estimators=300, total=   5.2s\n",
      "[CV] eta=0.01, max_depth=3, n_estimators=300 .........................\n",
      "[CV] .......... eta=0.01, max_depth=3, n_estimators=300, total=   5.2s\n",
      "[CV] eta=0.01, max_depth=3, n_estimators=400 .........................\n",
      "[CV] .......... eta=0.01, max_depth=3, n_estimators=400, total=   6.8s\n",
      "[CV] eta=0.01, max_depth=3, n_estimators=400 .........................\n",
      "[CV] .......... eta=0.01, max_depth=3, n_estimators=400, total=   6.9s\n",
      "[CV] eta=0.01, max_depth=3, n_estimators=400 .........................\n",
      "[CV] .......... eta=0.01, max_depth=3, n_estimators=400, total=   6.8s\n",
      "[CV] eta=0.01, max_depth=3, n_estimators=400 .........................\n",
      "[CV] .......... eta=0.01, max_depth=3, n_estimators=400, total=   6.9s\n",
      "[CV] eta=0.01, max_depth=3, n_estimators=400 .........................\n",
      "[CV] .......... eta=0.01, max_depth=3, n_estimators=400, total=   6.8s\n",
      "[CV] eta=0.01, max_depth=4, n_estimators=100 .........................\n",
      "[CV] .......... eta=0.01, max_depth=4, n_estimators=100, total=   2.3s\n",
      "[CV] eta=0.01, max_depth=4, n_estimators=100 .........................\n",
      "[CV] .......... eta=0.01, max_depth=4, n_estimators=100, total=   2.3s\n",
      "[CV] eta=0.01, max_depth=4, n_estimators=100 .........................\n",
      "[CV] .......... eta=0.01, max_depth=4, n_estimators=100, total=   2.4s\n",
      "[CV] eta=0.01, max_depth=4, n_estimators=100 .........................\n",
      "[CV] .......... eta=0.01, max_depth=4, n_estimators=100, total=   2.4s\n",
      "[CV] eta=0.01, max_depth=4, n_estimators=100 .........................\n",
      "[CV] .......... eta=0.01, max_depth=4, n_estimators=100, total=   2.3s\n",
      "[CV] eta=0.01, max_depth=4, n_estimators=200 .........................\n",
      "[CV] .......... eta=0.01, max_depth=4, n_estimators=200, total=   4.6s\n",
      "[CV] eta=0.01, max_depth=4, n_estimators=200 .........................\n",
      "[CV] .......... eta=0.01, max_depth=4, n_estimators=200, total=   4.6s\n",
      "[CV] eta=0.01, max_depth=4, n_estimators=200 .........................\n",
      "[CV] .......... eta=0.01, max_depth=4, n_estimators=200, total=   4.6s\n",
      "[CV] eta=0.01, max_depth=4, n_estimators=200 .........................\n",
      "[CV] .......... eta=0.01, max_depth=4, n_estimators=200, total=   4.6s\n",
      "[CV] eta=0.01, max_depth=4, n_estimators=200 .........................\n",
      "[CV] .......... eta=0.01, max_depth=4, n_estimators=200, total=   4.6s\n",
      "[CV] eta=0.01, max_depth=4, n_estimators=300 .........................\n",
      "[CV] .......... eta=0.01, max_depth=4, n_estimators=300, total=   6.9s\n",
      "[CV] eta=0.01, max_depth=4, n_estimators=300 .........................\n",
      "[CV] .......... eta=0.01, max_depth=4, n_estimators=300, total=   6.8s\n",
      "[CV] eta=0.01, max_depth=4, n_estimators=300 .........................\n",
      "[CV] .......... eta=0.01, max_depth=4, n_estimators=300, total=   6.7s\n",
      "[CV] eta=0.01, max_depth=4, n_estimators=300 .........................\n",
      "[CV] .......... eta=0.01, max_depth=4, n_estimators=300, total=   6.7s\n",
      "[CV] eta=0.01, max_depth=4, n_estimators=300 .........................\n",
      "[CV] .......... eta=0.01, max_depth=4, n_estimators=300, total=   6.8s\n",
      "[CV] eta=0.01, max_depth=4, n_estimators=400 .........................\n",
      "[CV] .......... eta=0.01, max_depth=4, n_estimators=400, total=   9.1s\n",
      "[CV] eta=0.01, max_depth=4, n_estimators=400 .........................\n",
      "[CV] .......... eta=0.01, max_depth=4, n_estimators=400, total=   9.0s\n",
      "[CV] eta=0.01, max_depth=4, n_estimators=400 .........................\n",
      "[CV] .......... eta=0.01, max_depth=4, n_estimators=400, total=   9.0s\n",
      "[CV] eta=0.01, max_depth=4, n_estimators=400 .........................\n",
      "[CV] .......... eta=0.01, max_depth=4, n_estimators=400, total=   9.0s\n",
      "[CV] eta=0.01, max_depth=4, n_estimators=400 .........................\n",
      "[CV] .......... eta=0.01, max_depth=4, n_estimators=400, total=   9.1s\n",
      "[CV] eta=0.01, max_depth=5, n_estimators=100 .........................\n",
      "[CV] .......... eta=0.01, max_depth=5, n_estimators=100, total=   2.9s\n",
      "[CV] eta=0.01, max_depth=5, n_estimators=100 .........................\n",
      "[CV] .......... eta=0.01, max_depth=5, n_estimators=100, total=   2.9s\n",
      "[CV] eta=0.01, max_depth=5, n_estimators=100 .........................\n",
      "[CV] .......... eta=0.01, max_depth=5, n_estimators=100, total=   3.0s\n",
      "[CV] eta=0.01, max_depth=5, n_estimators=100 .........................\n",
      "[CV] .......... eta=0.01, max_depth=5, n_estimators=100, total=   2.9s\n",
      "[CV] eta=0.01, max_depth=5, n_estimators=100 .........................\n",
      "[CV] .......... eta=0.01, max_depth=5, n_estimators=100, total=   2.9s\n",
      "[CV] eta=0.01, max_depth=5, n_estimators=200 .........................\n",
      "[CV] .......... eta=0.01, max_depth=5, n_estimators=200, total=   5.7s\n",
      "[CV] eta=0.01, max_depth=5, n_estimators=200 .........................\n",
      "[CV] .......... eta=0.01, max_depth=5, n_estimators=200, total=   5.7s\n",
      "[CV] eta=0.01, max_depth=5, n_estimators=200 .........................\n",
      "[CV] .......... eta=0.01, max_depth=5, n_estimators=200, total=   5.8s\n",
      "[CV] eta=0.01, max_depth=5, n_estimators=200 .........................\n",
      "[CV] .......... eta=0.01, max_depth=5, n_estimators=200, total=   5.8s\n",
      "[CV] eta=0.01, max_depth=5, n_estimators=200 .........................\n",
      "[CV] .......... eta=0.01, max_depth=5, n_estimators=200, total=   5.7s\n",
      "[CV] eta=0.01, max_depth=5, n_estimators=300 .........................\n",
      "[CV] .......... eta=0.01, max_depth=5, n_estimators=300, total=   8.5s\n",
      "[CV] eta=0.01, max_depth=5, n_estimators=300 .........................\n",
      "[CV] .......... eta=0.01, max_depth=5, n_estimators=300, total=   8.5s\n",
      "[CV] eta=0.01, max_depth=5, n_estimators=300 .........................\n",
      "[CV] .......... eta=0.01, max_depth=5, n_estimators=300, total=   8.5s\n",
      "[CV] eta=0.01, max_depth=5, n_estimators=300 .........................\n",
      "[CV] .......... eta=0.01, max_depth=5, n_estimators=300, total=   8.5s\n",
      "[CV] eta=0.01, max_depth=5, n_estimators=300 .........................\n",
      "[CV] .......... eta=0.01, max_depth=5, n_estimators=300, total=   8.6s\n",
      "[CV] eta=0.01, max_depth=5, n_estimators=400 .........................\n",
      "[CV] .......... eta=0.01, max_depth=5, n_estimators=400, total=  11.4s\n",
      "[CV] eta=0.01, max_depth=5, n_estimators=400 .........................\n",
      "[CV] .......... eta=0.01, max_depth=5, n_estimators=400, total=  11.4s\n",
      "[CV] eta=0.01, max_depth=5, n_estimators=400 .........................\n",
      "[CV] .......... eta=0.01, max_depth=5, n_estimators=400, total=  11.5s\n",
      "[CV] eta=0.01, max_depth=5, n_estimators=400 .........................\n",
      "[CV] .......... eta=0.01, max_depth=5, n_estimators=400, total=  11.4s\n",
      "[CV] eta=0.01, max_depth=5, n_estimators=400 .........................\n",
      "[CV] .......... eta=0.01, max_depth=5, n_estimators=400, total=  11.4s\n",
      "[CV] eta=0.01, max_depth=6, n_estimators=100 .........................\n",
      "[CV] .......... eta=0.01, max_depth=6, n_estimators=100, total=   3.6s\n",
      "[CV] eta=0.01, max_depth=6, n_estimators=100 .........................\n",
      "[CV] .......... eta=0.01, max_depth=6, n_estimators=100, total=   3.6s\n",
      "[CV] eta=0.01, max_depth=6, n_estimators=100 .........................\n",
      "[CV] .......... eta=0.01, max_depth=6, n_estimators=100, total=   3.7s\n",
      "[CV] eta=0.01, max_depth=6, n_estimators=100 .........................\n",
      "[CV] .......... eta=0.01, max_depth=6, n_estimators=100, total=   3.6s\n",
      "[CV] eta=0.01, max_depth=6, n_estimators=100 .........................\n",
      "[CV] .......... eta=0.01, max_depth=6, n_estimators=100, total=   3.7s\n",
      "[CV] eta=0.01, max_depth=6, n_estimators=200 .........................\n",
      "[CV] .......... eta=0.01, max_depth=6, n_estimators=200, total=   7.0s\n",
      "[CV] eta=0.01, max_depth=6, n_estimators=200 .........................\n",
      "[CV] .......... eta=0.01, max_depth=6, n_estimators=200, total=   7.0s\n",
      "[CV] eta=0.01, max_depth=6, n_estimators=200 .........................\n",
      "[CV] .......... eta=0.01, max_depth=6, n_estimators=200, total=   7.1s\n",
      "[CV] eta=0.01, max_depth=6, n_estimators=200 .........................\n",
      "[CV] .......... eta=0.01, max_depth=6, n_estimators=200, total=   7.1s\n",
      "[CV] eta=0.01, max_depth=6, n_estimators=200 .........................\n",
      "[CV] .......... eta=0.01, max_depth=6, n_estimators=200, total=   7.2s\n",
      "[CV] eta=0.01, max_depth=6, n_estimators=300 .........................\n",
      "[CV] .......... eta=0.01, max_depth=6, n_estimators=300, total=  10.4s\n",
      "[CV] eta=0.01, max_depth=6, n_estimators=300 .........................\n",
      "[CV] .......... eta=0.01, max_depth=6, n_estimators=300, total=  10.6s\n",
      "[CV] eta=0.01, max_depth=6, n_estimators=300 .........................\n",
      "[CV] .......... eta=0.01, max_depth=6, n_estimators=300, total=  10.6s\n",
      "[CV] eta=0.01, max_depth=6, n_estimators=300 .........................\n",
      "[CV] .......... eta=0.01, max_depth=6, n_estimators=300, total=  10.3s\n",
      "[CV] eta=0.01, max_depth=6, n_estimators=300 .........................\n",
      "[CV] .......... eta=0.01, max_depth=6, n_estimators=300, total=  10.5s\n",
      "[CV] eta=0.01, max_depth=6, n_estimators=400 .........................\n",
      "[CV] .......... eta=0.01, max_depth=6, n_estimators=400, total=  14.0s\n",
      "[CV] eta=0.01, max_depth=6, n_estimators=400 .........................\n",
      "[CV] .......... eta=0.01, max_depth=6, n_estimators=400, total=  13.8s\n",
      "[CV] eta=0.01, max_depth=6, n_estimators=400 .........................\n",
      "[CV] .......... eta=0.01, max_depth=6, n_estimators=400, total=  13.9s\n",
      "[CV] eta=0.01, max_depth=6, n_estimators=400 .........................\n",
      "[CV] .......... eta=0.01, max_depth=6, n_estimators=400, total=  13.8s\n",
      "[CV] eta=0.01, max_depth=6, n_estimators=400 .........................\n",
      "[CV] .......... eta=0.01, max_depth=6, n_estimators=400, total=  13.8s\n",
      "[CV] eta=0.001, max_depth=1, n_estimators=100 ........................\n",
      "[CV] ......... eta=0.001, max_depth=1, n_estimators=100, total=   0.8s\n",
      "[CV] eta=0.001, max_depth=1, n_estimators=100 ........................\n",
      "[CV] ......... eta=0.001, max_depth=1, n_estimators=100, total=   0.8s\n",
      "[CV] eta=0.001, max_depth=1, n_estimators=100 ........................\n",
      "[CV] ......... eta=0.001, max_depth=1, n_estimators=100, total=   0.8s\n",
      "[CV] eta=0.001, max_depth=1, n_estimators=100 ........................\n",
      "[CV] ......... eta=0.001, max_depth=1, n_estimators=100, total=   0.8s\n",
      "[CV] eta=0.001, max_depth=1, n_estimators=100 ........................\n",
      "[CV] ......... eta=0.001, max_depth=1, n_estimators=100, total=   0.8s\n",
      "[CV] eta=0.001, max_depth=1, n_estimators=200 ........................\n",
      "[CV] ......... eta=0.001, max_depth=1, n_estimators=200, total=   1.6s\n",
      "[CV] eta=0.001, max_depth=1, n_estimators=200 ........................\n",
      "[CV] ......... eta=0.001, max_depth=1, n_estimators=200, total=   1.6s\n",
      "[CV] eta=0.001, max_depth=1, n_estimators=200 ........................\n",
      "[CV] ......... eta=0.001, max_depth=1, n_estimators=200, total=   1.6s\n",
      "[CV] eta=0.001, max_depth=1, n_estimators=200 ........................\n",
      "[CV] ......... eta=0.001, max_depth=1, n_estimators=200, total=   1.6s\n",
      "[CV] eta=0.001, max_depth=1, n_estimators=200 ........................\n",
      "[CV] ......... eta=0.001, max_depth=1, n_estimators=200, total=   1.6s\n",
      "[CV] eta=0.001, max_depth=1, n_estimators=300 ........................\n",
      "[CV] ......... eta=0.001, max_depth=1, n_estimators=300, total=   2.4s\n",
      "[CV] eta=0.001, max_depth=1, n_estimators=300 ........................\n",
      "[CV] ......... eta=0.001, max_depth=1, n_estimators=300, total=   2.4s\n",
      "[CV] eta=0.001, max_depth=1, n_estimators=300 ........................\n",
      "[CV] ......... eta=0.001, max_depth=1, n_estimators=300, total=   2.4s\n",
      "[CV] eta=0.001, max_depth=1, n_estimators=300 ........................\n",
      "[CV] ......... eta=0.001, max_depth=1, n_estimators=300, total=   2.4s\n",
      "[CV] eta=0.001, max_depth=1, n_estimators=300 ........................\n",
      "[CV] ......... eta=0.001, max_depth=1, n_estimators=300, total=   2.4s\n",
      "[CV] eta=0.001, max_depth=1, n_estimators=400 ........................\n",
      "[CV] ......... eta=0.001, max_depth=1, n_estimators=400, total=   3.1s\n",
      "[CV] eta=0.001, max_depth=1, n_estimators=400 ........................\n",
      "[CV] ......... eta=0.001, max_depth=1, n_estimators=400, total=   3.2s\n",
      "[CV] eta=0.001, max_depth=1, n_estimators=400 ........................\n",
      "[CV] ......... eta=0.001, max_depth=1, n_estimators=400, total=   3.2s\n",
      "[CV] eta=0.001, max_depth=1, n_estimators=400 ........................\n",
      "[CV] ......... eta=0.001, max_depth=1, n_estimators=400, total=   3.2s\n",
      "[CV] eta=0.001, max_depth=1, n_estimators=400 ........................\n",
      "[CV] ......... eta=0.001, max_depth=1, n_estimators=400, total=   3.2s\n",
      "[CV] eta=0.001, max_depth=2, n_estimators=100 ........................\n",
      "[CV] ......... eta=0.001, max_depth=2, n_estimators=100, total=   1.3s\n",
      "[CV] eta=0.001, max_depth=2, n_estimators=100 ........................\n",
      "[CV] ......... eta=0.001, max_depth=2, n_estimators=100, total=   1.3s\n",
      "[CV] eta=0.001, max_depth=2, n_estimators=100 ........................\n",
      "[CV] ......... eta=0.001, max_depth=2, n_estimators=100, total=   1.3s\n",
      "[CV] eta=0.001, max_depth=2, n_estimators=100 ........................\n",
      "[CV] ......... eta=0.001, max_depth=2, n_estimators=100, total=   1.3s\n",
      "[CV] eta=0.001, max_depth=2, n_estimators=100 ........................\n",
      "[CV] ......... eta=0.001, max_depth=2, n_estimators=100, total=   1.3s\n",
      "[CV] eta=0.001, max_depth=2, n_estimators=200 ........................\n",
      "[CV] ......... eta=0.001, max_depth=2, n_estimators=200, total=   2.5s\n",
      "[CV] eta=0.001, max_depth=2, n_estimators=200 ........................\n",
      "[CV] ......... eta=0.001, max_depth=2, n_estimators=200, total=   2.5s\n",
      "[CV] eta=0.001, max_depth=2, n_estimators=200 ........................\n",
      "[CV] ......... eta=0.001, max_depth=2, n_estimators=200, total=   2.6s\n",
      "[CV] eta=0.001, max_depth=2, n_estimators=200 ........................\n",
      "[CV] ......... eta=0.001, max_depth=2, n_estimators=200, total=   2.5s\n",
      "[CV] eta=0.001, max_depth=2, n_estimators=200 ........................\n",
      "[CV] ......... eta=0.001, max_depth=2, n_estimators=200, total=   2.5s\n",
      "[CV] eta=0.001, max_depth=2, n_estimators=300 ........................\n",
      "[CV] ......... eta=0.001, max_depth=2, n_estimators=300, total=   3.8s\n",
      "[CV] eta=0.001, max_depth=2, n_estimators=300 ........................\n",
      "[CV] ......... eta=0.001, max_depth=2, n_estimators=300, total=   3.7s\n",
      "[CV] eta=0.001, max_depth=2, n_estimators=300 ........................\n",
      "[CV] ......... eta=0.001, max_depth=2, n_estimators=300, total=   3.8s\n",
      "[CV] eta=0.001, max_depth=2, n_estimators=300 ........................\n",
      "[CV] ......... eta=0.001, max_depth=2, n_estimators=300, total=   3.7s\n",
      "[CV] eta=0.001, max_depth=2, n_estimators=300 ........................\n",
      "[CV] ......... eta=0.001, max_depth=2, n_estimators=300, total=   3.7s\n",
      "[CV] eta=0.001, max_depth=2, n_estimators=400 ........................\n",
      "[CV] ......... eta=0.001, max_depth=2, n_estimators=400, total=   4.9s\n",
      "[CV] eta=0.001, max_depth=2, n_estimators=400 ........................\n",
      "[CV] ......... eta=0.001, max_depth=2, n_estimators=400, total=   4.9s\n",
      "[CV] eta=0.001, max_depth=2, n_estimators=400 ........................\n",
      "[CV] ......... eta=0.001, max_depth=2, n_estimators=400, total=   4.9s\n",
      "[CV] eta=0.001, max_depth=2, n_estimators=400 ........................\n",
      "[CV] ......... eta=0.001, max_depth=2, n_estimators=400, total=   5.0s\n",
      "[CV] eta=0.001, max_depth=2, n_estimators=400 ........................\n",
      "[CV] ......... eta=0.001, max_depth=2, n_estimators=400, total=   4.9s\n",
      "[CV] eta=0.001, max_depth=3, n_estimators=100 ........................\n",
      "[CV] ......... eta=0.001, max_depth=3, n_estimators=100, total=   1.8s\n",
      "[CV] eta=0.001, max_depth=3, n_estimators=100 ........................\n",
      "[CV] ......... eta=0.001, max_depth=3, n_estimators=100, total=   1.8s\n",
      "[CV] eta=0.001, max_depth=3, n_estimators=100 ........................\n",
      "[CV] ......... eta=0.001, max_depth=3, n_estimators=100, total=   1.8s\n",
      "[CV] eta=0.001, max_depth=3, n_estimators=100 ........................\n",
      "[CV] ......... eta=0.001, max_depth=3, n_estimators=100, total=   1.8s\n",
      "[CV] eta=0.001, max_depth=3, n_estimators=100 ........................\n",
      "[CV] ......... eta=0.001, max_depth=3, n_estimators=100, total=   1.8s\n",
      "[CV] eta=0.001, max_depth=3, n_estimators=200 ........................\n",
      "[CV] ......... eta=0.001, max_depth=3, n_estimators=200, total=   3.5s\n",
      "[CV] eta=0.001, max_depth=3, n_estimators=200 ........................\n",
      "[CV] ......... eta=0.001, max_depth=3, n_estimators=200, total=   3.5s\n",
      "[CV] eta=0.001, max_depth=3, n_estimators=200 ........................\n",
      "[CV] ......... eta=0.001, max_depth=3, n_estimators=200, total=   3.6s\n",
      "[CV] eta=0.001, max_depth=3, n_estimators=200 ........................\n",
      "[CV] ......... eta=0.001, max_depth=3, n_estimators=200, total=   3.6s\n",
      "[CV] eta=0.001, max_depth=3, n_estimators=200 ........................\n",
      "[CV] ......... eta=0.001, max_depth=3, n_estimators=200, total=   3.5s\n",
      "[CV] eta=0.001, max_depth=3, n_estimators=300 ........................\n",
      "[CV] ......... eta=0.001, max_depth=3, n_estimators=300, total=   5.2s\n",
      "[CV] eta=0.001, max_depth=3, n_estimators=300 ........................\n",
      "[CV] ......... eta=0.001, max_depth=3, n_estimators=300, total=   5.2s\n",
      "[CV] eta=0.001, max_depth=3, n_estimators=300 ........................\n",
      "[CV] ......... eta=0.001, max_depth=3, n_estimators=300, total=   5.2s\n",
      "[CV] eta=0.001, max_depth=3, n_estimators=300 ........................\n",
      "[CV] ......... eta=0.001, max_depth=3, n_estimators=300, total=   5.2s\n",
      "[CV] eta=0.001, max_depth=3, n_estimators=300 ........................\n",
      "[CV] ......... eta=0.001, max_depth=3, n_estimators=300, total=   5.2s\n",
      "[CV] eta=0.001, max_depth=3, n_estimators=400 ........................\n",
      "[CV] ......... eta=0.001, max_depth=3, n_estimators=400, total=   6.9s\n",
      "[CV] eta=0.001, max_depth=3, n_estimators=400 ........................\n",
      "[CV] ......... eta=0.001, max_depth=3, n_estimators=400, total=   6.9s\n",
      "[CV] eta=0.001, max_depth=3, n_estimators=400 ........................\n",
      "[CV] ......... eta=0.001, max_depth=3, n_estimators=400, total=   7.0s\n",
      "[CV] eta=0.001, max_depth=3, n_estimators=400 ........................\n",
      "[CV] ......... eta=0.001, max_depth=3, n_estimators=400, total=   6.9s\n",
      "[CV] eta=0.001, max_depth=3, n_estimators=400 ........................\n",
      "[CV] ......... eta=0.001, max_depth=3, n_estimators=400, total=   6.9s\n",
      "[CV] eta=0.001, max_depth=4, n_estimators=100 ........................\n",
      "[CV] ......... eta=0.001, max_depth=4, n_estimators=100, total=   2.3s\n",
      "[CV] eta=0.001, max_depth=4, n_estimators=100 ........................\n",
      "[CV] ......... eta=0.001, max_depth=4, n_estimators=100, total=   2.3s\n",
      "[CV] eta=0.001, max_depth=4, n_estimators=100 ........................\n",
      "[CV] ......... eta=0.001, max_depth=4, n_estimators=100, total=   2.4s\n",
      "[CV] eta=0.001, max_depth=4, n_estimators=100 ........................\n",
      "[CV] ......... eta=0.001, max_depth=4, n_estimators=100, total=   2.3s\n",
      "[CV] eta=0.001, max_depth=4, n_estimators=100 ........................\n",
      "[CV] ......... eta=0.001, max_depth=4, n_estimators=100, total=   2.4s\n",
      "[CV] eta=0.001, max_depth=4, n_estimators=200 ........................\n",
      "[CV] ......... eta=0.001, max_depth=4, n_estimators=200, total=   4.7s\n",
      "[CV] eta=0.001, max_depth=4, n_estimators=200 ........................\n",
      "[CV] ......... eta=0.001, max_depth=4, n_estimators=200, total=   4.5s\n",
      "[CV] eta=0.001, max_depth=4, n_estimators=200 ........................\n",
      "[CV] ......... eta=0.001, max_depth=4, n_estimators=200, total=   4.6s\n",
      "[CV] eta=0.001, max_depth=4, n_estimators=200 ........................\n",
      "[CV] ......... eta=0.001, max_depth=4, n_estimators=200, total=   4.5s\n",
      "[CV] eta=0.001, max_depth=4, n_estimators=200 ........................\n",
      "[CV] ......... eta=0.001, max_depth=4, n_estimators=200, total=   4.5s\n",
      "[CV] eta=0.001, max_depth=4, n_estimators=300 ........................\n",
      "[CV] ......... eta=0.001, max_depth=4, n_estimators=300, total=   6.8s\n",
      "[CV] eta=0.001, max_depth=4, n_estimators=300 ........................\n",
      "[CV] ......... eta=0.001, max_depth=4, n_estimators=300, total=   6.7s\n",
      "[CV] eta=0.001, max_depth=4, n_estimators=300 ........................\n",
      "[CV] ......... eta=0.001, max_depth=4, n_estimators=300, total=   6.8s\n",
      "[CV] eta=0.001, max_depth=4, n_estimators=300 ........................\n",
      "[CV] ......... eta=0.001, max_depth=4, n_estimators=300, total=   6.8s\n",
      "[CV] eta=0.001, max_depth=4, n_estimators=300 ........................\n",
      "[CV] ......... eta=0.001, max_depth=4, n_estimators=300, total=   6.8s\n",
      "[CV] eta=0.001, max_depth=4, n_estimators=400 ........................\n",
      "[CV] ......... eta=0.001, max_depth=4, n_estimators=400, total=   9.0s\n",
      "[CV] eta=0.001, max_depth=4, n_estimators=400 ........................\n",
      "[CV] ......... eta=0.001, max_depth=4, n_estimators=400, total=   9.1s\n",
      "[CV] eta=0.001, max_depth=4, n_estimators=400 ........................\n",
      "[CV] ......... eta=0.001, max_depth=4, n_estimators=400, total=   9.2s\n",
      "[CV] eta=0.001, max_depth=4, n_estimators=400 ........................\n",
      "[CV] ......... eta=0.001, max_depth=4, n_estimators=400, total=   9.1s\n",
      "[CV] eta=0.001, max_depth=4, n_estimators=400 ........................\n",
      "[CV] ......... eta=0.001, max_depth=4, n_estimators=400, total=   9.1s\n",
      "[CV] eta=0.001, max_depth=5, n_estimators=100 ........................\n",
      "[CV] ......... eta=0.001, max_depth=5, n_estimators=100, total=   3.0s\n",
      "[CV] eta=0.001, max_depth=5, n_estimators=100 ........................\n",
      "[CV] ......... eta=0.001, max_depth=5, n_estimators=100, total=   3.0s\n",
      "[CV] eta=0.001, max_depth=5, n_estimators=100 ........................\n",
      "[CV] ......... eta=0.001, max_depth=5, n_estimators=100, total=   3.0s\n",
      "[CV] eta=0.001, max_depth=5, n_estimators=100 ........................\n",
      "[CV] ......... eta=0.001, max_depth=5, n_estimators=100, total=   3.0s\n",
      "[CV] eta=0.001, max_depth=5, n_estimators=100 ........................\n",
      "[CV] ......... eta=0.001, max_depth=5, n_estimators=100, total=   3.1s\n",
      "[CV] eta=0.001, max_depth=5, n_estimators=200 ........................\n",
      "[CV] ......... eta=0.001, max_depth=5, n_estimators=200, total=   5.7s\n",
      "[CV] eta=0.001, max_depth=5, n_estimators=200 ........................\n",
      "[CV] ......... eta=0.001, max_depth=5, n_estimators=200, total=   5.7s\n",
      "[CV] eta=0.001, max_depth=5, n_estimators=200 ........................\n",
      "[CV] ......... eta=0.001, max_depth=5, n_estimators=200, total=   5.8s\n",
      "[CV] eta=0.001, max_depth=5, n_estimators=200 ........................\n",
      "[CV] ......... eta=0.001, max_depth=5, n_estimators=200, total=   5.7s\n",
      "[CV] eta=0.001, max_depth=5, n_estimators=200 ........................\n",
      "[CV] ......... eta=0.001, max_depth=5, n_estimators=200, total=   5.7s\n",
      "[CV] eta=0.001, max_depth=5, n_estimators=300 ........................\n",
      "[CV] ......... eta=0.001, max_depth=5, n_estimators=300, total=   8.4s\n",
      "[CV] eta=0.001, max_depth=5, n_estimators=300 ........................\n",
      "[CV] ......... eta=0.001, max_depth=5, n_estimators=300, total=   8.5s\n",
      "[CV] eta=0.001, max_depth=5, n_estimators=300 ........................\n",
      "[CV] ......... eta=0.001, max_depth=5, n_estimators=300, total=   8.6s\n",
      "[CV] eta=0.001, max_depth=5, n_estimators=300 ........................\n",
      "[CV] ......... eta=0.001, max_depth=5, n_estimators=300, total=   8.6s\n",
      "[CV] eta=0.001, max_depth=5, n_estimators=300 ........................\n",
      "[CV] ......... eta=0.001, max_depth=5, n_estimators=300, total=   8.6s\n",
      "[CV] eta=0.001, max_depth=5, n_estimators=400 ........................\n",
      "[CV] ......... eta=0.001, max_depth=5, n_estimators=400, total=  11.2s\n",
      "[CV] eta=0.001, max_depth=5, n_estimators=400 ........................\n",
      "[CV] ......... eta=0.001, max_depth=5, n_estimators=400, total=  11.3s\n",
      "[CV] eta=0.001, max_depth=5, n_estimators=400 ........................\n",
      "[CV] ......... eta=0.001, max_depth=5, n_estimators=400, total=  11.2s\n",
      "[CV] eta=0.001, max_depth=5, n_estimators=400 ........................\n",
      "[CV] ......... eta=0.001, max_depth=5, n_estimators=400, total=  11.3s\n",
      "[CV] eta=0.001, max_depth=5, n_estimators=400 ........................\n",
      "[CV] ......... eta=0.001, max_depth=5, n_estimators=400, total=  11.3s\n",
      "[CV] eta=0.001, max_depth=6, n_estimators=100 ........................\n",
      "[CV] ......... eta=0.001, max_depth=6, n_estimators=100, total=   3.6s\n",
      "[CV] eta=0.001, max_depth=6, n_estimators=100 ........................\n",
      "[CV] ......... eta=0.001, max_depth=6, n_estimators=100, total=   3.5s\n",
      "[CV] eta=0.001, max_depth=6, n_estimators=100 ........................\n",
      "[CV] ......... eta=0.001, max_depth=6, n_estimators=100, total=   3.6s\n",
      "[CV] eta=0.001, max_depth=6, n_estimators=100 ........................\n",
      "[CV] ......... eta=0.001, max_depth=6, n_estimators=100, total=   3.6s\n",
      "[CV] eta=0.001, max_depth=6, n_estimators=100 ........................\n",
      "[CV] ......... eta=0.001, max_depth=6, n_estimators=100, total=   3.6s\n",
      "[CV] eta=0.001, max_depth=6, n_estimators=200 ........................\n",
      "[CV] ......... eta=0.001, max_depth=6, n_estimators=200, total=   7.0s\n",
      "[CV] eta=0.001, max_depth=6, n_estimators=200 ........................\n",
      "[CV] ......... eta=0.001, max_depth=6, n_estimators=200, total=   6.9s\n",
      "[CV] eta=0.001, max_depth=6, n_estimators=200 ........................\n",
      "[CV] ......... eta=0.001, max_depth=6, n_estimators=200, total=   7.0s\n",
      "[CV] eta=0.001, max_depth=6, n_estimators=200 ........................\n",
      "[CV] ......... eta=0.001, max_depth=6, n_estimators=200, total=   6.8s\n",
      "[CV] eta=0.001, max_depth=6, n_estimators=200 ........................\n",
      "[CV] ......... eta=0.001, max_depth=6, n_estimators=200, total=   7.0s\n",
      "[CV] eta=0.001, max_depth=6, n_estimators=300 ........................\n",
      "[CV] ......... eta=0.001, max_depth=6, n_estimators=300, total=  10.3s\n",
      "[CV] eta=0.001, max_depth=6, n_estimators=300 ........................\n",
      "[CV] ......... eta=0.001, max_depth=6, n_estimators=300, total=  10.3s\n",
      "[CV] eta=0.001, max_depth=6, n_estimators=300 ........................\n",
      "[CV] ......... eta=0.001, max_depth=6, n_estimators=300, total=  10.3s\n",
      "[CV] eta=0.001, max_depth=6, n_estimators=300 ........................\n",
      "[CV] ......... eta=0.001, max_depth=6, n_estimators=300, total=  10.2s\n",
      "[CV] eta=0.001, max_depth=6, n_estimators=300 ........................\n",
      "[CV] ......... eta=0.001, max_depth=6, n_estimators=300, total=  10.4s\n",
      "[CV] eta=0.001, max_depth=6, n_estimators=400 ........................\n",
      "[CV] ......... eta=0.001, max_depth=6, n_estimators=400, total=  13.9s\n",
      "[CV] eta=0.001, max_depth=6, n_estimators=400 ........................\n",
      "[CV] ......... eta=0.001, max_depth=6, n_estimators=400, total=  13.7s\n",
      "[CV] eta=0.001, max_depth=6, n_estimators=400 ........................\n",
      "[CV] ......... eta=0.001, max_depth=6, n_estimators=400, total=  13.8s\n",
      "[CV] eta=0.001, max_depth=6, n_estimators=400 ........................\n",
      "[CV] ......... eta=0.001, max_depth=6, n_estimators=400, total=  13.6s\n",
      "[CV] eta=0.001, max_depth=6, n_estimators=400 ........................\n",
      "[CV] ......... eta=0.001, max_depth=6, n_estimators=400, total=  14.0s\n",
      "[CV] eta=0.0001, max_depth=1, n_estimators=100 .......................\n",
      "[CV] ........ eta=0.0001, max_depth=1, n_estimators=100, total=   0.8s\n",
      "[CV] eta=0.0001, max_depth=1, n_estimators=100 .......................\n",
      "[CV] ........ eta=0.0001, max_depth=1, n_estimators=100, total=   0.8s\n",
      "[CV] eta=0.0001, max_depth=1, n_estimators=100 .......................\n",
      "[CV] ........ eta=0.0001, max_depth=1, n_estimators=100, total=   0.8s\n",
      "[CV] eta=0.0001, max_depth=1, n_estimators=100 .......................\n",
      "[CV] ........ eta=0.0001, max_depth=1, n_estimators=100, total=   0.8s\n",
      "[CV] eta=0.0001, max_depth=1, n_estimators=100 .......................\n",
      "[CV] ........ eta=0.0001, max_depth=1, n_estimators=100, total=   0.8s\n",
      "[CV] eta=0.0001, max_depth=1, n_estimators=200 .......................\n",
      "[CV] ........ eta=0.0001, max_depth=1, n_estimators=200, total=   1.6s\n",
      "[CV] eta=0.0001, max_depth=1, n_estimators=200 .......................\n",
      "[CV] ........ eta=0.0001, max_depth=1, n_estimators=200, total=   1.6s\n",
      "[CV] eta=0.0001, max_depth=1, n_estimators=200 .......................\n",
      "[CV] ........ eta=0.0001, max_depth=1, n_estimators=200, total=   1.6s\n",
      "[CV] eta=0.0001, max_depth=1, n_estimators=200 .......................\n",
      "[CV] ........ eta=0.0001, max_depth=1, n_estimators=200, total=   1.6s\n",
      "[CV] eta=0.0001, max_depth=1, n_estimators=200 .......................\n",
      "[CV] ........ eta=0.0001, max_depth=1, n_estimators=200, total=   1.6s\n",
      "[CV] eta=0.0001, max_depth=1, n_estimators=300 .......................\n",
      "[CV] ........ eta=0.0001, max_depth=1, n_estimators=300, total=   2.4s\n",
      "[CV] eta=0.0001, max_depth=1, n_estimators=300 .......................\n",
      "[CV] ........ eta=0.0001, max_depth=1, n_estimators=300, total=   2.4s\n",
      "[CV] eta=0.0001, max_depth=1, n_estimators=300 .......................\n",
      "[CV] ........ eta=0.0001, max_depth=1, n_estimators=300, total=   2.4s\n",
      "[CV] eta=0.0001, max_depth=1, n_estimators=300 .......................\n",
      "[CV] ........ eta=0.0001, max_depth=1, n_estimators=300, total=   2.4s\n",
      "[CV] eta=0.0001, max_depth=1, n_estimators=300 .......................\n",
      "[CV] ........ eta=0.0001, max_depth=1, n_estimators=300, total=   2.4s\n",
      "[CV] eta=0.0001, max_depth=1, n_estimators=400 .......................\n",
      "[CV] ........ eta=0.0001, max_depth=1, n_estimators=400, total=   3.1s\n",
      "[CV] eta=0.0001, max_depth=1, n_estimators=400 .......................\n",
      "[CV] ........ eta=0.0001, max_depth=1, n_estimators=400, total=   3.2s\n",
      "[CV] eta=0.0001, max_depth=1, n_estimators=400 .......................\n",
      "[CV] ........ eta=0.0001, max_depth=1, n_estimators=400, total=   3.1s\n",
      "[CV] eta=0.0001, max_depth=1, n_estimators=400 .......................\n",
      "[CV] ........ eta=0.0001, max_depth=1, n_estimators=400, total=   3.2s\n",
      "[CV] eta=0.0001, max_depth=1, n_estimators=400 .......................\n",
      "[CV] ........ eta=0.0001, max_depth=1, n_estimators=400, total=   3.1s\n",
      "[CV] eta=0.0001, max_depth=2, n_estimators=100 .......................\n",
      "[CV] ........ eta=0.0001, max_depth=2, n_estimators=100, total=   1.3s\n",
      "[CV] eta=0.0001, max_depth=2, n_estimators=100 .......................\n",
      "[CV] ........ eta=0.0001, max_depth=2, n_estimators=100, total=   1.3s\n",
      "[CV] eta=0.0001, max_depth=2, n_estimators=100 .......................\n",
      "[CV] ........ eta=0.0001, max_depth=2, n_estimators=100, total=   1.3s\n",
      "[CV] eta=0.0001, max_depth=2, n_estimators=100 .......................\n",
      "[CV] ........ eta=0.0001, max_depth=2, n_estimators=100, total=   1.3s\n",
      "[CV] eta=0.0001, max_depth=2, n_estimators=100 .......................\n",
      "[CV] ........ eta=0.0001, max_depth=2, n_estimators=100, total=   1.3s\n",
      "[CV] eta=0.0001, max_depth=2, n_estimators=200 .......................\n",
      "[CV] ........ eta=0.0001, max_depth=2, n_estimators=200, total=   2.5s\n",
      "[CV] eta=0.0001, max_depth=2, n_estimators=200 .......................\n",
      "[CV] ........ eta=0.0001, max_depth=2, n_estimators=200, total=   2.5s\n",
      "[CV] eta=0.0001, max_depth=2, n_estimators=200 .......................\n",
      "[CV] ........ eta=0.0001, max_depth=2, n_estimators=200, total=   2.6s\n",
      "[CV] eta=0.0001, max_depth=2, n_estimators=200 .......................\n",
      "[CV] ........ eta=0.0001, max_depth=2, n_estimators=200, total=   2.6s\n",
      "[CV] eta=0.0001, max_depth=2, n_estimators=200 .......................\n",
      "[CV] ........ eta=0.0001, max_depth=2, n_estimators=200, total=   2.5s\n",
      "[CV] eta=0.0001, max_depth=2, n_estimators=300 .......................\n",
      "[CV] ........ eta=0.0001, max_depth=2, n_estimators=300, total=   3.7s\n",
      "[CV] eta=0.0001, max_depth=2, n_estimators=300 .......................\n",
      "[CV] ........ eta=0.0001, max_depth=2, n_estimators=300, total=   3.7s\n",
      "[CV] eta=0.0001, max_depth=2, n_estimators=300 .......................\n",
      "[CV] ........ eta=0.0001, max_depth=2, n_estimators=300, total=   3.8s\n",
      "[CV] eta=0.0001, max_depth=2, n_estimators=300 .......................\n",
      "[CV] ........ eta=0.0001, max_depth=2, n_estimators=300, total=   3.7s\n",
      "[CV] eta=0.0001, max_depth=2, n_estimators=300 .......................\n",
      "[CV] ........ eta=0.0001, max_depth=2, n_estimators=300, total=   3.7s\n",
      "[CV] eta=0.0001, max_depth=2, n_estimators=400 .......................\n",
      "[CV] ........ eta=0.0001, max_depth=2, n_estimators=400, total=   5.1s\n",
      "[CV] eta=0.0001, max_depth=2, n_estimators=400 .......................\n",
      "[CV] ........ eta=0.0001, max_depth=2, n_estimators=400, total=   5.0s\n",
      "[CV] eta=0.0001, max_depth=2, n_estimators=400 .......................\n",
      "[CV] ........ eta=0.0001, max_depth=2, n_estimators=400, total=   5.0s\n",
      "[CV] eta=0.0001, max_depth=2, n_estimators=400 .......................\n",
      "[CV] ........ eta=0.0001, max_depth=2, n_estimators=400, total=   5.0s\n",
      "[CV] eta=0.0001, max_depth=2, n_estimators=400 .......................\n",
      "[CV] ........ eta=0.0001, max_depth=2, n_estimators=400, total=   5.0s\n",
      "[CV] eta=0.0001, max_depth=3, n_estimators=100 .......................\n",
      "[CV] ........ eta=0.0001, max_depth=3, n_estimators=100, total=   1.8s\n",
      "[CV] eta=0.0001, max_depth=3, n_estimators=100 .......................\n",
      "[CV] ........ eta=0.0001, max_depth=3, n_estimators=100, total=   1.8s\n",
      "[CV] eta=0.0001, max_depth=3, n_estimators=100 .......................\n",
      "[CV] ........ eta=0.0001, max_depth=3, n_estimators=100, total=   1.8s\n",
      "[CV] eta=0.0001, max_depth=3, n_estimators=100 .......................\n",
      "[CV] ........ eta=0.0001, max_depth=3, n_estimators=100, total=   1.8s\n",
      "[CV] eta=0.0001, max_depth=3, n_estimators=100 .......................\n",
      "[CV] ........ eta=0.0001, max_depth=3, n_estimators=100, total=   1.8s\n",
      "[CV] eta=0.0001, max_depth=3, n_estimators=200 .......................\n",
      "[CV] ........ eta=0.0001, max_depth=3, n_estimators=200, total=   3.5s\n",
      "[CV] eta=0.0001, max_depth=3, n_estimators=200 .......................\n",
      "[CV] ........ eta=0.0001, max_depth=3, n_estimators=200, total=   3.5s\n",
      "[CV] eta=0.0001, max_depth=3, n_estimators=200 .......................\n",
      "[CV] ........ eta=0.0001, max_depth=3, n_estimators=200, total=   3.5s\n",
      "[CV] eta=0.0001, max_depth=3, n_estimators=200 .......................\n",
      "[CV] ........ eta=0.0001, max_depth=3, n_estimators=200, total=   3.5s\n",
      "[CV] eta=0.0001, max_depth=3, n_estimators=200 .......................\n",
      "[CV] ........ eta=0.0001, max_depth=3, n_estimators=200, total=   3.5s\n",
      "[CV] eta=0.0001, max_depth=3, n_estimators=300 .......................\n",
      "[CV] ........ eta=0.0001, max_depth=3, n_estimators=300, total=   5.3s\n",
      "[CV] eta=0.0001, max_depth=3, n_estimators=300 .......................\n",
      "[CV] ........ eta=0.0001, max_depth=3, n_estimators=300, total=   5.2s\n",
      "[CV] eta=0.0001, max_depth=3, n_estimators=300 .......................\n",
      "[CV] ........ eta=0.0001, max_depth=3, n_estimators=300, total=   5.3s\n",
      "[CV] eta=0.0001, max_depth=3, n_estimators=300 .......................\n",
      "[CV] ........ eta=0.0001, max_depth=3, n_estimators=300, total=   5.3s\n",
      "[CV] eta=0.0001, max_depth=3, n_estimators=300 .......................\n",
      "[CV] ........ eta=0.0001, max_depth=3, n_estimators=300, total=   5.2s\n",
      "[CV] eta=0.0001, max_depth=3, n_estimators=400 .......................\n",
      "[CV] ........ eta=0.0001, max_depth=3, n_estimators=400, total=   7.0s\n",
      "[CV] eta=0.0001, max_depth=3, n_estimators=400 .......................\n",
      "[CV] ........ eta=0.0001, max_depth=3, n_estimators=400, total=   6.9s\n",
      "[CV] eta=0.0001, max_depth=3, n_estimators=400 .......................\n",
      "[CV] ........ eta=0.0001, max_depth=3, n_estimators=400, total=   7.0s\n",
      "[CV] eta=0.0001, max_depth=3, n_estimators=400 .......................\n",
      "[CV] ........ eta=0.0001, max_depth=3, n_estimators=400, total=   7.2s\n",
      "[CV] eta=0.0001, max_depth=3, n_estimators=400 .......................\n",
      "[CV] ........ eta=0.0001, max_depth=3, n_estimators=400, total=   7.2s\n",
      "[CV] eta=0.0001, max_depth=4, n_estimators=100 .......................\n",
      "[CV] ........ eta=0.0001, max_depth=4, n_estimators=100, total=   2.4s\n",
      "[CV] eta=0.0001, max_depth=4, n_estimators=100 .......................\n",
      "[CV] ........ eta=0.0001, max_depth=4, n_estimators=100, total=   2.4s\n",
      "[CV] eta=0.0001, max_depth=4, n_estimators=100 .......................\n",
      "[CV] ........ eta=0.0001, max_depth=4, n_estimators=100, total=   2.4s\n",
      "[CV] eta=0.0001, max_depth=4, n_estimators=100 .......................\n",
      "[CV] ........ eta=0.0001, max_depth=4, n_estimators=100, total=   2.4s\n",
      "[CV] eta=0.0001, max_depth=4, n_estimators=100 .......................\n",
      "[CV] ........ eta=0.0001, max_depth=4, n_estimators=100, total=   2.4s\n",
      "[CV] eta=0.0001, max_depth=4, n_estimators=200 .......................\n",
      "[CV] ........ eta=0.0001, max_depth=4, n_estimators=200, total=   4.5s\n",
      "[CV] eta=0.0001, max_depth=4, n_estimators=200 .......................\n",
      "[CV] ........ eta=0.0001, max_depth=4, n_estimators=200, total=   4.6s\n",
      "[CV] eta=0.0001, max_depth=4, n_estimators=200 .......................\n",
      "[CV] ........ eta=0.0001, max_depth=4, n_estimators=200, total=   4.6s\n",
      "[CV] eta=0.0001, max_depth=4, n_estimators=200 .......................\n",
      "[CV] ........ eta=0.0001, max_depth=4, n_estimators=200, total=   4.6s\n",
      "[CV] eta=0.0001, max_depth=4, n_estimators=200 .......................\n",
      "[CV] ........ eta=0.0001, max_depth=4, n_estimators=200, total=   4.6s\n",
      "[CV] eta=0.0001, max_depth=4, n_estimators=300 .......................\n",
      "[CV] ........ eta=0.0001, max_depth=4, n_estimators=300, total=   7.0s\n",
      "[CV] eta=0.0001, max_depth=4, n_estimators=300 .......................\n",
      "[CV] ........ eta=0.0001, max_depth=4, n_estimators=300, total=   6.9s\n",
      "[CV] eta=0.0001, max_depth=4, n_estimators=300 .......................\n",
      "[CV] ........ eta=0.0001, max_depth=4, n_estimators=300, total=   7.0s\n",
      "[CV] eta=0.0001, max_depth=4, n_estimators=300 .......................\n",
      "[CV] ........ eta=0.0001, max_depth=4, n_estimators=300, total=   6.9s\n",
      "[CV] eta=0.0001, max_depth=4, n_estimators=300 .......................\n",
      "[CV] ........ eta=0.0001, max_depth=4, n_estimators=300, total=   6.9s\n",
      "[CV] eta=0.0001, max_depth=4, n_estimators=400 .......................\n",
      "[CV] ........ eta=0.0001, max_depth=4, n_estimators=400, total=   9.0s\n",
      "[CV] eta=0.0001, max_depth=4, n_estimators=400 .......................\n",
      "[CV] ........ eta=0.0001, max_depth=4, n_estimators=400, total=   9.2s\n",
      "[CV] eta=0.0001, max_depth=4, n_estimators=400 .......................\n",
      "[CV] ........ eta=0.0001, max_depth=4, n_estimators=400, total=   8.9s\n",
      "[CV] eta=0.0001, max_depth=4, n_estimators=400 .......................\n",
      "[CV] ........ eta=0.0001, max_depth=4, n_estimators=400, total=   8.9s\n",
      "[CV] eta=0.0001, max_depth=4, n_estimators=400 .......................\n",
      "[CV] ........ eta=0.0001, max_depth=4, n_estimators=400, total=   9.0s\n",
      "[CV] eta=0.0001, max_depth=5, n_estimators=100 .......................\n",
      "[CV] ........ eta=0.0001, max_depth=5, n_estimators=100, total=   2.9s\n",
      "[CV] eta=0.0001, max_depth=5, n_estimators=100 .......................\n",
      "[CV] ........ eta=0.0001, max_depth=5, n_estimators=100, total=   2.9s\n",
      "[CV] eta=0.0001, max_depth=5, n_estimators=100 .......................\n",
      "[CV] ........ eta=0.0001, max_depth=5, n_estimators=100, total=   2.9s\n",
      "[CV] eta=0.0001, max_depth=5, n_estimators=100 .......................\n",
      "[CV] ........ eta=0.0001, max_depth=5, n_estimators=100, total=   2.9s\n",
      "[CV] eta=0.0001, max_depth=5, n_estimators=100 .......................\n",
      "[CV] ........ eta=0.0001, max_depth=5, n_estimators=100, total=   3.0s\n",
      "[CV] eta=0.0001, max_depth=5, n_estimators=200 .......................\n",
      "[CV] ........ eta=0.0001, max_depth=5, n_estimators=200, total=   5.7s\n",
      "[CV] eta=0.0001, max_depth=5, n_estimators=200 .......................\n",
      "[CV] ........ eta=0.0001, max_depth=5, n_estimators=200, total=   5.7s\n",
      "[CV] eta=0.0001, max_depth=5, n_estimators=200 .......................\n",
      "[CV] ........ eta=0.0001, max_depth=5, n_estimators=200, total=   5.7s\n",
      "[CV] eta=0.0001, max_depth=5, n_estimators=200 .......................\n",
      "[CV] ........ eta=0.0001, max_depth=5, n_estimators=200, total=   5.7s\n",
      "[CV] eta=0.0001, max_depth=5, n_estimators=200 .......................\n",
      "[CV] ........ eta=0.0001, max_depth=5, n_estimators=200, total=   5.8s\n",
      "[CV] eta=0.0001, max_depth=5, n_estimators=300 .......................\n",
      "[CV] ........ eta=0.0001, max_depth=5, n_estimators=300, total=   8.6s\n",
      "[CV] eta=0.0001, max_depth=5, n_estimators=300 .......................\n",
      "[CV] ........ eta=0.0001, max_depth=5, n_estimators=300, total=   8.4s\n",
      "[CV] eta=0.0001, max_depth=5, n_estimators=300 .......................\n",
      "[CV] ........ eta=0.0001, max_depth=5, n_estimators=300, total=   8.5s\n",
      "[CV] eta=0.0001, max_depth=5, n_estimators=300 .......................\n",
      "[CV] ........ eta=0.0001, max_depth=5, n_estimators=300, total=   8.5s\n",
      "[CV] eta=0.0001, max_depth=5, n_estimators=300 .......................\n",
      "[CV] ........ eta=0.0001, max_depth=5, n_estimators=300, total=   8.5s\n",
      "[CV] eta=0.0001, max_depth=5, n_estimators=400 .......................\n",
      "[CV] ........ eta=0.0001, max_depth=5, n_estimators=400, total=  11.1s\n",
      "[CV] eta=0.0001, max_depth=5, n_estimators=400 .......................\n",
      "[CV] ........ eta=0.0001, max_depth=5, n_estimators=400, total=  11.3s\n",
      "[CV] eta=0.0001, max_depth=5, n_estimators=400 .......................\n",
      "[CV] ........ eta=0.0001, max_depth=5, n_estimators=400, total=  11.2s\n",
      "[CV] eta=0.0001, max_depth=5, n_estimators=400 .......................\n",
      "[CV] ........ eta=0.0001, max_depth=5, n_estimators=400, total=  11.2s\n",
      "[CV] eta=0.0001, max_depth=5, n_estimators=400 .......................\n",
      "[CV] ........ eta=0.0001, max_depth=5, n_estimators=400, total=  11.5s\n",
      "[CV] eta=0.0001, max_depth=6, n_estimators=100 .......................\n",
      "[CV] ........ eta=0.0001, max_depth=6, n_estimators=100, total=   3.6s\n",
      "[CV] eta=0.0001, max_depth=6, n_estimators=100 .......................\n",
      "[CV] ........ eta=0.0001, max_depth=6, n_estimators=100, total=   3.6s\n",
      "[CV] eta=0.0001, max_depth=6, n_estimators=100 .......................\n",
      "[CV] ........ eta=0.0001, max_depth=6, n_estimators=100, total=   3.6s\n",
      "[CV] eta=0.0001, max_depth=6, n_estimators=100 .......................\n",
      "[CV] ........ eta=0.0001, max_depth=6, n_estimators=100, total=   3.5s\n",
      "[CV] eta=0.0001, max_depth=6, n_estimators=100 .......................\n",
      "[CV] ........ eta=0.0001, max_depth=6, n_estimators=100, total=   3.6s\n",
      "[CV] eta=0.0001, max_depth=6, n_estimators=200 .......................\n",
      "[CV] ........ eta=0.0001, max_depth=6, n_estimators=200, total=   7.0s\n",
      "[CV] eta=0.0001, max_depth=6, n_estimators=200 .......................\n",
      "[CV] ........ eta=0.0001, max_depth=6, n_estimators=200, total=   7.1s\n",
      "[CV] eta=0.0001, max_depth=6, n_estimators=200 .......................\n",
      "[CV] ........ eta=0.0001, max_depth=6, n_estimators=200, total=   7.0s\n",
      "[CV] eta=0.0001, max_depth=6, n_estimators=200 .......................\n",
      "[CV] ........ eta=0.0001, max_depth=6, n_estimators=200, total=   6.9s\n",
      "[CV] eta=0.0001, max_depth=6, n_estimators=200 .......................\n",
      "[CV] ........ eta=0.0001, max_depth=6, n_estimators=200, total=   7.0s\n",
      "[CV] eta=0.0001, max_depth=6, n_estimators=300 .......................\n",
      "[CV] ........ eta=0.0001, max_depth=6, n_estimators=300, total=  10.4s\n",
      "[CV] eta=0.0001, max_depth=6, n_estimators=300 .......................\n",
      "[CV] ........ eta=0.0001, max_depth=6, n_estimators=300, total=  10.3s\n",
      "[CV] eta=0.0001, max_depth=6, n_estimators=300 .......................\n",
      "[CV] ........ eta=0.0001, max_depth=6, n_estimators=300, total=  10.4s\n",
      "[CV] eta=0.0001, max_depth=6, n_estimators=300 .......................\n",
      "[CV] ........ eta=0.0001, max_depth=6, n_estimators=300, total=  10.4s\n",
      "[CV] eta=0.0001, max_depth=6, n_estimators=300 .......................\n",
      "[CV] ........ eta=0.0001, max_depth=6, n_estimators=300, total=  10.4s\n",
      "[CV] eta=0.0001, max_depth=6, n_estimators=400 .......................\n",
      "[CV] ........ eta=0.0001, max_depth=6, n_estimators=400, total=  13.7s\n",
      "[CV] eta=0.0001, max_depth=6, n_estimators=400 .......................\n",
      "[CV] ........ eta=0.0001, max_depth=6, n_estimators=400, total=  13.6s\n",
      "[CV] eta=0.0001, max_depth=6, n_estimators=400 .......................\n",
      "[CV] ........ eta=0.0001, max_depth=6, n_estimators=400, total=  13.6s\n",
      "[CV] eta=0.0001, max_depth=6, n_estimators=400 .......................\n",
      "[CV] ........ eta=0.0001, max_depth=6, n_estimators=400, total=  13.7s\n",
      "[CV] eta=0.0001, max_depth=6, n_estimators=400 .......................\n",
      "[CV] ........ eta=0.0001, max_depth=6, n_estimators=400, total=  13.8s\n"
     ]
    },
    {
     "name": "stderr",
     "output_type": "stream",
     "text": [
      "[Parallel(n_jobs=1)]: Done 480 out of 480 | elapsed: 41.7min finished\n"
     ]
    },
    {
     "data": {
      "text/plain": [
       "GridSearchCV(cv=None, error_score=nan,\n",
       "             estimator=XGBClassifier(base_score=0.5, booster='gbtree',\n",
       "                                     colsample_bylevel=1, colsample_bynode=1,\n",
       "                                     colsample_bytree=1, gamma=0,\n",
       "                                     learning_rate=0.1, max_delta_step=0,\n",
       "                                     max_depth=3, min_child_weight=1,\n",
       "                                     missing=None, n_estimators=100, n_jobs=1,\n",
       "                                     nthread=None, objective='binary:logistic',\n",
       "                                     random_state=0, reg_alpha=0, reg_lambda=1,\n",
       "                                     scale_pos_weight=1, seed=None, silent=None,\n",
       "                                     subsample=1, verbosity=1),\n",
       "             iid='deprecated', n_jobs=None,\n",
       "             param_grid={'eta': [0.1, 0.01, 0.001, 0.0001],\n",
       "                         'max_depth': [1, 2, 3, 4, 5, 6],\n",
       "                         'n_estimators': [100, 200, 300, 400]},\n",
       "             pre_dispatch='2*n_jobs', refit=True, return_train_score=False,\n",
       "             scoring=None, verbose=2)"
      ]
     },
     "execution_count": 57,
     "metadata": {},
     "output_type": "execute_result"
    }
   ],
   "source": [
    "cross_val = GridSearchCV(estimator=xgb_model,param_grid=params,verbose=2)\n",
    "cross_val.fit(X_train,y_train)"
   ]
  },
  {
   "cell_type": "code",
   "execution_count": 58,
   "id": "8d1e4c42",
   "metadata": {
    "colab": {
     "base_uri": "https://localhost:8080/"
    },
    "id": "8d1e4c42",
    "outputId": "cd7a82f2-0c4d-419e-f4d0-60e5c6f2990f"
   },
   "outputs": [
    {
     "data": {
      "text/plain": [
       "XGBClassifier(base_score=0.5, booster='gbtree', colsample_bylevel=1,\n",
       "              colsample_bynode=1, colsample_bytree=1, eta=0.1, gamma=0,\n",
       "              learning_rate=0.1, max_delta_step=0, max_depth=2,\n",
       "              min_child_weight=1, missing=None, n_estimators=100, n_jobs=1,\n",
       "              nthread=None, objective='binary:logistic', random_state=0,\n",
       "              reg_alpha=0, reg_lambda=1, scale_pos_weight=1, seed=None,\n",
       "              silent=None, subsample=1, verbosity=1)"
      ]
     },
     "execution_count": 58,
     "metadata": {},
     "output_type": "execute_result"
    }
   ],
   "source": [
    "cross_val.best_estimator_"
   ]
  },
  {
   "cell_type": "code",
   "execution_count": 59,
   "id": "xA5vKhUkC8jY",
   "metadata": {
    "colab": {
     "base_uri": "https://localhost:8080/"
    },
    "id": "xA5vKhUkC8jY",
    "outputId": "8be16fde-9c2b-45c2-a701-4f7b38aa9300"
   },
   "outputs": [
    {
     "data": {
      "text/plain": [
       "{'eta': 0.1, 'max_depth': 2, 'n_estimators': 100}"
      ]
     },
     "execution_count": 59,
     "metadata": {},
     "output_type": "execute_result"
    }
   ],
   "source": [
    "## getting the best parameters\n",
    "\n",
    "cross_val.best_params_"
   ]
  },
  {
   "cell_type": "code",
   "execution_count": 91,
   "id": "-Xjk0Hx5CrfX",
   "metadata": {
    "colab": {
     "base_uri": "https://localhost:8080/"
    },
    "id": "-Xjk0Hx5CrfX",
    "outputId": "16ae8122-7731-42d5-ce6c-e87e37c68178"
   },
   "outputs": [
    {
     "data": {
      "text/plain": [
       "XGBClassifier(base_score=0.5, booster='gbtree', colsample_bylevel=1,\n",
       "              colsample_bynode=1, colsample_bytree=1, eta=0.1, gamma=0,\n",
       "              learning_rate=0.1, max_delta_step=0, max_depth=3,\n",
       "              min_child_weight=1, missing=None, n_estimators=200, n_jobs=1,\n",
       "              nthread=None, objective='binary:logistic', random_state=0,\n",
       "              reg_alpha=0, reg_lambda=1, scale_pos_weight=1, seed=None,\n",
       "              silent=None, subsample=1, verbosity=1)"
      ]
     },
     "execution_count": 91,
     "metadata": {},
     "output_type": "execute_result"
    }
   ],
   "source": [
    "model1 = XGBClassifier(eta=0.1, max_depth=3, n_estimators=200)\n",
    "model1.fit(X_train,y_train)"
   ]
  },
  {
   "cell_type": "code",
   "execution_count": 92,
   "id": "gQXqieE7DLAi",
   "metadata": {
    "id": "gQXqieE7DLAi"
   },
   "outputs": [],
   "source": [
    "y_pred1 = model1.predict(X_test)"
   ]
  },
  {
   "cell_type": "code",
   "execution_count": 93,
   "id": "MPVgQM_1Deis",
   "metadata": {
    "colab": {
     "base_uri": "https://localhost:8080/"
    },
    "id": "MPVgQM_1Deis",
    "outputId": "2b7ece5d-c218-4798-bd34-157644a59ee0"
   },
   "outputs": [
    {
     "data": {
      "text/plain": [
       "0.8235"
      ]
     },
     "execution_count": 93,
     "metadata": {},
     "output_type": "execute_result"
    }
   ],
   "source": [
    "accuracy_score(y_test,y_pred1)"
   ]
  },
  {
   "cell_type": "code",
   "execution_count": 94,
   "id": "Gm7bqIowDj5l",
   "metadata": {
    "colab": {
     "base_uri": "https://localhost:8080/"
    },
    "id": "Gm7bqIowDj5l",
    "outputId": "260231ea-1a30-43a9-9fbd-52a1905c6ed6"
   },
   "outputs": [
    {
     "data": {
      "text/plain": [
       "array([0, 0, 0, ..., 0, 0, 0])"
      ]
     },
     "execution_count": 94,
     "metadata": {},
     "output_type": "execute_result"
    }
   ],
   "source": [
    "y_pred1"
   ]
  },
  {
   "cell_type": "code",
   "execution_count": 95,
   "id": "w9rKxF0rDvrM",
   "metadata": {
    "colab": {
     "base_uri": "https://localhost:8080/"
    },
    "id": "w9rKxF0rDvrM",
    "outputId": "e9357bce-0916-496c-cb53-aeb5f26eef7a"
   },
   "outputs": [
    {
     "data": {
      "text/plain": [
       "4455     0\n",
       "670      0\n",
       "8994     0\n",
       "16732    0\n",
       "21985    1\n",
       "        ..\n",
       "1983     1\n",
       "23406    0\n",
       "28175    1\n",
       "21472    0\n",
       "5400     0\n",
       "Name: default, Length: 6000, dtype: int64"
      ]
     },
     "execution_count": 95,
     "metadata": {},
     "output_type": "execute_result"
    }
   ],
   "source": [
    "y_test"
   ]
  },
  {
   "cell_type": "markdown",
   "id": "bf599419",
   "metadata": {},
   "source": [
    "# Model Performance testing using different metrices"
   ]
  },
  {
   "cell_type": "code",
   "execution_count": 96,
   "id": "WWtDiVl_DxXk",
   "metadata": {
    "colab": {
     "base_uri": "https://localhost:8080/"
    },
    "id": "WWtDiVl_DxXk",
    "outputId": "1c06db55-7391-40c3-8e9e-683fb9f01bf7"
   },
   "outputs": [
    {
     "name": "stdout",
     "output_type": "stream",
     "text": [
      "Score on training set :  0.82775\n",
      "Score on testing set :  0.8235\n"
     ]
    }
   ],
   "source": [
    "print(\"Score on training set : \", model1.score(X_train,y_train))\n",
    "print(\"Score on testing set : \",model1.score(X_test, y_test))"
   ]
  },
  {
   "cell_type": "code",
   "execution_count": 104,
   "id": "rrf8jI46vxge",
   "metadata": {
    "colab": {
     "base_uri": "https://localhost:8080/",
     "height": 69
    },
    "id": "rrf8jI46vxge",
    "outputId": "07ce8ba8-4acf-4c70-9c6f-070235a60201"
   },
   "outputs": [
    {
     "data": {
      "application/vnd.google.colaboratory.intrinsic+json": {
       "type": "string"
      },
      "text/plain": [
       "'              precision    recall  f1-score   support\\n\\n           0       0.84      0.95      0.89      4663\\n           1       0.69      0.38      0.49      1337\\n\\n    accuracy                           0.82      6000\\n   macro avg       0.76      0.67      0.69      6000\\nweighted avg       0.81      0.82      0.80      6000\\n'"
      ]
     },
     "execution_count": 104,
     "metadata": {},
     "output_type": "execute_result"
    }
   ],
   "source": [
    "## classification report\n",
    "\n",
    "classification_report(y_test,y_pred1)"
   ]
  },
  {
   "cell_type": "code",
   "execution_count": 105,
   "id": "-JMnNTU0wfHD",
   "metadata": {
    "colab": {
     "base_uri": "https://localhost:8080/"
    },
    "id": "-JMnNTU0wfHD",
    "outputId": "c630e3e6-d42a-41fd-fabd-d36dfe78ced8"
   },
   "outputs": [
    {
     "data": {
      "text/plain": [
       "0.6868279569892473"
      ]
     },
     "execution_count": 105,
     "metadata": {},
     "output_type": "execute_result"
    }
   ],
   "source": [
    "## precision score\n",
    "\n",
    "precision_score(y_test,y_pred1)"
   ]
  },
  {
   "cell_type": "code",
   "execution_count": 103,
   "id": "UYjS_Ya4D6h6",
   "metadata": {
    "colab": {
     "base_uri": "https://localhost:8080/"
    },
    "id": "UYjS_Ya4D6h6",
    "outputId": "3e5f1ba1-901f-4492-8a51-492b8ada9369"
   },
   "outputs": [
    {
     "data": {
      "text/plain": [
       "0.38219895287958117"
      ]
     },
     "execution_count": 103,
     "metadata": {},
     "output_type": "execute_result"
    }
   ],
   "source": [
    "## recall score\n",
    "\n",
    "recall_score(y_test,y_pred1)"
   ]
  },
  {
   "cell_type": "code",
   "execution_count": 106,
   "id": "4OnrR-4bwkdg",
   "metadata": {
    "id": "4OnrR-4bwkdg"
   },
   "outputs": [],
   "source": [
    "from sklearn.metrics import roc_auc_score"
   ]
  },
  {
   "cell_type": "code",
   "execution_count": 107,
   "id": "FP2Ktrzkwx68",
   "metadata": {
    "colab": {
     "base_uri": "https://localhost:8080/"
    },
    "id": "FP2Ktrzkwx68",
    "outputId": "d6bd8939-a410-434f-b37a-3ed9d2ef957b"
   },
   "outputs": [
    {
     "data": {
      "text/plain": [
       "0.6661155605058425"
      ]
     },
     "execution_count": 107,
     "metadata": {},
     "output_type": "execute_result"
    }
   ],
   "source": [
    "roc_auc_score(y_test, y_pred1)"
   ]
  },
  {
   "cell_type": "markdown",
   "id": "ec62ce91",
   "metadata": {
    "id": "k2B85QJexePD"
   },
   "source": [
    "# Saving the model"
   ]
  },
  {
   "cell_type": "code",
   "execution_count": 112,
   "id": "qcmJFgnvD_fh",
   "metadata": {
    "colab": {
     "base_uri": "https://localhost:8080/"
    },
    "id": "qcmJFgnvD_fh",
    "outputId": "7cabb618-de50-4e25-a587-0cccd1d92ba4"
   },
   "outputs": [
    {
     "data": {
      "text/plain": [
       "4455     0\n",
       "670      0\n",
       "8994     0\n",
       "16732    0\n",
       "21985    1\n",
       "        ..\n",
       "1983     1\n",
       "23406    0\n",
       "28175    1\n",
       "21472    0\n",
       "5400     0\n",
       "Name: default, Length: 6000, dtype: int64"
      ]
     },
     "execution_count": 112,
     "metadata": {},
     "output_type": "execute_result"
    }
   ],
   "source": [
    "y_test"
   ]
  },
  {
   "cell_type": "code",
   "execution_count": 113,
   "id": "8zH1iOueEE68",
   "metadata": {
    "id": "8zH1iOueEE68"
   },
   "outputs": [],
   "source": [
    "file_name = \"credit_xgb.sav\""
   ]
  },
  {
   "cell_type": "code",
   "execution_count": 3,
   "id": "lH6KzfWVEQnT",
   "metadata": {
    "colab": {
     "base_uri": "https://localhost:8080/"
    },
    "id": "lH6KzfWVEQnT",
    "outputId": "d44ec50f-6916-4ee5-f14c-06384485c636"
   },
   "outputs": [
    {
     "name": "stdout",
     "output_type": "stream",
     "text": [
      "Model saved successfilly in the directory\n"
     ]
    }
   ],
   "source": [
    "import pickle\n",
    "pickle.dump(model, open(file_name,'wb'))\n",
    "print(\"Model saved successfilly in the directory\")"
   ]
  },
  {
   "cell_type": "markdown",
   "id": "d083581b",
   "metadata": {
    "id": "29V6yqg7xmx-"
   },
   "source": [
    "# Testing the model"
   ]
  },
  {
   "cell_type": "code",
   "execution_count": 115,
   "id": "-Y3zYO_KESHj",
   "metadata": {
    "id": "-Y3zYO_KESHj"
   },
   "outputs": [],
   "source": [
    "## Load the model\n",
    "\n",
    "load_mod = pickle.load(open(file_name,'rb'))"
   ]
  },
  {
   "cell_type": "code",
   "execution_count": 117,
   "id": "_ezWGo0dE3ev",
   "metadata": {
    "colab": {
     "base_uri": "https://localhost:8080/"
    },
    "id": "_ezWGo0dE3ev",
    "outputId": "7cae9ce1-e72b-4259-8060-cb88f1e0af50"
   },
   "outputs": [
    {
     "data": {
      "text/plain": [
       "23"
      ]
     },
     "execution_count": 117,
     "metadata": {},
     "output_type": "execute_result"
    }
   ],
   "source": [
    "len(X.columns)"
   ]
  },
  {
   "cell_type": "code",
   "execution_count": 118,
   "id": "YhCOR_7XEX-s",
   "metadata": {
    "colab": {
     "base_uri": "https://localhost:8080/"
    },
    "id": "YhCOR_7XEX-s",
    "outputId": "aebd7c5f-388e-4815-f5c2-49c4e07ead1d"
   },
   "outputs": [
    {
     "data": {
      "text/plain": [
       "array([0])"
      ]
     },
     "execution_count": 118,
     "metadata": {},
     "output_type": "execute_result"
    }
   ],
   "source": [
    "## testing with new data\n",
    "\n",
    "load_mod.predict([[10000,2,2,2,28,5,2,3,2,5,-2,10000,10000,10000,10000,10000,10000,10000,10000,10000,10000,10000,10000]])"
   ]
  },
  {
   "cell_type": "code",
   "execution_count": 120,
   "id": "jUDDD2qfEx-j",
   "metadata": {
    "colab": {
     "base_uri": "https://localhost:8080/"
    },
    "id": "jUDDD2qfEx-j",
    "outputId": "0fea315d-118f-4a33-ab41-bba33b865a68"
   },
   "outputs": [
    {
     "data": {
      "text/plain": [
       "array([0])"
      ]
     },
     "execution_count": 120,
     "metadata": {},
     "output_type": "execute_result"
    }
   ],
   "source": [
    "## testing with new data\n",
    "\n",
    "load_mod.predict([[5265,1,1,1,50,3,1,3,-2,5,-2,3232,64646,56,565,98965,211,212,46,56622,88,233,7878]])"
   ]
  },
  {
   "cell_type": "code",
   "execution_count": null,
   "id": "lX1qon4Ex5-5",
   "metadata": {
    "id": "lX1qon4Ex5-5"
   },
   "outputs": [],
   "source": []
  }
 ],
 "metadata": {
  "colab": {
   "name": "Credit_Card_Default_Prediction.ipynb",
   "provenance": []
  },
  "kernelspec": {
   "display_name": "Python 3",
   "language": "python",
   "name": "python3"
  },
  "language_info": {
   "codemirror_mode": {
    "name": "ipython",
    "version": 3
   },
   "file_extension": ".py",
   "mimetype": "text/x-python",
   "name": "python",
   "nbconvert_exporter": "python",
   "pygments_lexer": "ipython3",
   "version": "3.8.8"
  }
 },
 "nbformat": 4,
 "nbformat_minor": 5
}
